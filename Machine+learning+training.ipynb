{
 "cells": [
  {
   "cell_type": "code",
   "execution_count": 1,
   "metadata": {
    "collapsed": false
   },
   "outputs": [
    {
     "data": {
      "text/html": [
       "<div>\n",
       "<table border=\"1\" class=\"dataframe\">\n",
       "  <thead>\n",
       "    <tr style=\"text-align: right;\">\n",
       "      <th></th>\n",
       "      <th>fruit_label</th>\n",
       "      <th>fruit_name</th>\n",
       "      <th>fruit_subtype</th>\n",
       "      <th>mass</th>\n",
       "      <th>width</th>\n",
       "      <th>height</th>\n",
       "      <th>color_score</th>\n",
       "    </tr>\n",
       "  </thead>\n",
       "  <tbody>\n",
       "    <tr>\n",
       "      <th>0</th>\n",
       "      <td>1</td>\n",
       "      <td>apple</td>\n",
       "      <td>granny_smith</td>\n",
       "      <td>192</td>\n",
       "      <td>8.4</td>\n",
       "      <td>7.3</td>\n",
       "      <td>0.55</td>\n",
       "    </tr>\n",
       "    <tr>\n",
       "      <th>1</th>\n",
       "      <td>1</td>\n",
       "      <td>apple</td>\n",
       "      <td>granny_smith</td>\n",
       "      <td>180</td>\n",
       "      <td>8.0</td>\n",
       "      <td>6.8</td>\n",
       "      <td>0.59</td>\n",
       "    </tr>\n",
       "    <tr>\n",
       "      <th>2</th>\n",
       "      <td>1</td>\n",
       "      <td>apple</td>\n",
       "      <td>granny_smith</td>\n",
       "      <td>176</td>\n",
       "      <td>7.4</td>\n",
       "      <td>7.2</td>\n",
       "      <td>0.60</td>\n",
       "    </tr>\n",
       "    <tr>\n",
       "      <th>3</th>\n",
       "      <td>2</td>\n",
       "      <td>mandarin</td>\n",
       "      <td>mandarin</td>\n",
       "      <td>86</td>\n",
       "      <td>6.2</td>\n",
       "      <td>4.7</td>\n",
       "      <td>0.80</td>\n",
       "    </tr>\n",
       "    <tr>\n",
       "      <th>4</th>\n",
       "      <td>2</td>\n",
       "      <td>mandarin</td>\n",
       "      <td>mandarin</td>\n",
       "      <td>84</td>\n",
       "      <td>6.0</td>\n",
       "      <td>4.6</td>\n",
       "      <td>0.79</td>\n",
       "    </tr>\n",
       "  </tbody>\n",
       "</table>\n",
       "</div>"
      ],
      "text/plain": [
       "   fruit_label fruit_name fruit_subtype  mass  width  height  color_score\n",
       "0            1      apple  granny_smith   192    8.4     7.3         0.55\n",
       "1            1      apple  granny_smith   180    8.0     6.8         0.59\n",
       "2            1      apple  granny_smith   176    7.4     7.2         0.60\n",
       "3            2   mandarin      mandarin    86    6.2     4.7         0.80\n",
       "4            2   mandarin      mandarin    84    6.0     4.6         0.79"
      ]
     },
     "execution_count": 1,
     "metadata": {},
     "output_type": "execute_result"
    }
   ],
   "source": [
    "import numpy as np\n",
    "import pandas as pd\n",
    "import seaborn as sns\n",
    "import matplotlib.pyplot as plt\n",
    "\n",
    "from sklearn.model_selection import train_test_split\n",
    "from sklearn.neighbors import KNeighborsClassifier\n",
    "from sklearn.preprocessing import MinMaxScaler\n",
    "\n",
    "\n",
    "fruits = pd.read_table('readonly/fruit_data_with_colors.txt')\n",
    "\n",
    "fruits.head()"
   ]
  },
  {
   "cell_type": "code",
   "execution_count": 15,
   "metadata": {
    "collapsed": false
   },
   "outputs": [
    {
     "data": {
      "text/plain": [
       "['a', 'e', 'i']"
      ]
     },
     "execution_count": 15,
     "metadata": {},
     "output_type": "execute_result"
    }
   ],
   "source": [
    "b = ['a','b','c','d','e','f','g','h','i','j']\n",
    "b[0::4]"
   ]
  },
  {
   "cell_type": "code",
   "execution_count": 8,
   "metadata": {
    "collapsed": false
   },
   "outputs": [
    {
     "data": {
      "text/plain": [
       "(5, 10)"
      ]
     },
     "execution_count": 8,
     "metadata": {},
     "output_type": "execute_result"
    }
   ],
   "source": [
    "x = np.linspace(-3, 3, 50).reshape(5,-1)\n",
    "x.shape"
   ]
  },
  {
   "cell_type": "code",
   "execution_count": 2,
   "metadata": {
    "collapsed": false
   },
   "outputs": [
    {
     "data": {
      "text/plain": [
       "Index(['fruit_label', 'fruit_name', 'fruit_subtype', 'mass', 'width', 'height',\n",
       "       'color_score'],\n",
       "      dtype='object')"
      ]
     },
     "execution_count": 2,
     "metadata": {},
     "output_type": "execute_result"
    }
   ],
   "source": [
    "fruits.columns"
   ]
  },
  {
   "cell_type": "code",
   "execution_count": 3,
   "metadata": {
    "collapsed": false
   },
   "outputs": [
    {
     "data": {
      "text/plain": [
       "array(['apple', 'mandarin', 'orange', 'lemon'], dtype=object)"
      ]
     },
     "execution_count": 3,
     "metadata": {},
     "output_type": "execute_result"
    }
   ],
   "source": [
    "fruits['fruit_name'].unique()"
   ]
  },
  {
   "cell_type": "code",
   "execution_count": 12,
   "metadata": {
    "collapsed": false
   },
   "outputs": [
    {
     "name": "stdout",
     "output_type": "stream",
     "text": [
      "Accuracy of K-NN classifier on training set: 0.95\n",
      "Accuracy of K-NN classifier on training set: 1.00\n"
     ]
    }
   ],
   "source": [
    "X_fruits = fruits[['mass', 'width', 'height','color_score']]\n",
    "y_fruits = fruits['fruit_label']\n",
    "target_names_of_fruits = [['apple', 'mandarin', 'orange', 'lemon']]\n",
    "\n",
    "\n",
    "X_fruits_2D = fruits[['height','width']]\n",
    "y_fruits_2D = fruits['fruit_label']\n",
    "\n",
    "X_train,X_test,y_train,y_test = train_test_split(X_fruits,y_fruits, random_state = 0)\n",
    "\n",
    "scaler = MinMaxScaler()\n",
    "\n",
    "X_train_scaled = scaler.fit_transform(X_train)#the fit_transform method is used on the traning data\n",
    "X_test_scaled = scaler.transform(X_test)#the transform method is used on the test dataset\n",
    "\n",
    "knn = KNeighborsClassifier(n_neighbors = 5)\n",
    "\n",
    "knn.fit(X_train_scaled,y_train)\n",
    "\n",
    "print('Accuracy of K-NN classifier on training set: {:.2f}'.format(knn.score(X_train_scaled,y_train)))\n",
    "print('Accuracy of K-NN classifier on training set: {:.2f}'.format(knn.score(X_test_scaled,y_test)))\n"
   ]
  },
  {
   "cell_type": "code",
   "execution_count": 3,
   "metadata": {
    "collapsed": false
   },
   "outputs": [
    {
     "data": {
      "image/png": "[encoded data removed]",
      "text/plain": [
       "<matplotlib.figure.Figure at 0x7fdc8848a390>"
      ]
     },
     "metadata": {},
     "output_type": "display_data"
    }
   ],
   "source": [
    "from sklearn.datasets import make_regression\n",
    "plt.figure()\n",
    "plt.title('Sample regression problem with one input variable')\n",
    "X_R1,y_R1 = make_regression(n_samples = 100, n_features = 1, n_informative = 1, bias = 150.0, noise = 30, random_state = 0)\n",
    "\n",
    "plt.scatter(X_R1,y_R1)\n",
    "plt.show()\n"
   ]
  },
  {
   "cell_type": "code",
   "execution_count": 4,
   "metadata": {
    "collapsed": false
   },
   "outputs": [
    {
     "data": {
      "image/png": "[encoded data removed]",
      "text/plain": [
       "<matplotlib.figure.Figure at 0x7fdc878da358>"
      ]
     },
     "metadata": {},
     "output_type": "display_data"
    }
   ],
   "source": [
    "from sklearn.datasets import make_classification\n",
    "from matplotlib.colors import ListedColormap\n",
    "\n",
    "cmap_bold = ListedColormap(['#FFFF00', '#00FF00', '#0000FF','#000000'])\n",
    "\n",
    "plt.figure()\n",
    "plt.title('Sample binary classification problem with two informative features')\n",
    "X_c2, y_c2 = make_classification(n_samples = 100, n_features = 2,\n",
    "                                 n_redundant = 0,n_informative = 2,\n",
    "                                 n_clusters_per_class = 1, flip_y = 0.1, \n",
    "                                 class_sep = 0.5, random_state = 0)\n",
    "\n",
    "plt.scatter(X_c2[:, 0], X_c2[:, 1], c=y_c2,cmap=cmap_bold)#c = sequence of n numbers to be mapped to colors using cmap and norm.\n",
    "plt.show()"
   ]
  },
  {
   "cell_type": "code",
   "execution_count": 5,
   "metadata": {
    "collapsed": false
   },
   "outputs": [
    {
     "data": {
      "image/png": "[encoded data removed]",
      "text/plain": [
       "<matplotlib.figure.Figure at 0x7fdc8848af98>"
      ]
     },
     "metadata": {},
     "output_type": "display_data"
    }
   ],
   "source": [
    "from sklearn.datasets import make_blobs\n",
    "\n",
    "cmap_bold = ListedColormap(['#FFFF00', '#00FF00', '#0000FF','#000000'])\n",
    "\n",
    "X_d2,y_d2 = make_blobs(n_samples = 100, n_features = 2,\n",
    "                      centers = 8, cluster_std = 1.3,\n",
    "                      random_state = 4)\n",
    "\n",
    "y_d2 = y_d2 % 2\n",
    "plt.figure()\n",
    "plt.title('Sample binary classification problem with non-linearly saparable classes')\n",
    "plt.scatter(X_d2[:,0],X_d2[:,1], c=y_d2, cmap = cmap_bold,)\n",
    "plt.show()"
   ]
  },
  {
   "cell_type": "code",
   "execution_count": 6,
   "metadata": {
    "collapsed": false
   },
   "outputs": [
    {
     "data": {
      "text/plain": [
       "tuple"
      ]
     },
     "execution_count": 6,
     "metadata": {},
     "output_type": "execute_result"
    }
   ],
   "source": [
    "from adspy_shared_utilities import load_crime_dataset\n",
    "\n",
    "crime = load_crime_dataset()\n",
    "type(crime)"
   ]
  },
  {
   "cell_type": "code",
   "execution_count": 21,
   "metadata": {
    "collapsed": false
   },
   "outputs": [
    {
     "name": "stdout",
     "output_type": "stream",
     "text": [
      "[ 231.70974697  148.35572605  150.58852659  150.58852659   72.14859259\n",
      "  166.50590948  141.90634426  235.57098756  208.25897836  102.10462746\n",
      "  191.31852674  134.50044902  228.32181403  148.35572605  159.16911306\n",
      "  113.46875166  144.03646012  199.23189853  143.19242433  166.50590948\n",
      "  231.70974697  208.25897836  128.01545355  123.14247619  141.90634426]\n",
      "R-squared test score: 0.425\n"
     ]
    }
   ],
   "source": [
    "from sklearn.neighbors import KNeighborsRegressor\n",
    "\n",
    "X_train, X_test, y_train, y_test = train_test_split(X_R1, y_R1, random_state = 0)\n",
    "\n",
    "scaler = MinMaxScaler()\n",
    "\n",
    "X_train_S = scaler.fit_transform(X_train)\n",
    "X_test_S = scaler.transform(X_test)\n",
    "\n",
    "knnreg = KNeighborsRegressor(n_neighbors = 5).fit(X_train_S, y_train)\n",
    "\n",
    "print(knnreg.predict(X_test_S))\n",
    "print('R-squared test score: {:.3f}'\n",
    "     .format(knnreg.score(X_test_S, y_test)))"
   ]
  },
  {
   "cell_type": "code",
   "execution_count": 40,
   "metadata": {
    "collapsed": false
   },
   "outputs": [],
   "source": [
    "from sklearn.datasets import load_breast_cancer\n",
    "from adspy_shared_utilities import load_crime_dataset \n",
    "\n",
    "cancer = load_breast_cancer()\n",
    "(X_cancer,y_cancer) = load_breast_cancer(return_X_y = True)\n",
    "\n",
    "(X_crime,y_crime) = load_crime_dataset()"
   ]
  },
  {
   "cell_type": "code",
   "execution_count": 18,
   "metadata": {
    "collapsed": false,
    "scrolled": true
   },
   "outputs": [
    {
     "data": {
      "image/png": "[encoded data removed]",
      "text/plain": [
       "<matplotlib.figure.Figure at 0x7fcd44302518>"
      ]
     },
     "metadata": {},
     "output_type": "display_data"
    },
    {
     "data": {
      "image/png": "[encoded data removed]",
      "text/plain": [
       "<matplotlib.figure.Figure at 0x7fcd44cf9a58>"
      ]
     },
     "metadata": {},
     "output_type": "display_data"
    },
    {
     "data": {
      "image/png": "[encoded data removed]",
      "text/plain": [
       "<matplotlib.figure.Figure at 0x7fcd43f1c0b8>"
      ]
     },
     "metadata": {},
     "output_type": "display_data"
    }
   ],
   "source": [
    "from adspy_shared_utilities import plot_two_class_knn\n",
    "\n",
    "X_train, X_test, y_train, y_test = train_test_split(X_c2,y_c2,random_state = 0)\n",
    "\n",
    "plot_two_class_knn(X_train, y_train, 1, 'uniform', X_test, y_test)\n",
    "plot_two_class_knn(X_train, y_train, 3, 'uniform', X_test, y_test)\n",
    "plot_two_class_knn(X_train, y_train, 11, 'uniform', X_test, y_test)"
   ]
  },
  {
   "cell_type": "code",
   "execution_count": 25,
   "metadata": {
    "collapsed": false
   },
   "outputs": [
    {
     "name": "stdout",
     "output_type": "stream",
     "text": [
      "[ 231.70974697  148.35572605  150.58852659  150.58852659   72.14859259\n",
      "  166.50590948  141.90634426  235.57098756  208.25897836  102.10462746\n",
      "  191.31852674  134.50044902  228.32181403  148.35572605  159.16911306\n",
      "  113.46875166  144.03646012  199.23189853  143.19242433  166.50590948\n",
      "  231.70974697  208.25897836  128.01545355  123.14247619  141.90634426]\n",
      "R_squared test score: 0.425\n"
     ]
    }
   ],
   "source": [
    "from sklearn.neighbors import KNeighborsRegressor\n",
    "from sklearn.model_selection import train_test_split\n",
    "\n",
    "X_train, X_test, y_train, y_test = train_test_split(X_R1, y_R1, random_state = 0)\n",
    "\n",
    "knnreg = KNeighborsRegressor(n_neighbors = 5).fit(X_train,y_train)\n",
    "\n",
    "print(knnreg.predict(X_test))\n",
    "print('R_squared test score: {:.3f}'.format(knnreg.score(X_test,y_test)))"
   ]
  },
  {
   "cell_type": "code",
   "execution_count": 27,
   "metadata": {
    "collapsed": false
   },
   "outputs": [
    {
     "data": {
      "text/plain": [
       "25"
      ]
     },
     "execution_count": 27,
     "metadata": {},
     "output_type": "execute_result"
    }
   ],
   "source": [
    "len(X_test)"
   ]
  },
  {
   "cell_type": "code",
   "execution_count": 57,
   "metadata": {
    "collapsed": false
   },
   "outputs": [
    {
     "data": {
      "image/png": "[encoded data removed]",
      "text/plain": [
       "<matplotlib.figure.Figure at 0x7fcd393e2080>"
      ]
     },
     "metadata": {},
     "output_type": "display_data"
    }
   ],
   "source": [
    "from sklearn.datasets import make_regression\n",
    "\n",
    "X_R2,Y_R2 = make_regression(n_samples = 100, n_features = 1,\n",
    "                           n_informative = 1, bias = 150.0,\n",
    "                           noise = 30, random_state = 0)\n",
    "plt.scatter(X_R2,Y_R2, marker = 'o',s = 10)#s represent the size of the marker\n",
    "\n",
    "plt.show()"
   ]
  },
  {
   "cell_type": "code",
   "execution_count": 58,
   "metadata": {
    "collapsed": false
   },
   "outputs": [
    {
     "name": "stdout",
     "output_type": "stream",
     "text": [
      "[ 231.70974697  148.35572605  150.58852659  150.58852659   72.14859259\n",
      "  166.50590948  141.90634426  235.57098756  208.25897836  102.10462746\n",
      "  191.31852674  134.50044902  228.32181403  148.35572605  159.16911306\n",
      "  113.46875166  144.03646012  199.23189853  143.19242433  166.50590948\n",
      "  231.70974697  208.25897836  128.01545355  123.14247619  141.90634426]\n",
      "regression model predictor: 0.42468\n"
     ]
    }
   ],
   "source": [
    "from sklearn.neighbors import KNeighborsRegressor\n",
    "from sklearn.model_selection import train_test_split\n",
    "from sklearn.preprocessing import MinMaxScaler\n",
    "\n",
    "X_train, X_test, y_train, y_test = train_test_split(X_R2, Y_R2, random_state = 0)\n",
    "\n",
    "scaler = MinMaxScaler()\n",
    "\n",
    "X_train_scaled = scaler.fit_transform(X_train)\n",
    "X_test_scaled = scaler.transform(X_test)\n",
    "\n",
    "knnreg = KNeighborsRegressor(n_neighbors = 5).fit(X_train_scaled,y_train)\n",
    "\n",
    "\n",
    "print(knnreg.predict(X_test_scaled))\n",
    "print('regression model predictor: {:.5f}'.format(knnreg.score(X_test_scaled,y_test)))"
   ]
  },
  {
   "cell_type": "code",
   "execution_count": 60,
   "metadata": {
    "collapsed": false
   },
   "outputs": [
    {
     "name": "stdout",
     "output_type": "stream",
     "text": [
      "0.424680085823\n"
     ]
    }
   ],
   "source": [
    "from sklearn.neighbors import KNeighborsRegressor\n",
    "from sklearn.model_selection import train_test_split\n",
    "\n",
    "X_train, X_test, y_train, y_test = train_test_split(X_R2, Y_R2, random_state = 0)\n",
    "\n",
    "knnreg = KNeighborsRegressor(n_neighbors = 5).fit(X_train,y_train)\n",
    "\n",
    "print(knnreg.score(X_test,y_test))\n"
   ]
  },
  {
   "cell_type": "code",
   "execution_count": 68,
   "metadata": {
    "collapsed": false
   },
   "outputs": [
    {
     "name": "stdout",
     "output_type": "stream",
     "text": [
      "Model Coeficient: [ 45.70870465]\n",
      "Momdel intercept: 148.4458\n",
      "Regression model training score: 0.6786\n",
      "Regression model test score: 0.4916\n"
     ]
    }
   ],
   "source": [
    "from sklearn.linear_model import LinearRegression\n",
    "from sklearn.model_selection import train_test_split\n",
    "\n",
    "X_train, X_test, y_train, y_test = train_test_split(X_R1, y_R1, random_state = 0)\n",
    "\n",
    "linreg = LinearRegression().fit(X_train,y_train)\n",
    "\n",
    "print('Model Coeficient: {}'.format(linreg.coef_))\n",
    "print('Momdel intercept: {:.4f}'.format(linreg.intercept_))\n",
    "print('Regression model training score: {:.4f}'.format(linreg.score(X_train, y_train)))\n",
    "print('Regression model test score: {:.4f}'.format(linreg.score(X_test, y_test)))"
   ]
  },
  {
   "cell_type": "code",
   "execution_count": 35,
   "metadata": {
    "collapsed": false
   },
   "outputs": [
    {
     "name": "stdout",
     "output_type": "stream",
     "text": [
      "Crime Dataset\n",
      "Ridge regression intercept: -3529.3429444643284\n",
      "Ridge regression coefficients: \n",
      "[  1.95491021e-03   1.19990631e+01   1.00148172e+01  -3.45013903e+01\n",
      "   5.21857729e+00  -1.93482063e+01  -2.81624296e-03   1.65603954e+00\n",
      "  -5.57645058e-03  -6.76614678e+00   1.55434492e+01  -5.53463709e+00\n",
      "   8.85313913e+00   8.60858258e-01  -7.46088873e+00   6.48889903e-03\n",
      "   2.95303426e-05   4.93749651e-03  -5.07966059e+00  -1.80592470e+01\n",
      "   9.15539818e+00  -1.32761683e+00   1.10837615e+00   1.01785677e+01\n",
      "  -3.79106502e+00  -3.68055524e+00   4.53871628e+00   8.16466922e+00\n",
      "   2.07961553e+01   1.19040844e+01  -1.09289885e+01  -1.90319222e+01\n",
      "   9.25688469e+00   1.74142412e+00  -2.18464797e+01   2.29481305e+00\n",
      "   3.02389348e-01   3.97232979e+00  -1.13092686e+01  -4.48255204e-03\n",
      "   4.30760492e+01  -1.22524159e-03   1.32637029e+00   7.13759856e-01\n",
      "  -2.68927586e+00   1.00167197e+00  -1.53037428e+01  -1.10989377e+01\n",
      "   1.37488395e+01  -7.75572046e+00  -3.53454831e-01  -3.53348366e+01\n",
      "   1.04467709e+01  -2.34088484e+01   1.87819919e+01   1.60757373e+01\n",
      "  -3.00727186e+01  -1.29777701e+01   2.87587705e+01   3.83644125e+00\n",
      "   4.45161758e+01   1.99739089e-02  -5.01213750e-01   9.23717292e+00\n",
      "   1.03399774e+01  -1.55450716e+00   3.26799589e+00   9.00513422e+00\n",
      "  -2.55820148e+01  -2.53902228e-04   3.66499127e-04  -4.16393343e-04\n",
      "  -1.62172591e-04  -5.82357953e-01  -5.17088784e-01  -4.22799957e-01\n",
      "   1.59557995e-01   1.30952089e+00   4.18644613e+00   2.87315785e+00\n",
      "  -3.71194671e+01   1.38588675e-01   3.11695946e-01   1.52491441e+01\n",
      "   3.30205598e-01   3.42732703e+00   1.92451036e-01  -2.74820265e+00]\n",
      "Ridge regression score (training): 0.670\n",
      "Ridge regression score (test): 0.493\n",
      "Number of non-zero features 88\n"
     ]
    }
   ],
   "source": [
    "from sklearn.linear_model import Ridge\n",
    "from sklearn.model_selection import train_test_split\n",
    "\n",
    "X_train, X_test, y_train, y_test = train_test_split(X_crime, y_crime, random_state = 0)\n",
    "\n",
    "linridge = Ridge(alpha = 50).fit(X_train,y_train)\n",
    "\n",
    "print('Crime Dataset')\n",
    "print('Ridge regression intercept: {}'.format(linridge.intercept_))\n",
    "print('Ridge regression coefficients: \\n{}'.format(linridge.coef_))\n",
    "print('Ridge regression score (training): {:.3f}'.format(linridge.score(X_train,y_train)))\n",
    "print('Ridge regression score (test): {:.3f}'.format(linridge.score(X_test,y_test)))\n",
    "print('Number of non-zero features {}'.format(np.sum(linridge.coef_ != 0)))"
   ]
  },
  {
   "cell_type": "code",
   "execution_count": null,
   "metadata": {
    "collapsed": true
   },
   "outputs": [],
   "source": [
    "#the addition of a penalty term to linear model is called regulirasation\n",
    "#regularisation is a way to improve the likely generalisation of a linear model\n",
    "#by restricting a models possible parameter settings. its a way to prevent overfitting\n",
    "#usually the effect of regularisation is to reduce model complexity.\n",
    "\n",
    "#the amount of regularisation is controlled by the alpha parameter. Larger alpha\n",
    "#means more regularisation and simpler linera models with weights closer to zero.\n",
    "#the default setting of alpha is 1.0"
   ]
  },
  {
   "cell_type": "code",
   "execution_count": 51,
   "metadata": {
    "collapsed": false
   },
   "outputs": [
    {
     "name": "stdout",
     "output_type": "stream",
     "text": [
      "training score for Ridge (Training) : 0.626\n",
      "training score for Ridge (Test) : 0.620\n",
      "\n",
      "training score for lasso (Training) : 0.625\n",
      "training score for lasso (Test) : 0.623\n",
      "\n",
      "training score for LinearRegression (Training) : 0.668\n",
      "training score for LinearRegression (Test) : 0.637\n"
     ]
    }
   ],
   "source": [
    "from sklearn.linear_model import Ridge, LinearRegression, Lasso\n",
    "from sklearn.preprocessing import MinMaxScaler\n",
    "from sklearn.model_selection import train_test_split\n",
    "\n",
    "X_train, X_test, y_train, y_test = train_test_split(X_crime, y_crime, random_state = 5)\n",
    "\n",
    "scaler = MinMaxScaler()\n",
    "\n",
    "X_train_scaled = scaler.fit_transform(X_train)\n",
    "X_test_scaled = scaler.transform(X_test)\n",
    "\n",
    "linridge = Ridge(alpha = 10).fit(X_train_scaled,y_train)\n",
    "linlasso = Lasso(alpha = 2.0, max_iter = 10000).fit(X_train_scaled,y_train)# with some datasets one might get a convergence warning\n",
    "                                                                            # in such a case the max_iter parameter is increased to 20000\n",
    "lin = LinearRegression().fit(X_train, y_train)\n",
    "\n",
    "print('training score for Ridge (Training) : {:.3f}'.format(linridge.score(X_train_scaled, y_train)))\n",
    "print('training score for Ridge (Test) : {:.3f}\\n'.format(linridge.score(X_test_scaled, y_test)))\n",
    "\n",
    "print('training score for lasso (Training) : {:.3f}'.format(linlasso.score(X_train_scaled, y_train)))\n",
    "print('training score for lasso (Test) : {:.3f}\\n'.format(linlasso.score(X_test_scaled, y_test)))\n",
    "\n",
    "print('training score for LinearRegression (Training) : {:.3f}'.format(lin.score(X_train, y_train)))\n",
    "print('training score for LinearRegression (Test) : {:.3f}'.format(lin.score(X_test, y_test)))"
   ]
  },
  {
   "cell_type": "code",
   "execution_count": 41,
   "metadata": {
    "collapsed": false
   },
   "outputs": [
    {
     "name": "stderr",
     "output_type": "stream",
     "text": [
      "/opt/conda/lib/python3.6/site-packages/sklearn/utils/deprecation.py:70: DeprecationWarning: Function decision_function is deprecated;  and will be removed in 0.19.\n",
      "  warnings.warn(msg, category=DeprecationWarning)\n"
     ]
    },
    {
     "data": {
      "text/plain": [
       "array([ 1268.03236527,   760.59880059,   844.00256217,  1315.08419683,\n",
       "         582.58854877,    48.340144  ,  1645.22680563,   534.49888444,\n",
       "         829.41675237,  1493.45226295,   314.33365751,   208.27827397,\n",
       "         563.12612024,   946.87468087,   754.54329309,   679.89997652,\n",
       "         946.602591  ,   233.8469872 ,  1514.28171394,   832.54927809])"
      ]
     },
     "execution_count": 41,
     "metadata": {},
     "output_type": "execute_result"
    }
   ],
   "source": [
    "from sklearn.linear_model import Ridge, LinearRegression, Lasso\n",
    "from sklearn.preprocessing import MinMaxScaler\n",
    "from sklearn.model_selection import train_test_split\n",
    "\n",
    "X_train, X_test, y_train, y_test = train_test_split(X_crime, y_crime, random_state = 5)\n",
    "\n",
    "scaler = MinMaxScaler()\n",
    "\n",
    "X_train_scaled = scaler.fit_transform(X_train)\n",
    "X_test_scaled = scaler.transform(X_test)\n",
    "\n",
    "linridge = Ridge(alpha = 10).fit(X_train_scaled,y_train)\n",
    "linlasso = Lasso(alpha = 2.0, max_iter = 10000).fit(X_train_scaled,y_train)# with some datasets one might get a convergence warning\n",
    "                                                                            # in such a case the max_iter parameter is increased to 20000\n",
    "lin = LinearRegression().fit(X_train, y_train)\n",
    "\n",
    "linridge_scores = linridge.decision_function(X_train_scaled)\n",
    "\n",
    "linridge_scores[:20]"
   ]
  },
  {
   "cell_type": "raw",
   "metadata": {},
   "source": [
    "#transforming the input features sp that they ar eall on the same scale means\n",
    "#the ridge penalty is in some sense applied more faiarly to all features without\n",
    "#unduly weighting somemore than others, just becasue of the difference in scales."
   ]
  },
  {
   "cell_type": "code",
   "execution_count": 17,
   "metadata": {
    "collapsed": false
   },
   "outputs": [
    {
     "name": "stdout",
     "output_type": "stream",
     "text": [
      "SVM score (training) 0.984\n",
      "SVM score (testing) 0.965\n"
     ]
    }
   ],
   "source": [
    "from sklearn.svm import SVC\n",
    "from sklearn.preprocessing import MinMaxScaler\n",
    "\n",
    "X_train, X_test, y_train, y_test = train_test_split(X_cancer, y_cancer, random_state = 0)\n",
    "\n",
    "scaler = MinMaxScaler()\n",
    "X_trained_scaled = scaler.fit_transform(X_train)\n",
    "X_test_scaled = scaler.transform(X_test)\n",
    "\n",
    "suvm = SVC(kernel = 'linear', C = 1).fit(X_trained_scaled, y_train)\n",
    "\n",
    "print('SVM score (training) {:.3f}'.format(suvm.score(X_trained_scaled, y_train)))\n",
    "print('SVM score (testing) {:.3f}'.format(suvm.score(X_test_scaled, y_test)))"
   ]
  },
  {
   "cell_type": "code",
   "execution_count": 60,
   "metadata": {
    "collapsed": false
   },
   "outputs": [
    {
     "name": "stdout",
     "output_type": "stream",
     "text": [
      "SVM score (training) 0.913\n",
      "SVM score (test) 0.881\n"
     ]
    }
   ],
   "source": [
    "from sklearn.svm import LinearSVC\n",
    "\n",
    "X_train, X_test, y_train, y_test = train_test_split(X_cancer, y_cancer, random_state = 0)\n",
    "\n",
    "suvm = LinearSVC().fit(X_train, y_train)\n",
    "\n",
    "print('SVM score (training) {:.3f}'.format(suvm.score(X_train,y_train)))\n",
    "print('SVM score (test) {:.3f}'.format(suvm.score(X_test,y_test)))"
   ]
  },
  {
   "cell_type": "code",
   "execution_count": 8,
   "metadata": {
    "collapsed": false,
    "scrolled": true
   },
   "outputs": [
    {
     "data": {
      "image/png": "[encoded data removed]",
      "text/plain": [
       "<matplotlib.figure.Figure at 0x7fdc884c1a20>"
      ]
     },
     "metadata": {},
     "output_type": "display_data"
    },
    {
     "data": {
      "image/png": "[encoded data removed]",
      "text/plain": [
       "<matplotlib.figure.Figure at 0x7fdc74136fd0>"
      ]
     },
     "metadata": {},
     "output_type": "display_data"
    }
   ],
   "source": [
    "from sklearn.svm import SVC\n",
    "from adspy_shared_utilities import plot_class_regions_for_classifier\n",
    "\n",
    "X_train, X_test, y_train, y_test = train_test_split(X_d2, y_d2, random_state=0)\n",
    "\n",
    "plot_class_regions_for_classifier(SVC().fit(X_train,y_train),X_train, y_train,\n",
    "                                 None, None, 'Support Vector Classifier: RBF kernel')\n",
    "\n",
    "plot_class_regions_for_classifier(SVC(kernel = 'poly', degree = 3).fit(X_train,y_train),X_train, y_train,\n",
    "                                 None, None, 'Support Vector Classifier: Polynomial kernel: degree = 3')"
   ]
  },
  {
   "cell_type": "code",
   "execution_count": 11,
   "metadata": {
    "collapsed": false,
    "scrolled": true
   },
   "outputs": [
    {
     "data": {
      "image/png": "[encoded data removed]",
      "text/plain": [
       "<matplotlib.figure.Figure at 0x7fdc74028860>"
      ]
     },
     "metadata": {},
     "output_type": "display_data"
    },
    {
     "data": {
      "image/png": "[encoded data removed]",
      "text/plain": [
       "<matplotlib.figure.Figure at 0x7fdc741ef198>"
      ]
     },
     "metadata": {},
     "output_type": "display_data"
    },
    {
     "data": {
      "image/png": "[encoded data removed]",
      "text/plain": [
       "<matplotlib.figure.Figure at 0x7fdc7412a828>"
      ]
     },
     "metadata": {},
     "output_type": "display_data"
    }
   ],
   "source": [
    "plot_class_regions_for_classifier(SVC(kernel = 'rbf', gamma = 0.1).fit(X_train,y_train),X_train, y_train,\n",
    "                                 None, None, 'Support Vector Classifier: RBF kernel: Gemma = 0.01')\n",
    "\n",
    "plot_class_regions_for_classifier(SVC(kernel = 'rbf', gamma = 1.0).fit(X_train,y_train),X_train, y_train,\n",
    "                                 None, None, 'Support Vector Classifier: RBF kernel: Gemma = 1.0')\n",
    "\n",
    "plot_class_regions_for_classifier(SVC(kernel = 'rbf', gamma = 10.0).fit(X_train,y_train),X_train, y_train,\n",
    "                                 None, None, 'Support Vector Classifier: RBF kernel: Gemma = 10.0')"
   ]
  },
  {
   "cell_type": "code",
   "execution_count": 16,
   "metadata": {
    "collapsed": false
   },
   "outputs": [
    {
     "name": "stdout",
     "output_type": "stream",
     "text": [
      "Cross-validation scores (3-fold):  [ 0.77272727  0.73684211  0.83333333]\n",
      "Mean cross_validation score (3-fold): 0.781\n"
     ]
    }
   ],
   "source": [
    "from sklearn.model_selection import cross_val_score\n",
    "\n",
    "clf = KNeighborsClassifier(n_neighbors = 5)\n",
    "\n",
    "X = X_fruits_2D.as_matrix()\n",
    "Y = y_fruits_2D.as_matrix()\n",
    "\n",
    "cv_scores = cross_val_score(clf, X, Y)\n",
    "\n",
    "print('Cross-validation scores (3-fold): ', cv_scores)\n",
    "print('Mean cross_validation score (3-fold): {:.3f}'.format(np.mean(cv_scores)))"
   ]
  },
  {
   "cell_type": "code",
   "execution_count": null,
   "metadata": {
    "collapsed": true
   },
   "outputs": [],
   "source": [
    "# a benefit of computing the accuracy of a model on multiple splits \n",
    "#instead of a single split, is that it gives us pontentially useful information about how sensitive\n",
    "#the model is to the specific training set"
   ]
  },
  {
   "cell_type": "code",
   "execution_count": 19,
   "metadata": {
    "collapsed": false
   },
   "outputs": [],
   "source": [
    "from sklearn.svm import SVC\n",
    "from sklearn.model_selection import validation_curve\n",
    "\n",
    "param_range = np.logspace(-3,3,4)\n",
    "\n",
    "train_scores, test_scores = validation_curve(SVC(), X,Y, param_name = 'gamma',\n",
    "                                              param_range = param_range, cv = 3)"
   ]
  },
  {
   "cell_type": "code",
   "execution_count": null,
   "metadata": {
    "collapsed": true
   },
   "outputs": [],
   "source": [
    "#the validation curve returns two 2-dimensional arrays corresponding to evaluation on the training\n",
    "#and test set. EACH ARRAY HAS ONE ROW PER PARAMETER VALUE IN THE SWEEP AND THE NUMBER OF COLUMNS\n",
    "#IS THE NUMBER OF CROSS-VALIDATION FOLS THAT ARE USED."
   ]
  },
  {
   "cell_type": "code",
   "execution_count": 20,
   "metadata": {
    "collapsed": false
   },
   "outputs": [
    {
     "name": "stdout",
     "output_type": "stream",
     "text": [
      "[[ 0.48648649  0.425       0.41463415]\n",
      " [ 0.83783784  0.725       0.75609756]\n",
      " [ 0.91891892  0.9         0.92682927]\n",
      " [ 1.          1.          0.97560976]]\n"
     ]
    }
   ],
   "source": [
    "print(train_scores)"
   ]
  },
  {
   "cell_type": "code",
   "execution_count": 21,
   "metadata": {
    "collapsed": false
   },
   "outputs": [
    {
     "name": "stdout",
     "output_type": "stream",
     "text": [
      "[[ 0.45454545  0.31578947  0.33333333]\n",
      " [ 0.81818182  0.68421053  0.61111111]\n",
      " [ 0.40909091  0.84210526  0.66666667]\n",
      " [ 0.36363636  0.21052632  0.38888889]]\n"
     ]
    }
   ],
   "source": [
    "print(test_scores)"
   ]
  },
  {
   "cell_type": "code",
   "execution_count": 24,
   "metadata": {
    "collapsed": false
   },
   "outputs": [
    {
     "data": {
      "image/png": "[encoded data removed]",
      "text/plain": [
       "<matplotlib.figure.Figure at 0x7fdc73f6aac8>"
      ]
     },
     "metadata": {},
     "output_type": "display_data"
    }
   ],
   "source": [
    "# This code based on scikit-learn validation_plot example\n",
    "#  See:  http://scikit-learn.org/stable/auto_examples/model_selection/plot_validation_curve.html\n",
    "plt.figure()\n",
    "\n",
    "train_scores_mean = np.mean(train_scores, axis=1)\n",
    "train_scores_std = np.std(train_scores, axis=1)\n",
    "test_scores_mean = np.mean(test_scores, axis=1)\n",
    "test_scores_std = np.std(test_scores, axis=1)\n",
    "\n",
    "plt.title('Validation Curve with SVM')\n",
    "plt.xlabel('$\\gamma$ (gamma)')\n",
    "plt.ylabel('Score')\n",
    "plt.ylim(0.0, 1.1)\n",
    "lw = 2\n",
    "\n",
    "plt.semilogx(param_range, train_scores_mean, label='Training score',\n",
    "            color='darkorange', lw=lw)\n",
    "\n",
    "plt.fill_between(param_range, train_scores_mean - train_scores_std,\n",
    "                train_scores_mean + train_scores_std, alpha=0.2,\n",
    "                color='darkorange', lw=lw)\n",
    "\n",
    "plt.semilogx(param_range, test_scores_mean, label='Cross-validation score',\n",
    "            color='navy', lw=lw)\n",
    "\n",
    "plt.fill_between(param_range, test_scores_mean - test_scores_std,\n",
    "                test_scores_mean + test_scores_std, alpha=0.2,\n",
    "                color='navy', lw=lw)\n",
    "\n",
    "plt.legend(loc='best')\n",
    "plt.show()"
   ]
  },
  {
   "cell_type": "code",
   "execution_count": null,
   "metadata": {
    "collapsed": true
   },
   "outputs": [],
   "source": [
    "#the goal of a decision treeis to find the sequence of questions that has the best accuracy at \n",
    "#classifying the data in the fewest steps.  "
   ]
  },
  {
   "cell_type": "code",
   "execution_count": 31,
   "metadata": {
    "collapsed": false
   },
   "outputs": [
    {
     "data": {
      "image/svg+xml": [
       "<?xml version=\"1.0\" encoding=\"UTF-8\" standalone=\"no\"?>\n",
       "<!DOCTYPE svg PUBLIC \"-//W3C//DTD SVG 1.1//EN\"\n",
       " \"http://www.w3.org/Graphics/SVG/1.1/DTD/svg11.dtd\">\n",
       "<!-- Generated by graphviz version 2.38.0 (20140413.2041)\n",
       " -->\n",
       "<!-- Title: Tree Pages: 1 -->\n",
       "<svg width=\"1835pt\" height=\"893pt\"\n",
       " viewBox=\"0.00 0.00 1834.50 893.00\" xmlns=\"http://www.w3.org/2000/svg\" xmlns:xlink=\"http://www.w3.org/1999/xlink\">\n",
       "<g id=\"graph0\" class=\"graph\" transform=\"scale(1 1) rotate(0) translate(4 889)\">\n",
       "<title>Tree</title>\n",
       "<polygon fill=\"white\" stroke=\"none\" points=\"-4,4 -4,-889 1830.5,-889 1830.5,4 -4,4\"/>\n",
       "<!-- 0 -->\n",
       "<g id=\"node1\" class=\"node\"><title>0</title>\n",
       "<polygon fill=\"#399de5\" fill-opacity=\"0.403922\" stroke=\"black\" points=\"1113.5,-885 863.5,-885 863.5,-817 1113.5,-817 1113.5,-885\"/>\n",
       "<text text-anchor=\"middle\" x=\"988.5\" y=\"-869.8\" font-family=\"Times,serif\" font-size=\"14.00\">mean concave points &lt;= 0.0489</text>\n",
       "<text text-anchor=\"middle\" x=\"988.5\" y=\"-854.8\" font-family=\"Times,serif\" font-size=\"14.00\">samples = 426</text>\n",
       "<text text-anchor=\"middle\" x=\"988.5\" y=\"-839.8\" font-family=\"Times,serif\" font-size=\"14.00\">value = [159, 267]</text>\n",
       "<text text-anchor=\"middle\" x=\"988.5\" y=\"-824.8\" font-family=\"Times,serif\" font-size=\"14.00\">class = benign</text>\n",
       "</g>\n",
       "<!-- 1 -->\n",
       "<g id=\"node2\" class=\"node\"><title>1</title>\n",
       "<polygon fill=\"#399de5\" fill-opacity=\"0.949020\" stroke=\"black\" points=\"936,-781 769,-781 769,-713 936,-713 936,-781\"/>\n",
       "<text text-anchor=\"middle\" x=\"852.5\" y=\"-765.8\" font-family=\"Times,serif\" font-size=\"14.00\">worst area &lt;= 952.9</text>\n",
       "<text text-anchor=\"middle\" x=\"852.5\" y=\"-750.8\" font-family=\"Times,serif\" font-size=\"14.00\">samples = 260</text>\n",
       "<text text-anchor=\"middle\" x=\"852.5\" y=\"-735.8\" font-family=\"Times,serif\" font-size=\"14.00\">value = [13, 247]</text>\n",
       "<text text-anchor=\"middle\" x=\"852.5\" y=\"-720.8\" font-family=\"Times,serif\" font-size=\"14.00\">class = benign</text>\n",
       "</g>\n",
       "<!-- 0&#45;&gt;1 -->\n",
       "<g id=\"edge1\" class=\"edge\"><title>0&#45;&gt;1</title>\n",
       "<path fill=\"none\" stroke=\"black\" d=\"M944.345,-816.884C931.874,-807.531 918.179,-797.259 905.258,-787.568\"/>\n",
       "<polygon fill=\"black\" stroke=\"black\" points=\"906.999,-784.499 896.899,-781.299 902.799,-790.099 906.999,-784.499\"/>\n",
       "<text text-anchor=\"middle\" x=\"900.435\" y=\"-802.348\" font-family=\"Times,serif\" font-size=\"14.00\">True</text>\n",
       "</g>\n",
       "<!-- 20 -->\n",
       "<g id=\"node21\" class=\"node\"><title>20</title>\n",
       "<polygon fill=\"#e58139\" fill-opacity=\"0.862745\" stroke=\"black\" points=\"1208,-781 1041,-781 1041,-713 1208,-713 1208,-781\"/>\n",
       "<text text-anchor=\"middle\" x=\"1124.5\" y=\"-765.8\" font-family=\"Times,serif\" font-size=\"14.00\">worst area &lt;= 785.8</text>\n",
       "<text text-anchor=\"middle\" x=\"1124.5\" y=\"-750.8\" font-family=\"Times,serif\" font-size=\"14.00\">samples = 166</text>\n",
       "<text text-anchor=\"middle\" x=\"1124.5\" y=\"-735.8\" font-family=\"Times,serif\" font-size=\"14.00\">value = [146, 20]</text>\n",
       "<text text-anchor=\"middle\" x=\"1124.5\" y=\"-720.8\" font-family=\"Times,serif\" font-size=\"14.00\">class = malignant</text>\n",
       "</g>\n",
       "<!-- 0&#45;&gt;20 -->\n",
       "<g id=\"edge20\" class=\"edge\"><title>0&#45;&gt;20</title>\n",
       "<path fill=\"none\" stroke=\"black\" d=\"M1032.66,-816.884C1045.13,-807.531 1058.82,-797.259 1071.74,-787.568\"/>\n",
       "<polygon fill=\"black\" stroke=\"black\" points=\"1074.2,-790.099 1080.1,-781.299 1070,-784.499 1074.2,-790.099\"/>\n",
       "<text text-anchor=\"middle\" x=\"1076.57\" y=\"-802.348\" font-family=\"Times,serif\" font-size=\"14.00\">False</text>\n",
       "</g>\n",
       "<!-- 2 -->\n",
       "<g id=\"node3\" class=\"node\"><title>2</title>\n",
       "<polygon fill=\"#399de5\" fill-opacity=\"0.972549\" stroke=\"black\" points=\"669,-677 506,-677 506,-609 669,-609 669,-677\"/>\n",
       "<text text-anchor=\"middle\" x=\"587.5\" y=\"-661.8\" font-family=\"Times,serif\" font-size=\"14.00\">area error &lt;= 42.19</text>\n",
       "<text text-anchor=\"middle\" x=\"587.5\" y=\"-646.8\" font-family=\"Times,serif\" font-size=\"14.00\">samples = 252</text>\n",
       "<text text-anchor=\"middle\" x=\"587.5\" y=\"-631.8\" font-family=\"Times,serif\" font-size=\"14.00\">value = [7, 245]</text>\n",
       "<text text-anchor=\"middle\" x=\"587.5\" y=\"-616.8\" font-family=\"Times,serif\" font-size=\"14.00\">class = benign</text>\n",
       "</g>\n",
       "<!-- 1&#45;&gt;2 -->\n",
       "<g id=\"edge2\" class=\"edge\"><title>1&#45;&gt;2</title>\n",
       "<path fill=\"none\" stroke=\"black\" d=\"M768.652,-713.727C740.056,-702.72 707.948,-690.361 678.795,-679.14\"/>\n",
       "<polygon fill=\"black\" stroke=\"black\" points=\"680.032,-675.866 669.442,-675.54 677.518,-682.399 680.032,-675.866\"/>\n",
       "</g>\n",
       "<!-- 17 -->\n",
       "<g id=\"node18\" class=\"node\"><title>17</title>\n",
       "<polygon fill=\"#e58139\" fill-opacity=\"0.666667\" stroke=\"black\" points=\"951,-677 754,-677 754,-609 951,-609 951,-677\"/>\n",
       "<text text-anchor=\"middle\" x=\"852.5\" y=\"-661.8\" font-family=\"Times,serif\" font-size=\"14.00\">worst texture &lt;= 26.005</text>\n",
       "<text text-anchor=\"middle\" x=\"852.5\" y=\"-646.8\" font-family=\"Times,serif\" font-size=\"14.00\">samples = 8</text>\n",
       "<text text-anchor=\"middle\" x=\"852.5\" y=\"-631.8\" font-family=\"Times,serif\" font-size=\"14.00\">value = [6, 2]</text>\n",
       "<text text-anchor=\"middle\" x=\"852.5\" y=\"-616.8\" font-family=\"Times,serif\" font-size=\"14.00\">class = malignant</text>\n",
       "</g>\n",
       "<!-- 1&#45;&gt;17 -->\n",
       "<g id=\"edge17\" class=\"edge\"><title>1&#45;&gt;17</title>\n",
       "<path fill=\"none\" stroke=\"black\" d=\"M852.5,-712.884C852.5,-704.778 852.5,-695.982 852.5,-687.472\"/>\n",
       "<polygon fill=\"black\" stroke=\"black\" points=\"856,-687.299 852.5,-677.299 849,-687.299 856,-687.299\"/>\n",
       "</g>\n",
       "<!-- 3 -->\n",
       "<g id=\"node4\" class=\"node\"><title>3</title>\n",
       "<polygon fill=\"#399de5\" fill-opacity=\"0.984314\" stroke=\"black\" points=\"444.5,-573 206.5,-573 206.5,-505 444.5,-505 444.5,-573\"/>\n",
       "<text text-anchor=\"middle\" x=\"325.5\" y=\"-557.8\" font-family=\"Times,serif\" font-size=\"14.00\">worst compactness &lt;= 0.4536</text>\n",
       "<text text-anchor=\"middle\" x=\"325.5\" y=\"-542.8\" font-family=\"Times,serif\" font-size=\"14.00\">samples = 247</text>\n",
       "<text text-anchor=\"middle\" x=\"325.5\" y=\"-527.8\" font-family=\"Times,serif\" font-size=\"14.00\">value = [4, 243]</text>\n",
       "<text text-anchor=\"middle\" x=\"325.5\" y=\"-512.8\" font-family=\"Times,serif\" font-size=\"14.00\">class = benign</text>\n",
       "</g>\n",
       "<!-- 2&#45;&gt;3 -->\n",
       "<g id=\"edge3\" class=\"edge\"><title>2&#45;&gt;3</title>\n",
       "<path fill=\"none\" stroke=\"black\" d=\"M505.679,-610.146C478.43,-599.538 447.861,-587.637 419.748,-576.692\"/>\n",
       "<polygon fill=\"black\" stroke=\"black\" points=\"420.905,-573.387 410.317,-573.02 418.365,-579.91 420.905,-573.387\"/>\n",
       "</g>\n",
       "<!-- 14 -->\n",
       "<g id=\"node15\" class=\"node\"><title>14</title>\n",
       "<polygon fill=\"#e58139\" fill-opacity=\"0.333333\" stroke=\"black\" points=\"712.5,-573 462.5,-573 462.5,-505 712.5,-505 712.5,-573\"/>\n",
       "<text text-anchor=\"middle\" x=\"587.5\" y=\"-557.8\" font-family=\"Times,serif\" font-size=\"14.00\">mean concave points &lt;= 0.0288</text>\n",
       "<text text-anchor=\"middle\" x=\"587.5\" y=\"-542.8\" font-family=\"Times,serif\" font-size=\"14.00\">samples = 5</text>\n",
       "<text text-anchor=\"middle\" x=\"587.5\" y=\"-527.8\" font-family=\"Times,serif\" font-size=\"14.00\">value = [3, 2]</text>\n",
       "<text text-anchor=\"middle\" x=\"587.5\" y=\"-512.8\" font-family=\"Times,serif\" font-size=\"14.00\">class = malignant</text>\n",
       "</g>\n",
       "<!-- 2&#45;&gt;14 -->\n",
       "<g id=\"edge14\" class=\"edge\"><title>2&#45;&gt;14</title>\n",
       "<path fill=\"none\" stroke=\"black\" d=\"M587.5,-608.884C587.5,-600.778 587.5,-591.982 587.5,-583.472\"/>\n",
       "<polygon fill=\"black\" stroke=\"black\" points=\"591,-583.299 587.5,-573.299 584,-583.299 591,-583.299\"/>\n",
       "</g>\n",
       "<!-- 4 -->\n",
       "<g id=\"node5\" class=\"node\"><title>4</title>\n",
       "<polygon fill=\"#399de5\" fill-opacity=\"0.988235\" stroke=\"black\" points=\"262,-469 65,-469 65,-401 262,-401 262,-469\"/>\n",
       "<text text-anchor=\"middle\" x=\"163.5\" y=\"-453.8\" font-family=\"Times,serif\" font-size=\"14.00\">worst texture &lt;= 30.145</text>\n",
       "<text text-anchor=\"middle\" x=\"163.5\" y=\"-438.8\" font-family=\"Times,serif\" font-size=\"14.00\">samples = 246</text>\n",
       "<text text-anchor=\"middle\" x=\"163.5\" y=\"-423.8\" font-family=\"Times,serif\" font-size=\"14.00\">value = [3, 243]</text>\n",
       "<text text-anchor=\"middle\" x=\"163.5\" y=\"-408.8\" font-family=\"Times,serif\" font-size=\"14.00\">class = benign</text>\n",
       "</g>\n",
       "<!-- 3&#45;&gt;4 -->\n",
       "<g id=\"edge4\" class=\"edge\"><title>3&#45;&gt;4</title>\n",
       "<path fill=\"none\" stroke=\"black\" d=\"M272.903,-504.884C257.547,-495.214 240.63,-484.563 224.786,-474.587\"/>\n",
       "<polygon fill=\"black\" stroke=\"black\" points=\"226.437,-471.491 216.11,-469.125 222.707,-477.415 226.437,-471.491\"/>\n",
       "</g>\n",
       "<!-- 13 -->\n",
       "<g id=\"node14\" class=\"node\"><title>13</title>\n",
       "<polygon fill=\"#e58139\" stroke=\"black\" points=\"426.5,-461.5 280.5,-461.5 280.5,-408.5 426.5,-408.5 426.5,-461.5\"/>\n",
       "<text text-anchor=\"middle\" x=\"353.5\" y=\"-446.3\" font-family=\"Times,serif\" font-size=\"14.00\">samples = 1</text>\n",
       "<text text-anchor=\"middle\" x=\"353.5\" y=\"-431.3\" font-family=\"Times,serif\" font-size=\"14.00\">value = [1, 0]</text>\n",
       "<text text-anchor=\"middle\" x=\"353.5\" y=\"-416.3\" font-family=\"Times,serif\" font-size=\"14.00\">class = malignant</text>\n",
       "</g>\n",
       "<!-- 3&#45;&gt;13 -->\n",
       "<g id=\"edge13\" class=\"edge\"><title>3&#45;&gt;13</title>\n",
       "<path fill=\"none\" stroke=\"black\" d=\"M334.591,-504.884C337.549,-494.106 340.843,-482.108 343.842,-471.184\"/>\n",
       "<polygon fill=\"black\" stroke=\"black\" points=\"347.222,-472.09 346.495,-461.52 340.472,-470.237 347.222,-472.09\"/>\n",
       "</g>\n",
       "<!-- 5 -->\n",
       "<g id=\"node6\" class=\"node\"><title>5</title>\n",
       "<polygon fill=\"#399de5\" stroke=\"black\" points=\"131,-357.5 0,-357.5 0,-304.5 131,-304.5 131,-357.5\"/>\n",
       "<text text-anchor=\"middle\" x=\"65.5\" y=\"-342.3\" font-family=\"Times,serif\" font-size=\"14.00\">samples = 215</text>\n",
       "<text text-anchor=\"middle\" x=\"65.5\" y=\"-327.3\" font-family=\"Times,serif\" font-size=\"14.00\">value = [0, 215]</text>\n",
       "<text text-anchor=\"middle\" x=\"65.5\" y=\"-312.3\" font-family=\"Times,serif\" font-size=\"14.00\">class = benign</text>\n",
       "</g>\n",
       "<!-- 4&#45;&gt;5 -->\n",
       "<g id=\"edge5\" class=\"edge\"><title>4&#45;&gt;5</title>\n",
       "<path fill=\"none\" stroke=\"black\" d=\"M131.682,-400.884C120.587,-389.336 108.147,-376.387 97.0718,-364.86\"/>\n",
       "<polygon fill=\"black\" stroke=\"black\" points=\"99.4713,-362.306 90.0191,-357.52 94.4236,-367.156 99.4713,-362.306\"/>\n",
       "</g>\n",
       "<!-- 6 -->\n",
       "<g id=\"node7\" class=\"node\"><title>6</title>\n",
       "<polygon fill=\"#399de5\" fill-opacity=\"0.894118\" stroke=\"black\" points=\"374,-365 149,-365 149,-297 374,-297 374,-365\"/>\n",
       "<text text-anchor=\"middle\" x=\"261.5\" y=\"-349.8\" font-family=\"Times,serif\" font-size=\"14.00\">smoothness error &lt;= 0.0042</text>\n",
       "<text text-anchor=\"middle\" x=\"261.5\" y=\"-334.8\" font-family=\"Times,serif\" font-size=\"14.00\">samples = 31</text>\n",
       "<text text-anchor=\"middle\" x=\"261.5\" y=\"-319.8\" font-family=\"Times,serif\" font-size=\"14.00\">value = [3, 28]</text>\n",
       "<text text-anchor=\"middle\" x=\"261.5\" y=\"-304.8\" font-family=\"Times,serif\" font-size=\"14.00\">class = benign</text>\n",
       "</g>\n",
       "<!-- 4&#45;&gt;6 -->\n",
       "<g id=\"edge6\" class=\"edge\"><title>4&#45;&gt;6</title>\n",
       "<path fill=\"none\" stroke=\"black\" d=\"M195.318,-400.884C203.961,-391.887 213.422,-382.041 222.417,-372.678\"/>\n",
       "<polygon fill=\"black\" stroke=\"black\" points=\"225.102,-374.935 229.506,-365.299 220.054,-370.086 225.102,-374.935\"/>\n",
       "</g>\n",
       "<!-- 7 -->\n",
       "<g id=\"node8\" class=\"node\"><title>7</title>\n",
       "<polygon fill=\"#e58139\" stroke=\"black\" points=\"244.5,-253.5 98.5,-253.5 98.5,-200.5 244.5,-200.5 244.5,-253.5\"/>\n",
       "<text text-anchor=\"middle\" x=\"171.5\" y=\"-238.3\" font-family=\"Times,serif\" font-size=\"14.00\">samples = 2</text>\n",
       "<text text-anchor=\"middle\" x=\"171.5\" y=\"-223.3\" font-family=\"Times,serif\" font-size=\"14.00\">value = [2, 0]</text>\n",
       "<text text-anchor=\"middle\" x=\"171.5\" y=\"-208.3\" font-family=\"Times,serif\" font-size=\"14.00\">class = malignant</text>\n",
       "</g>\n",
       "<!-- 6&#45;&gt;7 -->\n",
       "<g id=\"edge7\" class=\"edge\"><title>6&#45;&gt;7</title>\n",
       "<path fill=\"none\" stroke=\"black\" d=\"M232.28,-296.884C222.187,-285.446 210.883,-272.634 200.785,-261.19\"/>\n",
       "<polygon fill=\"black\" stroke=\"black\" points=\"203.258,-258.703 194.018,-253.52 198.009,-263.334 203.258,-258.703\"/>\n",
       "</g>\n",
       "<!-- 8 -->\n",
       "<g id=\"node9\" class=\"node\"><title>8</title>\n",
       "<polygon fill=\"#399de5\" fill-opacity=\"0.964706\" stroke=\"black\" points=\"440,-261 263,-261 263,-193 440,-193 440,-261\"/>\n",
       "<text text-anchor=\"middle\" x=\"351.5\" y=\"-245.8\" font-family=\"Times,serif\" font-size=\"14.00\">mean texture &lt;= 23.2</text>\n",
       "<text text-anchor=\"middle\" x=\"351.5\" y=\"-230.8\" font-family=\"Times,serif\" font-size=\"14.00\">samples = 29</text>\n",
       "<text text-anchor=\"middle\" x=\"351.5\" y=\"-215.8\" font-family=\"Times,serif\" font-size=\"14.00\">value = [1, 28]</text>\n",
       "<text text-anchor=\"middle\" x=\"351.5\" y=\"-200.8\" font-family=\"Times,serif\" font-size=\"14.00\">class = benign</text>\n",
       "</g>\n",
       "<!-- 6&#45;&gt;8 -->\n",
       "<g id=\"edge8\" class=\"edge\"><title>6&#45;&gt;8</title>\n",
       "<path fill=\"none\" stroke=\"black\" d=\"M290.72,-296.884C298.58,-287.976 307.175,-278.235 315.362,-268.957\"/>\n",
       "<polygon fill=\"black\" stroke=\"black\" points=\"318.126,-271.113 322.118,-261.299 312.878,-266.482 318.126,-271.113\"/>\n",
       "</g>\n",
       "<!-- 9 -->\n",
       "<g id=\"node10\" class=\"node\"><title>9</title>\n",
       "<polygon fill=\"#399de5\" fill-opacity=\"0.749020\" stroke=\"black\" points=\"360,-157 165,-157 165,-89 360,-89 360,-157\"/>\n",
       "<text text-anchor=\"middle\" x=\"262.5\" y=\"-141.8\" font-family=\"Times,serif\" font-size=\"14.00\">mean texture &lt;= 22.385</text>\n",
       "<text text-anchor=\"middle\" x=\"262.5\" y=\"-126.8\" font-family=\"Times,serif\" font-size=\"14.00\">samples = 5</text>\n",
       "<text text-anchor=\"middle\" x=\"262.5\" y=\"-111.8\" font-family=\"Times,serif\" font-size=\"14.00\">value = [1, 4]</text>\n",
       "<text text-anchor=\"middle\" x=\"262.5\" y=\"-96.8\" font-family=\"Times,serif\" font-size=\"14.00\">class = benign</text>\n",
       "</g>\n",
       "<!-- 8&#45;&gt;9 -->\n",
       "<g id=\"edge9\" class=\"edge\"><title>8&#45;&gt;9</title>\n",
       "<path fill=\"none\" stroke=\"black\" d=\"M322.604,-192.884C314.832,-183.976 306.333,-174.235 298.237,-164.957\"/>\n",
       "<polygon fill=\"black\" stroke=\"black\" points=\"300.767,-162.533 291.555,-157.299 295.493,-167.135 300.767,-162.533\"/>\n",
       "</g>\n",
       "<!-- 12 -->\n",
       "<g id=\"node13\" class=\"node\"><title>12</title>\n",
       "<polygon fill=\"#399de5\" stroke=\"black\" points=\"500.5,-149.5 378.5,-149.5 378.5,-96.5 500.5,-96.5 500.5,-149.5\"/>\n",
       "<text text-anchor=\"middle\" x=\"439.5\" y=\"-134.3\" font-family=\"Times,serif\" font-size=\"14.00\">samples = 24</text>\n",
       "<text text-anchor=\"middle\" x=\"439.5\" y=\"-119.3\" font-family=\"Times,serif\" font-size=\"14.00\">value = [0, 24]</text>\n",
       "<text text-anchor=\"middle\" x=\"439.5\" y=\"-104.3\" font-family=\"Times,serif\" font-size=\"14.00\">class = benign</text>\n",
       "</g>\n",
       "<!-- 8&#45;&gt;12 -->\n",
       "<g id=\"edge12\" class=\"edge\"><title>8&#45;&gt;12</title>\n",
       "<path fill=\"none\" stroke=\"black\" d=\"M380.071,-192.884C389.939,-181.446 400.992,-168.634 410.865,-157.19\"/>\n",
       "<polygon fill=\"black\" stroke=\"black\" points=\"413.6,-159.378 417.483,-149.52 408.3,-154.805 413.6,-159.378\"/>\n",
       "</g>\n",
       "<!-- 10 -->\n",
       "<g id=\"node11\" class=\"node\"><title>10</title>\n",
       "<polygon fill=\"#399de5\" stroke=\"black\" points=\"247.5,-53 125.5,-53 125.5,-0 247.5,-0 247.5,-53\"/>\n",
       "<text text-anchor=\"middle\" x=\"186.5\" y=\"-37.8\" font-family=\"Times,serif\" font-size=\"14.00\">samples = 4</text>\n",
       "<text text-anchor=\"middle\" x=\"186.5\" y=\"-22.8\" font-family=\"Times,serif\" font-size=\"14.00\">value = [0, 4]</text>\n",
       "<text text-anchor=\"middle\" x=\"186.5\" y=\"-7.8\" font-family=\"Times,serif\" font-size=\"14.00\">class = benign</text>\n",
       "</g>\n",
       "<!-- 9&#45;&gt;10 -->\n",
       "<g id=\"edge10\" class=\"edge\"><title>9&#45;&gt;10</title>\n",
       "<path fill=\"none\" stroke=\"black\" d=\"M235.919,-88.9485C228.709,-79.9834 220.894,-70.2666 213.653,-61.2629\"/>\n",
       "<polygon fill=\"black\" stroke=\"black\" points=\"216.193,-58.8358 207.198,-53.2367 210.738,-63.2228 216.193,-58.8358\"/>\n",
       "</g>\n",
       "<!-- 11 -->\n",
       "<g id=\"node12\" class=\"node\"><title>11</title>\n",
       "<polygon fill=\"#e58139\" stroke=\"black\" points=\"411.5,-53 265.5,-53 265.5,-0 411.5,-0 411.5,-53\"/>\n",
       "<text text-anchor=\"middle\" x=\"338.5\" y=\"-37.8\" font-family=\"Times,serif\" font-size=\"14.00\">samples = 1</text>\n",
       "<text text-anchor=\"middle\" x=\"338.5\" y=\"-22.8\" font-family=\"Times,serif\" font-size=\"14.00\">value = [1, 0]</text>\n",
       "<text text-anchor=\"middle\" x=\"338.5\" y=\"-7.8\" font-family=\"Times,serif\" font-size=\"14.00\">class = malignant</text>\n",
       "</g>\n",
       "<!-- 9&#45;&gt;11 -->\n",
       "<g id=\"edge11\" class=\"edge\"><title>9&#45;&gt;11</title>\n",
       "<path fill=\"none\" stroke=\"black\" d=\"M289.081,-88.9485C296.291,-79.9834 304.106,-70.2666 311.347,-61.2629\"/>\n",
       "<polygon fill=\"black\" stroke=\"black\" points=\"314.262,-63.2228 317.802,-53.2367 308.807,-58.8358 314.262,-63.2228\"/>\n",
       "</g>\n",
       "<!-- 15 -->\n",
       "<g id=\"node16\" class=\"node\"><title>15</title>\n",
       "<polygon fill=\"#399de5\" stroke=\"black\" points=\"621.5,-461.5 499.5,-461.5 499.5,-408.5 621.5,-408.5 621.5,-461.5\"/>\n",
       "<text text-anchor=\"middle\" x=\"560.5\" y=\"-446.3\" font-family=\"Times,serif\" font-size=\"14.00\">samples = 2</text>\n",
       "<text text-anchor=\"middle\" x=\"560.5\" y=\"-431.3\" font-family=\"Times,serif\" font-size=\"14.00\">value = [0, 2]</text>\n",
       "<text text-anchor=\"middle\" x=\"560.5\" y=\"-416.3\" font-family=\"Times,serif\" font-size=\"14.00\">class = benign</text>\n",
       "</g>\n",
       "<!-- 14&#45;&gt;15 -->\n",
       "<g id=\"edge15\" class=\"edge\"><title>14&#45;&gt;15</title>\n",
       "<path fill=\"none\" stroke=\"black\" d=\"M578.734,-504.884C575.91,-494.216 572.77,-482.352 569.902,-471.519\"/>\n",
       "<polygon fill=\"black\" stroke=\"black\" points=\"573.198,-470.291 567.255,-461.52 566.431,-472.083 573.198,-470.291\"/>\n",
       "</g>\n",
       "<!-- 16 -->\n",
       "<g id=\"node17\" class=\"node\"><title>16</title>\n",
       "<polygon fill=\"#e58139\" stroke=\"black\" points=\"785.5,-461.5 639.5,-461.5 639.5,-408.5 785.5,-408.5 785.5,-461.5\"/>\n",
       "<text text-anchor=\"middle\" x=\"712.5\" y=\"-446.3\" font-family=\"Times,serif\" font-size=\"14.00\">samples = 3</text>\n",
       "<text text-anchor=\"middle\" x=\"712.5\" y=\"-431.3\" font-family=\"Times,serif\" font-size=\"14.00\">value = [3, 0]</text>\n",
       "<text text-anchor=\"middle\" x=\"712.5\" y=\"-416.3\" font-family=\"Times,serif\" font-size=\"14.00\">class = malignant</text>\n",
       "</g>\n",
       "<!-- 14&#45;&gt;16 -->\n",
       "<g id=\"edge16\" class=\"edge\"><title>14&#45;&gt;16</title>\n",
       "<path fill=\"none\" stroke=\"black\" d=\"M628.084,-504.884C642.64,-493.006 659.012,-479.646 673.436,-467.876\"/>\n",
       "<polygon fill=\"black\" stroke=\"black\" points=\"675.691,-470.554 681.226,-461.52 671.265,-465.13 675.691,-470.554\"/>\n",
       "</g>\n",
       "<!-- 18 -->\n",
       "<g id=\"node19\" class=\"node\"><title>18</title>\n",
       "<polygon fill=\"#399de5\" stroke=\"black\" points=\"852.5,-565.5 730.5,-565.5 730.5,-512.5 852.5,-512.5 852.5,-565.5\"/>\n",
       "<text text-anchor=\"middle\" x=\"791.5\" y=\"-550.3\" font-family=\"Times,serif\" font-size=\"14.00\">samples = 2</text>\n",
       "<text text-anchor=\"middle\" x=\"791.5\" y=\"-535.3\" font-family=\"Times,serif\" font-size=\"14.00\">value = [0, 2]</text>\n",
       "<text text-anchor=\"middle\" x=\"791.5\" y=\"-520.3\" font-family=\"Times,serif\" font-size=\"14.00\">class = benign</text>\n",
       "</g>\n",
       "<!-- 17&#45;&gt;18 -->\n",
       "<g id=\"edge18\" class=\"edge\"><title>17&#45;&gt;18</title>\n",
       "<path fill=\"none\" stroke=\"black\" d=\"M832.695,-608.884C826.052,-597.776 818.634,-585.372 811.943,-574.184\"/>\n",
       "<polygon fill=\"black\" stroke=\"black\" points=\"814.898,-572.306 806.762,-565.52 808.891,-575.899 814.898,-572.306\"/>\n",
       "</g>\n",
       "<!-- 19 -->\n",
       "<g id=\"node20\" class=\"node\"><title>19</title>\n",
       "<polygon fill=\"#e58139\" stroke=\"black\" points=\"1016.5,-565.5 870.5,-565.5 870.5,-512.5 1016.5,-512.5 1016.5,-565.5\"/>\n",
       "<text text-anchor=\"middle\" x=\"943.5\" y=\"-550.3\" font-family=\"Times,serif\" font-size=\"14.00\">samples = 6</text>\n",
       "<text text-anchor=\"middle\" x=\"943.5\" y=\"-535.3\" font-family=\"Times,serif\" font-size=\"14.00\">value = [6, 0]</text>\n",
       "<text text-anchor=\"middle\" x=\"943.5\" y=\"-520.3\" font-family=\"Times,serif\" font-size=\"14.00\">class = malignant</text>\n",
       "</g>\n",
       "<!-- 17&#45;&gt;19 -->\n",
       "<g id=\"edge19\" class=\"edge\"><title>17&#45;&gt;19</title>\n",
       "<path fill=\"none\" stroke=\"black\" d=\"M882.045,-608.884C892.249,-597.446 903.68,-584.634 913.889,-573.19\"/>\n",
       "<polygon fill=\"black\" stroke=\"black\" points=\"916.687,-575.312 920.732,-565.52 911.463,-570.652 916.687,-575.312\"/>\n",
       "</g>\n",
       "<!-- 21 -->\n",
       "<g id=\"node22\" class=\"node\"><title>21</title>\n",
       "<polygon fill=\"#399de5\" fill-opacity=\"0.235294\" stroke=\"black\" points=\"1218.5,-677 1030.5,-677 1030.5,-609 1218.5,-609 1218.5,-677\"/>\n",
       "<text text-anchor=\"middle\" x=\"1124.5\" y=\"-661.8\" font-family=\"Times,serif\" font-size=\"14.00\">worst texture &lt;= 23.74</text>\n",
       "<text text-anchor=\"middle\" x=\"1124.5\" y=\"-646.8\" font-family=\"Times,serif\" font-size=\"14.00\">samples = 30</text>\n",
       "<text text-anchor=\"middle\" x=\"1124.5\" y=\"-631.8\" font-family=\"Times,serif\" font-size=\"14.00\">value = [13, 17]</text>\n",
       "<text text-anchor=\"middle\" x=\"1124.5\" y=\"-616.8\" font-family=\"Times,serif\" font-size=\"14.00\">class = benign</text>\n",
       "</g>\n",
       "<!-- 20&#45;&gt;21 -->\n",
       "<g id=\"edge21\" class=\"edge\"><title>20&#45;&gt;21</title>\n",
       "<path fill=\"none\" stroke=\"black\" d=\"M1124.5,-712.884C1124.5,-704.778 1124.5,-695.982 1124.5,-687.472\"/>\n",
       "<polygon fill=\"black\" stroke=\"black\" points=\"1128,-687.299 1124.5,-677.299 1121,-687.299 1128,-687.299\"/>\n",
       "</g>\n",
       "<!-- 26 -->\n",
       "<g id=\"node27\" class=\"node\"><title>26</title>\n",
       "<polygon fill=\"#e58139\" fill-opacity=\"0.976471\" stroke=\"black\" points=\"1584,-677 1399,-677 1399,-609 1584,-609 1584,-677\"/>\n",
       "<text text-anchor=\"middle\" x=\"1491.5\" y=\"-661.8\" font-family=\"Times,serif\" font-size=\"14.00\">radius error &lt;= 0.1919</text>\n",
       "<text text-anchor=\"middle\" x=\"1491.5\" y=\"-646.8\" font-family=\"Times,serif\" font-size=\"14.00\">samples = 136</text>\n",
       "<text text-anchor=\"middle\" x=\"1491.5\" y=\"-631.8\" font-family=\"Times,serif\" font-size=\"14.00\">value = [133, 3]</text>\n",
       "<text text-anchor=\"middle\" x=\"1491.5\" y=\"-616.8\" font-family=\"Times,serif\" font-size=\"14.00\">class = malignant</text>\n",
       "</g>\n",
       "<!-- 20&#45;&gt;26 -->\n",
       "<g id=\"edge26\" class=\"edge\"><title>20&#45;&gt;26</title>\n",
       "<path fill=\"none\" stroke=\"black\" d=\"M1208.24,-722.727C1261.93,-707.803 1332,-688.329 1389.02,-672.483\"/>\n",
       "<polygon fill=\"black\" stroke=\"black\" points=\"1390.08,-675.82 1398.78,-669.77 1388.2,-669.076 1390.08,-675.82\"/>\n",
       "</g>\n",
       "<!-- 22 -->\n",
       "<g id=\"node23\" class=\"node\"><title>22</title>\n",
       "<polygon fill=\"#399de5\" stroke=\"black\" points=\"1156.5,-565.5 1034.5,-565.5 1034.5,-512.5 1156.5,-512.5 1156.5,-565.5\"/>\n",
       "<text text-anchor=\"middle\" x=\"1095.5\" y=\"-550.3\" font-family=\"Times,serif\" font-size=\"14.00\">samples = 14</text>\n",
       "<text text-anchor=\"middle\" x=\"1095.5\" y=\"-535.3\" font-family=\"Times,serif\" font-size=\"14.00\">value = [0, 14]</text>\n",
       "<text text-anchor=\"middle\" x=\"1095.5\" y=\"-520.3\" font-family=\"Times,serif\" font-size=\"14.00\">class = benign</text>\n",
       "</g>\n",
       "<!-- 21&#45;&gt;22 -->\n",
       "<g id=\"edge22\" class=\"edge\"><title>21&#45;&gt;22</title>\n",
       "<path fill=\"none\" stroke=\"black\" d=\"M1115.08,-608.884C1112.02,-598.106 1108.61,-586.108 1105.5,-575.184\"/>\n",
       "<polygon fill=\"black\" stroke=\"black\" points=\"1108.86,-574.182 1102.76,-565.52 1102.12,-576.096 1108.86,-574.182\"/>\n",
       "</g>\n",
       "<!-- 23 -->\n",
       "<g id=\"node24\" class=\"node\"><title>23</title>\n",
       "<polygon fill=\"#e58139\" fill-opacity=\"0.768627\" stroke=\"black\" points=\"1412.5,-573 1174.5,-573 1174.5,-505 1412.5,-505 1412.5,-573\"/>\n",
       "<text text-anchor=\"middle\" x=\"1293.5\" y=\"-557.8\" font-family=\"Times,serif\" font-size=\"14.00\">worst compactness &lt;= 0.2634</text>\n",
       "<text text-anchor=\"middle\" x=\"1293.5\" y=\"-542.8\" font-family=\"Times,serif\" font-size=\"14.00\">samples = 16</text>\n",
       "<text text-anchor=\"middle\" x=\"1293.5\" y=\"-527.8\" font-family=\"Times,serif\" font-size=\"14.00\">value = [13, 3]</text>\n",
       "<text text-anchor=\"middle\" x=\"1293.5\" y=\"-512.8\" font-family=\"Times,serif\" font-size=\"14.00\">class = malignant</text>\n",
       "</g>\n",
       "<!-- 21&#45;&gt;23 -->\n",
       "<g id=\"edge23\" class=\"edge\"><title>21&#45;&gt;23</title>\n",
       "<path fill=\"none\" stroke=\"black\" d=\"M1179.37,-608.884C1195.54,-599.125 1213.36,-588.366 1230.03,-578.31\"/>\n",
       "<polygon fill=\"black\" stroke=\"black\" points=\"1231.86,-581.289 1238.62,-573.125 1228.25,-575.296 1231.86,-581.289\"/>\n",
       "</g>\n",
       "<!-- 24 -->\n",
       "<g id=\"node25\" class=\"node\"><title>24</title>\n",
       "<polygon fill=\"#399de5\" stroke=\"black\" points=\"1278.5,-461.5 1156.5,-461.5 1156.5,-408.5 1278.5,-408.5 1278.5,-461.5\"/>\n",
       "<text text-anchor=\"middle\" x=\"1217.5\" y=\"-446.3\" font-family=\"Times,serif\" font-size=\"14.00\">samples = 3</text>\n",
       "<text text-anchor=\"middle\" x=\"1217.5\" y=\"-431.3\" font-family=\"Times,serif\" font-size=\"14.00\">value = [0, 3]</text>\n",
       "<text text-anchor=\"middle\" x=\"1217.5\" y=\"-416.3\" font-family=\"Times,serif\" font-size=\"14.00\">class = benign</text>\n",
       "</g>\n",
       "<!-- 23&#45;&gt;24 -->\n",
       "<g id=\"edge24\" class=\"edge\"><title>23&#45;&gt;24</title>\n",
       "<path fill=\"none\" stroke=\"black\" d=\"M1268.82,-504.884C1260.47,-493.666 1251.12,-481.126 1242.72,-469.852\"/>\n",
       "<polygon fill=\"black\" stroke=\"black\" points=\"1245.3,-467.448 1236.51,-461.52 1239.68,-471.63 1245.3,-467.448\"/>\n",
       "</g>\n",
       "<!-- 25 -->\n",
       "<g id=\"node26\" class=\"node\"><title>25</title>\n",
       "<polygon fill=\"#e58139\" stroke=\"black\" points=\"1442.5,-461.5 1296.5,-461.5 1296.5,-408.5 1442.5,-408.5 1442.5,-461.5\"/>\n",
       "<text text-anchor=\"middle\" x=\"1369.5\" y=\"-446.3\" font-family=\"Times,serif\" font-size=\"14.00\">samples = 13</text>\n",
       "<text text-anchor=\"middle\" x=\"1369.5\" y=\"-431.3\" font-family=\"Times,serif\" font-size=\"14.00\">value = [13, 0]</text>\n",
       "<text text-anchor=\"middle\" x=\"1369.5\" y=\"-416.3\" font-family=\"Times,serif\" font-size=\"14.00\">class = malignant</text>\n",
       "</g>\n",
       "<!-- 23&#45;&gt;25 -->\n",
       "<g id=\"edge25\" class=\"edge\"><title>23&#45;&gt;25</title>\n",
       "<path fill=\"none\" stroke=\"black\" d=\"M1318.18,-504.884C1326.53,-493.666 1335.88,-481.126 1344.28,-469.852\"/>\n",
       "<polygon fill=\"black\" stroke=\"black\" points=\"1347.32,-471.63 1350.49,-461.52 1341.7,-467.448 1347.32,-471.63\"/>\n",
       "</g>\n",
       "<!-- 27 -->\n",
       "<g id=\"node28\" class=\"node\"><title>27</title>\n",
       "<polygon fill=\"#399de5\" stroke=\"black\" points=\"1552.5,-565.5 1430.5,-565.5 1430.5,-512.5 1552.5,-512.5 1552.5,-565.5\"/>\n",
       "<text text-anchor=\"middle\" x=\"1491.5\" y=\"-550.3\" font-family=\"Times,serif\" font-size=\"14.00\">samples = 2</text>\n",
       "<text text-anchor=\"middle\" x=\"1491.5\" y=\"-535.3\" font-family=\"Times,serif\" font-size=\"14.00\">value = [0, 2]</text>\n",
       "<text text-anchor=\"middle\" x=\"1491.5\" y=\"-520.3\" font-family=\"Times,serif\" font-size=\"14.00\">class = benign</text>\n",
       "</g>\n",
       "<!-- 26&#45;&gt;27 -->\n",
       "<g id=\"edge27\" class=\"edge\"><title>26&#45;&gt;27</title>\n",
       "<path fill=\"none\" stroke=\"black\" d=\"M1491.5,-608.884C1491.5,-598.326 1491.5,-586.597 1491.5,-575.854\"/>\n",
       "<polygon fill=\"black\" stroke=\"black\" points=\"1495,-575.52 1491.5,-565.52 1488,-575.52 1495,-575.52\"/>\n",
       "</g>\n",
       "<!-- 28 -->\n",
       "<g id=\"node29\" class=\"node\"><title>28</title>\n",
       "<polygon fill=\"#e58139\" fill-opacity=\"0.992157\" stroke=\"black\" points=\"1784,-573 1571,-573 1571,-505 1784,-505 1784,-573\"/>\n",
       "<text text-anchor=\"middle\" x=\"1677.5\" y=\"-557.8\" font-family=\"Times,serif\" font-size=\"14.00\">worst concavity &lt;= 0.1821</text>\n",
       "<text text-anchor=\"middle\" x=\"1677.5\" y=\"-542.8\" font-family=\"Times,serif\" font-size=\"14.00\">samples = 134</text>\n",
       "<text text-anchor=\"middle\" x=\"1677.5\" y=\"-527.8\" font-family=\"Times,serif\" font-size=\"14.00\">value = [133, 1]</text>\n",
       "<text text-anchor=\"middle\" x=\"1677.5\" y=\"-512.8\" font-family=\"Times,serif\" font-size=\"14.00\">class = malignant</text>\n",
       "</g>\n",
       "<!-- 26&#45;&gt;28 -->\n",
       "<g id=\"edge28\" class=\"edge\"><title>26&#45;&gt;28</title>\n",
       "<path fill=\"none\" stroke=\"black\" d=\"M1551.89,-608.884C1569.85,-599.035 1589.66,-588.169 1608.14,-578.034\"/>\n",
       "<polygon fill=\"black\" stroke=\"black\" points=\"1610.01,-581.002 1617.1,-573.125 1606.65,-574.864 1610.01,-581.002\"/>\n",
       "</g>\n",
       "<!-- 29 -->\n",
       "<g id=\"node30\" class=\"node\"><title>29</title>\n",
       "<polygon fill=\"#399de5\" stroke=\"black\" points=\"1662.5,-461.5 1540.5,-461.5 1540.5,-408.5 1662.5,-408.5 1662.5,-461.5\"/>\n",
       "<text text-anchor=\"middle\" x=\"1601.5\" y=\"-446.3\" font-family=\"Times,serif\" font-size=\"14.00\">samples = 1</text>\n",
       "<text text-anchor=\"middle\" x=\"1601.5\" y=\"-431.3\" font-family=\"Times,serif\" font-size=\"14.00\">value = [0, 1]</text>\n",
       "<text text-anchor=\"middle\" x=\"1601.5\" y=\"-416.3\" font-family=\"Times,serif\" font-size=\"14.00\">class = benign</text>\n",
       "</g>\n",
       "<!-- 28&#45;&gt;29 -->\n",
       "<g id=\"edge29\" class=\"edge\"><title>28&#45;&gt;29</title>\n",
       "<path fill=\"none\" stroke=\"black\" d=\"M1652.82,-504.884C1644.47,-493.666 1635.12,-481.126 1626.72,-469.852\"/>\n",
       "<polygon fill=\"black\" stroke=\"black\" points=\"1629.3,-467.448 1620.51,-461.52 1623.68,-471.63 1629.3,-467.448\"/>\n",
       "</g>\n",
       "<!-- 30 -->\n",
       "<g id=\"node31\" class=\"node\"><title>30</title>\n",
       "<polygon fill=\"#e58139\" stroke=\"black\" points=\"1826.5,-461.5 1680.5,-461.5 1680.5,-408.5 1826.5,-408.5 1826.5,-461.5\"/>\n",
       "<text text-anchor=\"middle\" x=\"1753.5\" y=\"-446.3\" font-family=\"Times,serif\" font-size=\"14.00\">samples = 133</text>\n",
       "<text text-anchor=\"middle\" x=\"1753.5\" y=\"-431.3\" font-family=\"Times,serif\" font-size=\"14.00\">value = [133, 0]</text>\n",
       "<text text-anchor=\"middle\" x=\"1753.5\" y=\"-416.3\" font-family=\"Times,serif\" font-size=\"14.00\">class = malignant</text>\n",
       "</g>\n",
       "<!-- 28&#45;&gt;30 -->\n",
       "<g id=\"edge30\" class=\"edge\"><title>28&#45;&gt;30</title>\n",
       "<path fill=\"none\" stroke=\"black\" d=\"M1702.18,-504.884C1710.53,-493.666 1719.88,-481.126 1728.28,-469.852\"/>\n",
       "<polygon fill=\"black\" stroke=\"black\" points=\"1731.32,-471.63 1734.49,-461.52 1725.7,-467.448 1731.32,-471.63\"/>\n",
       "</g>\n",
       "</g>\n",
       "</svg>\n"
      ],
      "text/plain": [
       "<graphviz.files.Source at 0x7fdc740405f8>"
      ]
     },
     "execution_count": 31,
     "metadata": {},
     "output_type": "execute_result"
    }
   ],
   "source": [
    "from sklearn.tree import DecisionTreeClassifier\n",
    "from adspy_shared_utilities import plot_decision_tree\n",
    "from adspy_shared_utilities import plot_feature_importances\n",
    "\n",
    "X_train, X_test, y_train, y_test = train_test_split(X_cancer, y_cancer, random_state = 0)\n",
    "\n",
    "clf = DecisionTreeClassifier(random_state = 0).fit(X_train,y_train)\n",
    "\n",
    "plot_decision_tree(clf, cancer.feature_names, cancer.target_names)"
   ]
  },
  {
   "cell_type": "code",
   "execution_count": 32,
   "metadata": {
    "collapsed": false
   },
   "outputs": [
    {
     "name": "stdout",
     "output_type": "stream",
     "text": [
      "Breast cancer dataset: decision tree\n",
      "Accuracy of DT classifier on traing set: 1.000\n",
      "Accuracy of DT classifier on test set: 0.881\n"
     ]
    },
    {
     "data": {
      "image/png": "[encoded data removed]",
      "text/plain": [
       "<matplotlib.figure.Figure at 0x7fdc741afeb8>"
      ]
     },
     "metadata": {},
     "output_type": "display_data"
    }
   ],
   "source": [
    "print('Breast cancer dataset: decision tree')\n",
    "print('Accuracy of DT classifier on traing set: {:.3f}'.\n",
    "     format(clf.score(X_train, y_train)))\n",
    "print('Accuracy of DT classifier on test set: {:.3f}'.\n",
    "     format(clf.score(X_test,y_test)))\n",
    "\n",
    "plt.figure(figsize=(20,12))\n",
    "plot_feature_importances(clf, cancer.feature_names)\n",
    "plt.tight_layout()\n",
    "\n",
    "plt.show()"
   ]
  },
  {
   "cell_type": "code",
   "execution_count": null,
   "metadata": {
    "collapsed": true
   },
   "outputs": [],
   "source": [
    "#if a feature has a low feature value, that doesn't necessarly mean that the features is not important for prediction\n",
    "\n",
    "#It simply means that the particular feature wasn't chosen at an early level of the tree and this could be because that the feuature may \n",
    "# may be identical or highly correlated with another informative feature and so doesn't provide any new additional signal for prediction\n",
    "\n",
    "#because feature importancecan vary over multiple train/test splits. for example when performing cross-validation.\n"
   ]
  },
  {
   "cell_type": "code",
   "execution_count": null,
   "metadata": {
    "collapsed": true
   },
   "outputs": [],
   "source": [
    "#a des-advantage of decision trees despite the use of pruning they can still overfit all or parts of the data and may not archive the best\n",
    "#generalisation perfomance compared to other methods."
   ]
  },
  {
   "cell_type": "code",
   "execution_count": null,
   "metadata": {
    "collapsed": true
   },
   "outputs": [],
   "source": [
    "#Max_depth controls the maximum depth or the number of the split points the decision can have and its probably the most common\n",
    "#parameter used to reduce tree complexity and thus reduce overfittinng.\n",
    "\n",
    "#min_samples_leaf: threshhold for the minimum # of data instances a leaf can have to avoid further splitting.\n",
    "\n",
    "#max_leaf_nodes: limits the number of leaves in the tree."
   ]
  },
  {
   "cell_type": "code",
   "execution_count": 1,
   "metadata": {
    "collapsed": false
   },
   "outputs": [
    {
     "name": "stdout",
     "output_type": "stream",
     "text": [
      "0 178\n",
      "1 182\n",
      "2 177\n",
      "3 183\n",
      "4 181\n",
      "5 182\n",
      "6 181\n",
      "7 179\n",
      "8 174\n",
      "9 180\n"
     ]
    }
   ],
   "source": [
    "import numpy as np\n",
    "import pandas as pd\n",
    "import seaborn as sns\n",
    "import matplotlib.pyplot as plt\n",
    "from sklearn.model_selection import train_test_split\n",
    "from sklearn.datasets import load_digits\n",
    "\n",
    "dataset = load_digits()\n",
    "X,y = dataset.data, dataset.target\n",
    "\n",
    "for class_name, class_count in zip(dataset.target_names, np.bincount(dataset.target)):\n",
    "    print(class_name, class_count)"
   ]
  },
  {
   "cell_type": "code",
   "execution_count": 18,
   "metadata": {
    "collapsed": false
   },
   "outputs": [
    {
     "data": {
      "text/plain": [
       "array([0, 1, 2, 3, 4, 5, 6, 7, 8, 9])"
      ]
     },
     "execution_count": 18,
     "metadata": {},
     "output_type": "execute_result"
    }
   ],
   "source": [
    "tes = pd.Series(data = y)\n",
    "tes.unique()"
   ]
  },
  {
   "cell_type": "code",
   "execution_count": 2,
   "metadata": {
    "collapsed": false
   },
   "outputs": [
    {
     "name": "stdout",
     "output_type": "stream",
     "text": [
      "Original labels:\t [1 2 3 4 5 6 7 8 9 0 1 2 3 4 5 6 7 8 9 0 1 2 3 4 5 6 7 8 9]\n",
      "New binary labels:\t [1 0 0 0 0 0 0 0 0 0 1 0 0 0 0 0 0 0 0 0 1 0 0 0 0 0 0 0 0]\n"
     ]
    }
   ],
   "source": [
    "y_binary_imbalanced = y.copy()\n",
    "y_binary_imbalanced[y_binary_imbalanced != 1] =  0 #every label that does not equal to 1 is classified as 0 a negative class\n",
    "\n",
    "print('Original labels:\\t', y[1:30])\n",
    "print('New binary labels:\\t', y_binary_imbalanced[1:30])\n"
   ]
  },
  {
   "cell_type": "code",
   "execution_count": 3,
   "metadata": {
    "collapsed": false,
    "scrolled": true
   },
   "outputs": [
    {
     "data": {
      "text/plain": [
       "array([1615,  182])"
      ]
     },
     "execution_count": 3,
     "metadata": {},
     "output_type": "execute_result"
    }
   ],
   "source": [
    "np.bincount(y_binary_imbalanced)"
   ]
  },
  {
   "cell_type": "code",
   "execution_count": 3,
   "metadata": {
    "collapsed": false
   },
   "outputs": [
    {
     "data": {
      "text/plain": [
       "0.90888888888888886"
      ]
     },
     "execution_count": 3,
     "metadata": {},
     "output_type": "execute_result"
    }
   ],
   "source": [
    "X_train, X_test, y_train, y_test = train_test_split(X, y_binary_imbalanced, random_state = 0)\n",
    "\n",
    "from sklearn.svm import SVC\n",
    "\n",
    "svm =SVC(kernel = 'rbf', C = 1).fit(X_train, y_train)\n",
    "svm.score(X_test, y_test)"
   ]
  },
  {
   "cell_type": "code",
   "execution_count": 4,
   "metadata": {
    "collapsed": false
   },
   "outputs": [],
   "source": [
    "# DummyClassifier is a classifier that makes predictions using simple rules, which can \n",
    "# be useful as a baseline for comparison against actual classifiers, \n",
    "# especially with imbalanced classes.\n",
    "\n",
    "from sklearn.dummy import DummyClassifier\n",
    "\n",
    "dummy_majority = DummyClassifier(strategy = 'most_frequent').fit(X_train,y_train)\n",
    "y_dummy_predictions = dummy_majority.predict(X_test)\n"
   ]
  },
  {
   "cell_type": "code",
   "execution_count": null,
   "metadata": {
    "collapsed": true
   },
   "outputs": [],
   "source": [
    "#dummy classifiers provide what is called a null accuracy baseline by always picking the most frequent class\n",
    "#It provides a useful sanity checkin point of correction"
   ]
  },
  {
   "cell_type": "code",
   "execution_count": null,
   "metadata": {
    "collapsed": true
   },
   "outputs": [],
   "source": [
    "# If a classifier is close to the null accuracy basleine\n",
    "\n",
    "# this could be a sign of:\n",
    "#     ineffective, errorneous or missing values\n",
    "#     poor choice of kernel of hyperparameter\n",
    "#     large class imbalance"
   ]
  },
  {
   "cell_type": "code",
   "execution_count": null,
   "metadata": {
    "collapsed": true
   },
   "outputs": [],
   "source": [
    "# in general, for imbalanced classification problems. one should use metrices other than accuray\n"
   ]
  },
  {
   "cell_type": "code",
   "execution_count": null,
   "metadata": {
    "collapsed": true
   },
   "outputs": [],
   "source": [
    "# Dummy Regressors are the same as classifiers. \n",
    "\n",
    "# Strategy parameter options:\n",
    "#     mean: predicts the mean of the training targets.\n",
    "#     meadian: predicts the median of the training targets\n",
    "#     quantile: predicts a user-provided quantile of the training targets.\n",
    "#     constant: predicts a constant user-provided value.\n",
    "        \n"
   ]
  },
  {
   "cell_type": "code",
   "execution_count": 5,
   "metadata": {
    "collapsed": false
   },
   "outputs": [
    {
     "name": "stdout",
     "output_type": "stream",
     "text": [
      "Random class-proportional prediction (dummy classifier)\n",
      " [[407   0]\n",
      " [ 43   0]]\n",
      "0.0\n"
     ]
    },
    {
     "name": "stderr",
     "output_type": "stream",
     "text": [
      "/opt/conda/lib/python3.6/site-packages/sklearn/metrics/classification.py:1113: UndefinedMetricWarning: Precision is ill-defined and being set to 0.0 due to no predicted samples.\n",
      "  'precision', 'predicted', average, warn_for)\n"
     ]
    }
   ],
   "source": [
    "from sklearn.metrics import confusion_matrix\n",
    "from sklearn.metrics import precision_score\n",
    "\n",
    "dummy_majority = DummyClassifier(strategy = 'most_frequent').fit(X_train, y_train)\n",
    "y_majority_predicted = dummy_majority.predict(X_test)\n",
    "confusion = confusion_matrix(y_test, y_majority_predicted)\n",
    "\n",
    "print('Random class-proportional prediction (dummy classifier)\\n', confusion)\n",
    "print(precision_score(y_test,y_majority_predicted))"
   ]
  },
  {
   "cell_type": "code",
   "execution_count": 6,
   "metadata": {
    "collapsed": false
   },
   "outputs": [
    {
     "name": "stdout",
     "output_type": "stream",
     "text": [
      "Support vector machine classifier (linear kernel, C=1)\n",
      " [[402   5]\n",
      " [  5  38]]\n",
      "\n",
      " 0.883720930233\n"
     ]
    }
   ],
   "source": [
    "from sklearn.metrics import precision_score\n",
    "from sklearn.svm import SVC\n",
    "\n",
    "svm = SVC(kernel='linear', C=1).fit(X_train, y_train)\n",
    "svm_predicted = svm.predict(X_test)\n",
    "confusion = confusion_matrix(y_test, svm_predicted)\n",
    "\n",
    "print('Support vector machine classifier (linear kernel, C=1)\\n', confusion)\n",
    "print('\\n',precision_score(y_test, svm_predicted))"
   ]
  },
  {
   "cell_type": "code",
   "execution_count": 7,
   "metadata": {
    "collapsed": false
   },
   "outputs": [
    {
     "name": "stdout",
     "output_type": "stream",
     "text": [
      "Decision tree classifier (max_depth = 2)\n",
      " [[400   7]\n",
      " [ 17  26]]\n",
      "0.604651162791\n"
     ]
    }
   ],
   "source": [
    "from sklearn.tree import DecisionTreeClassifier\n",
    "from sklearn.metrics import confusion_matrix\n",
    "from sklearn.metrics import recall_score\n",
    "\n",
    "dt = DecisionTreeClassifier(max_depth = 2).fit(X_train,y_train)\n",
    "tree_predicted = dt.predict(X_test)\n",
    "confusion = confusion_matrix(y_test,tree_predicted)\n",
    "\n",
    "print('Decision tree classifier (max_depth = 2)\\n', confusion)\n",
    "print(recall_score(y_test, tree_predicted))"
   ]
  },
  {
   "cell_type": "code",
   "execution_count": 15,
   "metadata": {
    "collapsed": false
   },
   "outputs": [
    {
     "name": "stdout",
     "output_type": "stream",
     "text": [
      "Accuracy: 0.95\n",
      "Precision: 0.79\n",
      "Recall: 0.60\n",
      "F1: 0.68\n"
     ]
    }
   ],
   "source": [
    "from sklearn.metrics import accuracy_score, precision_score, recall_score, f1_score\n",
    "# Accuracy = TP + TN / (TP + TN + FP + FN)\n",
    "# Precision = TP / (TP + FP)\n",
    "# Recall = TP / (TP + FN)  Also known as sensitivity, or True Positive Rate\n",
    "# F1 = 2 * Precision * Recall / (Precision + Recall) \n",
    "print('Accuracy: {:.2f}'.format(accuracy_score(y_test,tree_predicted)))\n",
    "print('Precision: {:.2f}'.format(precision_score(y_test,tree_predicted)))\n",
    "print('Recall: {:.2f}'.format(recall_score(y_test,tree_predicted)))\n",
    "print('F1: {:.2f}'.format(f1_score(y_test,tree_predicted)))"
   ]
  },
  {
   "cell_type": "code",
   "execution_count": 8,
   "metadata": {
    "collapsed": false
   },
   "outputs": [
    {
     "name": "stdout",
     "output_type": "stream",
     "text": [
      "             precision    recall  f1-score   support\n",
      "\n",
      "          0       0.96      0.98      0.97       407\n",
      "          1       0.79      0.60      0.68        43\n",
      "\n",
      "avg / total       0.94      0.95      0.94       450\n",
      "\n"
     ]
    }
   ],
   "source": [
    "from sklearn.metrics import classification_report\n",
    "\n",
    "print(classification_report(y_test,tree_predicted))"
   ]
  },
  {
   "cell_type": "code",
   "execution_count": 17,
   "metadata": {
    "collapsed": false
   },
   "outputs": [
    {
     "data": {
      "text/plain": [
       "[(0, -23.172292973469546),\n",
       " (0, -13.542576515500063),\n",
       " (0, -21.717588760007867),\n",
       " (0, -18.903065133316439),\n",
       " (0, -19.733169947138638),\n",
       " (0, -9.7463217496747667),\n",
       " (1, 5.2327155658831135),\n",
       " (0, -19.308012306288916),\n",
       " (0, -25.099330209728528),\n",
       " (0, -21.824312362996),\n",
       " (0, -24.14378275072049),\n",
       " (0, -19.578811099762508),\n",
       " (0, -22.568371393280199),\n",
       " (0, -10.822590225240777),\n",
       " (0, -11.907918741521932),\n",
       " (0, -10.977026853802803),\n",
       " (1, 11.206811164226373),\n",
       " (0, -27.64415761980748),\n",
       " (0, -12.857692102545409),\n",
       " (0, -25.848149140240199),\n",
       " (0, -21.65049098788878),\n",
       " (0, -12.20315016323068),\n",
       " (0, -23.856018598052163),\n",
       " (0, -9.3248004830884614),\n",
       " (0, -30.922656170113651),\n",
       " (0, -17.306150368889043),\n",
       " (0, -16.893304058857371),\n",
       " (0, -36.632751987786349),\n",
       " (0, -31.39159940578562),\n",
       " (0, -27.342623269857295),\n",
       " (0, -16.709616404334746),\n",
       " (0, -26.491701816577809),\n",
       " (0, -12.56255270369661),\n",
       " (0, -6.0197557750932535),\n",
       " (0, -12.946164143308453),\n",
       " (0, -20.339839280410743),\n",
       " (0, -22.169278465098337),\n",
       " (1, -1.8713148705738916),\n",
       " (0, -18.029652432967083),\n",
       " (1, 14.738323021369364),\n",
       " (0, -7.5722937739522447),\n",
       " (0, -11.586892514369572),\n",
       " (0, -25.859951764396609),\n",
       " (0, -29.340967998762196),\n",
       " (1, -1.3051060977700382),\n",
       " (0, -28.761013286403063),\n",
       " (0, -26.073509405852278),\n",
       " (0, -18.658048159941384),\n",
       " (0, -20.652307234220356),\n",
       " (1, 5.7337835298532021),\n",
       " (0, -25.958193024289969),\n",
       " (0, -7.9547447471111798),\n",
       " (0, -24.006929912543299),\n",
       " (0, -24.218252610376734),\n",
       " (0, -30.162018598358522),\n",
       " (0, -28.582787818148844),\n",
       " (0, -9.1142397274976119),\n",
       " (1, -1.7269152415233386),\n",
       " (0, -26.928986256787113),\n",
       " (0, -27.584028805013805),\n",
       " (0, -14.073729222190392),\n",
       " (0, -6.9263930217634897),\n",
       " (0, -11.263059078671088),\n",
       " (0, -15.501805228415359),\n",
       " (1, 6.128567994573686),\n",
       " (0, -25.920628576742896),\n",
       " (0, -11.280735894204618),\n",
       " (0, -8.4989631943134363),\n",
       " (0, -13.036335494560117),\n",
       " (1, 3.7175240896155972),\n",
       " (0, -4.0733195586491089),\n",
       " (0, -16.285022349328496),\n",
       " (0, -30.556787832005085),\n",
       " (1, 16.028118648160373),\n",
       " (0, -22.256933547028584),\n",
       " (0, -1.0803354900545936),\n",
       " (0, -24.362284540438793),\n",
       " (0, -10.264217448750689),\n",
       " (0, -31.050577599090079),\n",
       " (0, -27.902113340679634),\n",
       " (0, 8.458581172931293),\n",
       " (0, -27.601805822466336),\n",
       " (0, -9.9371051010505553),\n",
       " (0, -33.939355800226771),\n",
       " (0, -20.951132835645023),\n",
       " (0, -15.879142946918464),\n",
       " (0, -10.364292337545262),\n",
       " (0, -29.422763970173069),\n",
       " (1, 1.0042279724280965),\n",
       " (0, -29.563393886423391),\n",
       " (0, -14.688362641160008),\n",
       " (0, -19.868711966244302),\n",
       " (0, -17.222555808534885),\n",
       " (1, 9.8734293174951766),\n",
       " (0, 1.6820368276218436),\n",
       " (0, -12.85675771064118),\n",
       " (0, -12.09099698310883),\n",
       " (0, -13.386932197360879),\n",
       " (0, -12.466787548444115),\n",
       " (0, -8.4941282033738847),\n",
       " (0, -30.92807543411476),\n",
       " (0, -21.41291454861835),\n",
       " (0, -14.027767724481976),\n",
       " (0, -19.780574235276198),\n",
       " (0, -22.816242921756519),\n",
       " (0, -24.755684547664039),\n",
       " (0, -16.193309434380108),\n",
       " (1, 9.8457208253329185),\n",
       " (0, -28.739419440558407),\n",
       " (0, -0.57099832440328724),\n",
       " (0, -9.7425171157721664),\n",
       " (0, -23.960317185171533),\n",
       " (0, -17.240811490337933),\n",
       " (0, -25.261514146605592),\n",
       " (0, -13.553943235981553),\n",
       " (0, -13.892500063081867),\n",
       " (0, -21.860434576928657),\n",
       " (0, -28.012351772336785),\n",
       " (0, -5.268987934350422),\n",
       " (0, -8.6009619737413203),\n",
       " (0, -29.767972057330105),\n",
       " (0, -9.9950837591646486),\n",
       " (0, -10.057002626477972),\n",
       " (0, -14.85750894201462),\n",
       " (0, -1.4766871638236521),\n",
       " (0, -19.868169109817842),\n",
       " (0, -29.128828275482796),\n",
       " (0, -18.006579408081731),\n",
       " (1, 0.47631823340427859),\n",
       " (0, -17.190235125428924),\n",
       " (0, -14.279001434650368),\n",
       " (0, -3.3389260259201357),\n",
       " (0, -9.9957767960924926),\n",
       " (0, -17.298886505577372),\n",
       " (0, -15.504044488108747),\n",
       " (0, -27.281381894599662),\n",
       " (0, -14.102937122836323),\n",
       " (0, -20.033976758099637),\n",
       " (0, -5.9333643118096369),\n",
       " (0, -12.777020765801513),\n",
       " (0, -2.3471853620135921),\n",
       " (0, -20.51017861573715),\n",
       " (0, -10.916199913964773),\n",
       " (0, -17.550704370781517),\n",
       " (0, -24.793950232476423),\n",
       " (1, 13.260952158398272),\n",
       " (0, -26.895781654960075),\n",
       " (1, 3.8062056512616906),\n",
       " (0, -7.6546997007596786),\n",
       " (0, -26.323892411755722),\n",
       " (0, -21.300521009223448),\n",
       " (1, 4.309668758061683),\n",
       " (0, -17.771022977025396),\n",
       " (0, -29.354415573415388),\n",
       " (0, -19.560869380956902),\n",
       " (1, 2.1898976454448227),\n",
       " (0, -20.721942399701391),\n",
       " (0, -9.5689993985558814),\n",
       " (0, -7.516281377257739),\n",
       " (0, -19.696840566669863),\n",
       " (0, -13.208405343436109),\n",
       " (0, -7.9013208323351289),\n",
       " (0, -22.770731502110682),\n",
       " (0, -22.63504809570161),\n",
       " (0, -11.036027664059343),\n",
       " (0, -22.978459115325521),\n",
       " (0, -2.3044683180145906),\n",
       " (0, -6.6959861341207869),\n",
       " (0, -11.248092695462445),\n",
       " (0, -12.768157926615199),\n",
       " (0, -11.037945923077418),\n",
       " (1, 7.8095945341228532),\n",
       " (0, -21.688745389041088),\n",
       " (0, -14.653953825472868),\n",
       " (1, 7.3740379758196397),\n",
       " (0, -17.700821615485808),\n",
       " (0, -30.933891764841306),\n",
       " (0, -20.312795420989953),\n",
       " (0, -27.565402439924448),\n",
       " (0, -24.841570780948935),\n",
       " (0, -15.521645340007964),\n",
       " (0, -1.7495843996980711),\n",
       " (0, -23.659931715870336),\n",
       " (0, -30.597346562546871),\n",
       " (0, -40.655131573483722),\n",
       " (0, -22.243347100337626),\n",
       " (0, -25.823242250419021),\n",
       " (0, -34.119829107730872),\n",
       " (0, -15.736216104411525),\n",
       " (0, -23.107707174326446),\n",
       " (0, -23.744792919728212),\n",
       " (0, -14.710925657835091),\n",
       " (0, -23.454959237903562),\n",
       " (0, -16.355624777591107),\n",
       " (0, -35.923094706120764),\n",
       " (0, -20.196917405424642),\n",
       " (0, 6.9240017886585132),\n",
       " (0, -34.364248313211753),\n",
       " (0, -24.584644638821736),\n",
       " (0, -25.813992354456282),\n",
       " (0, -5.5385843204408882),\n",
       " (0, -29.349359840087686),\n",
       " (1, 8.2621267430414864),\n",
       " (0, -16.01210727823722),\n",
       " (0, -7.9029932413328012),\n",
       " (0, -4.7736549350588104),\n",
       " (0, -25.739189233829226),\n",
       " (0, -23.637388981058201),\n",
       " (0, -27.154291810564946),\n",
       " (0, -21.627530448963014),\n",
       " (0, -22.2786392102504),\n",
       " (0, -4.9682345639301264),\n",
       " (0, -12.829464210598536),\n",
       " (1, -1.3397940070955534),\n",
       " (0, -21.084266570102912),\n",
       " (0, -10.851281005033762),\n",
       " (1, 11.554764194755306),\n",
       " (0, -1.6871254276634304),\n",
       " (0, -7.8171430585009496),\n",
       " (0, -30.327830995767489),\n",
       " (0, -19.823893456809799),\n",
       " (0, -14.69692570815242),\n",
       " (0, -11.7356196471959),\n",
       " (0, -14.939107599485324),\n",
       " (0, -5.0382931577675878),\n",
       " (0, -19.296417988030122),\n",
       " (0, -10.801756940500843),\n",
       " (0, -23.377949607298568),\n",
       " (0, -11.6039125475241),\n",
       " (1, 4.5532124096243685),\n",
       " (0, -16.298978079643028),\n",
       " (0, -33.499845936452175),\n",
       " (0, -40.525674851193216),\n",
       " (0, -32.762331098398612),\n",
       " (0, -19.660245415969612),\n",
       " (0, -27.268314371995636),\n",
       " (0, -16.771389924621278),\n",
       " (0, -33.125103180784635),\n",
       " (0, -38.307226952836231),\n",
       " (0, -18.918540782395052),\n",
       " (1, 4.5714332477281019),\n",
       " (1, 6.553410386563602),\n",
       " (0, -14.043452930959807),\n",
       " (0, -21.604492320549149),\n",
       " (0, -14.081536751620504),\n",
       " (0, -14.327037503030279),\n",
       " (0, -3.4477644506396152),\n",
       " (0, -17.669881707191866),\n",
       " (0, -24.751978863713813),\n",
       " (0, -12.906371262572478),\n",
       " (0, -12.580918767720643),\n",
       " (0, -36.754737843748039),\n",
       " (0, -14.972017767977722),\n",
       " (0, -22.426400590887894),\n",
       " (0, -13.155740498589653),\n",
       " (0, -24.672555158354154),\n",
       " (0, -14.350409234346897),\n",
       " (0, -16.055532767916734),\n",
       " (0, -22.918785081899884),\n",
       " (0, -19.332430716062618),\n",
       " (0, -12.842003155514133),\n",
       " (1, 1.8790824419911778),\n",
       " (0, -12.078781436093102),\n",
       " (0, 1.6986100453970399),\n",
       " (0, -28.680737970665319),\n",
       " (0, -19.64934108486138),\n",
       " (0, -12.639396155962686),\n",
       " (0, -8.8696076815773655),\n",
       " (0, -10.028250030763866),\n",
       " (0, -26.652302064395137),\n",
       " (0, -18.432229443706245),\n",
       " (0, -17.189177600326399),\n",
       " (0, -15.601553245871077),\n",
       " (0, -11.853523872964049),\n",
       " (0, -38.991181496888899),\n",
       " (0, -2.0338668456613562),\n",
       " (0, -17.517266344531652),\n",
       " (0, -5.3216561123869468),\n",
       " (0, -9.2076302657815976),\n",
       " (0, -22.284263909427715),\n",
       " (0, -22.560062469525299),\n",
       " (0, -18.278366331825307),\n",
       " (0, -18.207981963250408),\n",
       " (0, -10.5793724924907),\n",
       " (0, -14.911069785493266),\n",
       " (0, -4.09444807919136),\n",
       " (0, -16.857787856863929),\n",
       " (0, -23.901201035243435),\n",
       " (0, -21.158478659604292),\n",
       " (0, -17.068673154305991),\n",
       " (0, -20.460308281697301),\n",
       " (0, -23.281515834278622),\n",
       " (0, -13.925108549176077),\n",
       " (0, -30.003475770719948),\n",
       " (0, -26.519504180159764),\n",
       " (0, -9.2735813167908763),\n",
       " (0, -19.707154538708473),\n",
       " (0, -12.902987398132023),\n",
       " (0, -8.1134387490537474),\n",
       " (0, -14.727037899938352),\n",
       " (0, -33.671143192641154),\n",
       " (1, -2.1579288455177887),\n",
       " (0, -11.108594367761038),\n",
       " (0, -19.792912582831196),\n",
       " (0, -24.664098698400423),\n",
       " (0, -12.076637208773956),\n",
       " (0, -19.141195883982959),\n",
       " (0, -29.66668472965949),\n",
       " (0, -23.955766942564725),\n",
       " (0, -9.6971277920071355),\n",
       " (0, -34.28076271169413),\n",
       " (0, -15.726003699507896),\n",
       " (0, -13.721775937862839),\n",
       " (0, -20.715786717214336),\n",
       " (0, -17.018540565342008),\n",
       " (0, -12.201432857312252),\n",
       " (0, -25.2562735423408),\n",
       " (0, -12.861735369341352),\n",
       " (0, -27.816808670992764),\n",
       " (0, -15.668528309748799),\n",
       " (0, -16.078135291805996),\n",
       " (0, -28.192964895811357),\n",
       " (0, -19.890485609845932),\n",
       " (0, -20.768325861225293),\n",
       " (0, -9.31729565360253),\n",
       " (1, 0.17583273030053315),\n",
       " (0, -11.655878376079254),\n",
       " (1, 11.482192596221473),\n",
       " (0, -30.756035736336916),\n",
       " (0, -8.8775044446920557),\n",
       " (0, -18.285000579439075),\n",
       " (1, -4.0484766166084167),\n",
       " (0, -20.424636106886929),\n",
       " (0, -18.249898205831531),\n",
       " (0, -27.682396906948743),\n",
       " (0, -12.813368256151811),\n",
       " (0, -12.09562351606731),\n",
       " (0, -23.215299655055485),\n",
       " (0, -24.979166856240774),\n",
       " (1, 4.3155839317048148),\n",
       " (0, -2.3774613748598123),\n",
       " (1, 11.680090168157561),\n",
       " (0, -19.807747588695694),\n",
       " (0, -7.6015552967552562),\n",
       " (0, -3.9381954490304643),\n",
       " (0, -21.413991265111353),\n",
       " (0, -23.36169630003457),\n",
       " (0, -13.654601561127954),\n",
       " (1, 1.3367072534763533),\n",
       " (1, 4.2509343752444497),\n",
       " (0, -20.199427425585817),\n",
       " (0, -25.664074648104716),\n",
       " (0, -16.134238271646808),\n",
       " (0, -29.033560982623126),\n",
       " (0, -19.256050593246311),\n",
       " (0, -23.244462707846075),\n",
       " (0, -25.364436407517509),\n",
       " (0, -18.229150010982888),\n",
       " (0, -5.176891146097736),\n",
       " (0, -15.3666716789375),\n",
       " (0, -22.174979325680287),\n",
       " (0, -19.383491067993482),\n",
       " (0, -32.002938090465534),\n",
       " (0, -12.592872683065064),\n",
       " (0, -22.56215499067584),\n",
       " (0, -9.8551162698292512),\n",
       " (0, -24.014046349475894),\n",
       " (0, -12.472550283253341),\n",
       " (0, -21.629774024033157),\n",
       " (0, -26.549917402232456),\n",
       " (0, -15.186505915901687),\n",
       " (0, -20.124940041102285),\n",
       " (0, -29.251057567709196),\n",
       " (0, -25.247386875711456),\n",
       " (0, -12.022984444567834),\n",
       " (0, -14.062298381461307),\n",
       " (0, -26.401312940607532),\n",
       " (0, -27.220476017087233),\n",
       " (0, -33.037534822190729),\n",
       " (0, -12.808973950635192),\n",
       " (1, 2.5516822088627209),\n",
       " (0, -8.4612372687807529),\n",
       " (0, -12.983938866531822),\n",
       " (0, -27.751278350315285),\n",
       " (0, -28.179774341058312),\n",
       " (0, -8.8167055078110579),\n",
       " (0, -18.961955316589659),\n",
       " (0, -28.317519655205523),\n",
       " (0, -10.090670378541414),\n",
       " (0, -22.170395516195395),\n",
       " (0, -30.125476371727672),\n",
       " (0, -12.568931148503907),\n",
       " (0, -27.694622773125239),\n",
       " (0, -20.338186191948033),\n",
       " (0, -16.15552070508172),\n",
       " (0, -10.508122499751956),\n",
       " (0, -33.891647908535212),\n",
       " (0, -19.402982152418176),\n",
       " (0, 6.8640416699163467),\n",
       " (0, -21.669973285338653),\n",
       " (0, -2.578335597758326),\n",
       " (0, -17.162893307898312),\n",
       " (0, -24.383799262510223),\n",
       " (0, -22.084889994197844),\n",
       " (0, -14.449370969187605),\n",
       " (0, -7.2228679497510271),\n",
       " (0, -23.044551574448676),\n",
       " (0, -7.0755161660899066),\n",
       " (1, 4.2107011656717788),\n",
       " (0, -22.603963770814513),\n",
       " (0, -37.037276680575779),\n",
       " (0, -10.483724034647164),\n",
       " (0, -29.28487712062331),\n",
       " (0, -13.932064154482504),\n",
       " (0, -24.956220335382746),\n",
       " (0, -3.4862862735406082),\n",
       " (1, 2.4342094373326355),\n",
       " (0, -13.768350501537256),\n",
       " (0, -15.276893993432942),\n",
       " (0, -32.541873298157149),\n",
       " (1, 4.930029492021113),\n",
       " (0, -22.215439904988337),\n",
       " (0, -17.373689917671566),\n",
       " (0, 0.6418365049658461),\n",
       " (0, -22.616797545575963),\n",
       " (0, -15.677685337509899),\n",
       " (0, -26.934838747812364),\n",
       " (0, -23.625174545881713),\n",
       " (0, -24.251778802656819),\n",
       " (0, -37.7194250232032),\n",
       " (0, -25.425600198830644),\n",
       " (0, -43.19624141213211),\n",
       " (0, -20.635756560351386),\n",
       " (0, -15.363971404648606),\n",
       " (1, 10.201735999014813),\n",
       " (0, -20.60773386850574),\n",
       " (0, -26.811381918758556),\n",
       " (0, -6.9488227696382765),\n",
       " (0, -29.399985242181824),\n",
       " (0, -16.327082608547983),\n",
       " (0, -18.777832272796779),\n",
       " (1, 0.13088342491750327),\n",
       " (0, -20.163783814980906),\n",
       " (0, -7.7017429049723969),\n",
       " (1, 7.2218467202682266),\n",
       " (0, -19.570903599449693),\n",
       " (0, -12.242351429361035),\n",
       " (0, -12.998193700915367),\n",
       " (1, 8.3930212951146217),\n",
       " (0, -34.427010834639269)]"
      ]
     },
     "execution_count": 17,
     "metadata": {},
     "output_type": "execute_result"
    }
   ],
   "source": [
    "from sklearn.linear_model import LogisticRegression\n",
    "\n",
    "lr = LogisticRegression()\n",
    "\n",
    "X_train, X_test, y_train, y_test = train_test_split(X, y_binary_imbalanced, random_state =0)\n",
    "\n",
    "y_scores_lr = lr.fit(X_train, y_train).decision_function(X_test)\n",
    "\n",
    "score_list = list(zip(y_test,y_scores_lr))\n",
    "\n",
    "\n",
    "score_list"
   ]
  },
  {
   "cell_type": "code",
   "execution_count": 27,
   "metadata": {
    "collapsed": false,
    "scrolled": true
   },
   "outputs": [
    {
     "data": {
      "image/png": "[encoded data removed]",
      "text/plain": [
       "<matplotlib.figure.Figure at 0x7fe643e9c390>"
      ]
     },
     "metadata": {},
     "output_type": "display_data"
    }
   ],
   "source": [
    "from sklearn.metrics import precision_recall_curve\n",
    "\n",
    "precision, recall, thresholds = precision_recall_curve(y_test, y_scores_lr)\n",
    "closest_zero = np.argmin(np.abs(thresholds))#argmin Returns the indices of the minimum values along an axis\n",
    "closest_zero_p = precision[closest_zero]\n",
    "closest_zero_r = recall[closest_zero]\n",
    "\n",
    "plt.figure(figsize =(20,20))\n",
    "plt.xlim([0.0, 1.01])\n",
    "plt.ylim([0.0, 1.01])\n",
    "plt.plot(precision, recall, label='Precision-Recall Curve')\n",
    "plt.plot(closest_zero_p, closest_zero_r, 'o', markersize = 12, fillstyle = 'none', c='r', mew=3)\n",
    "plt.xlabel('Precision', fontsize=16)\n",
    "plt.ylabel('Recall', fontsize=16)\n",
    "plt.axes().set_aspect('equal')\n",
    "plt.show()"
   ]
  },
  {
   "cell_type": "code",
   "execution_count": 28,
   "metadata": {
    "collapsed": false
   },
   "outputs": [
    {
     "data": {
      "text/plain": [
       "array([ -4.04847662,  -3.93819545,  -3.48628627,  -3.44776445,\n",
       "        -3.33892603,  -2.5783356 ,  -2.37746137,  -2.34718536,\n",
       "        -2.30446832,  -2.15792885,  -2.03386685,  -1.87131487,\n",
       "        -1.7495844 ,  -1.72691524,  -1.68712543,  -1.47668716,\n",
       "        -1.33979401,  -1.3051061 ,  -1.08033549,  -0.57099832,\n",
       "         0.13088342,   0.17583273,   0.47631823,   0.6418365 ,\n",
       "         1.00422797,   1.33670725,   1.68203683,   1.69861005,\n",
       "         1.87908244,   2.18989765,   2.43420944,   2.55168221,\n",
       "         3.71752409,   3.80620565,   4.21070117,   4.25093438,\n",
       "         4.30966876,   4.31558393,   4.55321241,   4.57143325,\n",
       "         4.93002949,   5.23271557,   5.73378353,   6.12856799,\n",
       "         6.55341039,   6.86404167,   6.92400179,   7.22184672,\n",
       "         7.37403798,   7.80959453,   8.26212674,   8.3930213 ,\n",
       "         8.45858117,   9.84572083,   9.87342932,  10.201736  ,\n",
       "        11.20681116,  11.4821926 ,  11.55476419,  11.68009017,\n",
       "        13.26095216,  14.73832302,  16.02811865])"
      ]
     },
     "execution_count": 28,
     "metadata": {},
     "output_type": "execute_result"
    }
   ],
   "source": [
    "thresholds"
   ]
  },
  {
   "cell_type": "code",
   "execution_count": 18,
   "metadata": {
    "collapsed": false
   },
   "outputs": [
    {
     "data": {
      "image/png": "[encoded data removed]",
      "text/plain": [
       "<matplotlib.figure.Figure at 0x7f3ba6395d68>"
      ]
     },
     "metadata": {},
     "output_type": "display_data"
    }
   ],
   "source": [
    "from sklearn.metrics import roc_curve, auc\n",
    "\n",
    "X_train, X_test, y_train, y_test = train_test_split(X, y_binary_imbalanced, random_state = 0)\n",
    "\n",
    "y_score_lr = lr.fit(X_train,y_train).decision_function(X_test)\n",
    "fpr_lr,tpr_lr, _ = roc_curve(y_test,y_score_lr)\n",
    "roc_auc_lr = auc(fpr_lr,fpr_lr)\n",
    "\n",
    "plt.figure()\n",
    "plt.xlim([-0.01, 1.00])\n",
    "plt.ylim([-0.01, 1.01])\n",
    "plt.plot(fpr_lr, tpr_lr, lw=3, label='LogRegr ROC curve (area = {:0.2f})'.format(roc_auc_lr))\n",
    "plt.xlabel('False Positive Rate', fontsize=16)\n",
    "plt.ylabel('True Positive Rate', fontsize=16)\n",
    "plt.title('ROC curve (1-of-10 digits classifier)', fontsize=16)\n",
    "plt.legend(loc='lower right', fontsize=13)\n",
    "plt.plot([0, 1], [0, 1], color='navy', lw=3, linestyle='--')\n",
    "plt.axes().set_aspect('equal')\n",
    "plt.show()"
   ]
  },
  {
   "cell_type": "code",
   "execution_count": 10,
   "metadata": {
    "collapsed": false
   },
   "outputs": [
    {
     "data": {
      "text/plain": [
       "dict_keys(['data', 'target', 'target_names', 'DESCR', 'feature_names'])"
      ]
     },
     "execution_count": 10,
     "metadata": {},
     "output_type": "execute_result"
    }
   ],
   "source": [
    "from sklearn.datasets import load_breast_cancer\n",
    "\n",
    "data = load_breast_cancer()\n",
    "data.keys()"
   ]
  },
  {
   "cell_type": "code",
   "execution_count": 36,
   "metadata": {
    "collapsed": false
   },
   "outputs": [
    {
     "data": {
      "text/plain": [
       "array(['malignant', 'benign'], \n",
       "      dtype='<U9')"
      ]
     },
     "execution_count": 36,
     "metadata": {},
     "output_type": "execute_result"
    }
   ],
   "source": [
    "data.target_names"
   ]
  },
  {
   "cell_type": "code",
   "execution_count": 25,
   "metadata": {
    "collapsed": false
   },
   "outputs": [
    {
     "data": {
      "text/plain": [
       "1    357\n",
       "0    212\n",
       "dtype: int64"
      ]
     },
     "execution_count": 25,
     "metadata": {},
     "output_type": "execute_result"
    }
   ],
   "source": [
    "tes = pd.Series(data.target)\n",
    "tes.value_counts()"
   ]
  },
  {
   "cell_type": "code",
   "execution_count": 11,
   "metadata": {
    "collapsed": false
   },
   "outputs": [
    {
     "name": "stdout",
     "output_type": "stream",
     "text": [
      "[[46  7]\n",
      " [ 0 90]]\n",
      "\n",
      " [[ 0 53]\n",
      " [ 0 90]]\n",
      "\n",
      "Scaled SVM score: 0.6294\n",
      "\n",
      "Scaled SVM_scaled score: 0.6294\n"
     ]
    }
   ],
   "source": [
    "from sklearn.model_selection import train_test_split\n",
    "from sklearn.svm import SVC\n",
    "from sklearn.preprocessing import MinMaxScaler\n",
    "from sklearn.metrics import confusion_matrix\n",
    "\n",
    "X_train, X_test, y_train, y_test = train_test_split(data.data, data.target, random_state = 0)\n",
    "\n",
    "clf = SVC(kernel = 'rbf', C = 1).fit(X_train,y_train)\n",
    "clf_scores = clf.decision_function(X_train)\n",
    "clf_predicted = clf.predict(X_test)\n",
    "\n",
    "scaler = MinMaxScaler()\n",
    "\n",
    "X_train_scaled = scaler.fit_transform(X_train)\n",
    "X_test_scaled = scaler.transform(X_test)\n",
    "\n",
    "svm_clf = SVC(kernel = 'rbf', C = 1).fit(X_train_scaled,y_train)\n",
    "svm_clf_scores = svm_clf.decision_function(X_test_scaled)\n",
    "svm_clf_predicted = svm_clf.predict(X_test_scaled) \n",
    "\n",
    "print(confusion_matrix(y_test, svm_clf_predicted))\n",
    "print('\\n',confusion_matrix(y_test, clf_predicted))\n",
    "print('\\nScaled SVM score: {:.4f}'.format(clf.score(X_test,y_test)))\n",
    "print('\\nScaled SVM_scaled score: {:.4f}'.format(svm_clf.score(X_test,y_test)))"
   ]
  },
  {
   "cell_type": "code",
   "execution_count": 14,
   "metadata": {
    "collapsed": false
   },
   "outputs": [
    {
     "name": "stdout",
     "output_type": "stream",
     "text": [
      "             precision    recall  f1-score   support\n",
      "\n",
      "          0       1.00      0.87      0.93        53\n",
      "          1       0.93      1.00      0.96        90\n",
      "\n",
      "avg / total       0.95      0.95      0.95       143\n",
      "\n"
     ]
    }
   ],
   "source": [
    "from sklearn.metrics import classification_report\n",
    "\n",
    "print(classification_report(y_test,svm_clf_predicted))#the recall is 1 because the false negatives are equal to 0b"
   ]
  },
  {
   "cell_type": "code",
   "execution_count": 19,
   "metadata": {
    "collapsed": false
   },
   "outputs": [
    {
     "name": "stdout",
     "output_type": "stream",
     "text": [
      "false positive rate is 0.13208 and the true positive rate is 1.00000\n"
     ]
    }
   ],
   "source": [
    "from sklearn.metrics import roc_curve, auc\n",
    "\n",
    "fpr_svm_,trp_svm_, _ = roc_curve(y_test,svm_clf_predicted)\n",
    "\n",
    "print('false positive rate is {:.5f} and the true positive rate is {:.5f}'.format(fpr_svm_[1],trp_svm_[1]))"
   ]
  },
  {
   "cell_type": "code",
   "execution_count": 20,
   "metadata": {
    "collapsed": false
   },
   "outputs": [
    {
     "data": {
      "text/plain": [
       "0.93396226415094341"
      ]
     },
     "execution_count": 20,
     "metadata": {},
     "output_type": "execute_result"
    }
   ],
   "source": [
    "auc(fpr_svm_,trp_svm_)"
   ]
  },
  {
   "cell_type": "code",
   "execution_count": 23,
   "metadata": {
    "collapsed": false
   },
   "outputs": [
    {
     "data": {
      "image/png": "[encoded data removed]",
      "text/plain": [
       "<matplotlib.figure.Figure at 0x7f7101b554e0>"
      ]
     },
     "metadata": {},
     "output_type": "display_data"
    }
   ],
   "source": [
    "import matplotlib.pyplot as plt\n",
    "\n",
    "plt.xlim([-0.01, 1.00])\n",
    "plt.ylim([-0.01, 1.01])\n",
    "plt.plot(fpr_svm_,trp_svm_)\n",
    "\n",
    "plt.show()"
   ]
  },
  {
   "cell_type": "code",
   "execution_count": 26,
   "metadata": {
    "collapsed": false,
    "scrolled": false
   },
   "outputs": [
    {
     "data": {
      "image/png": "[encoded data removed]",
      "text/plain": [
       "<matplotlib.figure.Figure at 0x7f70ff281e10>"
      ]
     },
     "metadata": {},
     "output_type": "display_data"
    }
   ],
   "source": [
    "from sklearn.metrics import precision_recall_curve\n",
    "\n",
    "precision, recall, thresholds = precision_recall_curve(y_test, svm_clf_scores)\n",
    "\n",
    "plt.plot(precision, recall)\n",
    "\n",
    "plt.show()"
   ]
  },
  {
   "cell_type": "code",
   "execution_count": 35,
   "metadata": {
    "collapsed": false,
    "scrolled": true
   },
   "outputs": [
    {
     "data": {
      "application/javascript": [
       "/* Put everything inside the global mpl namespace */\n",
       "window.mpl = {};\n",
       "\n",
       "\n",
       "mpl.get_websocket_type = function() {\n",
       "    if (typeof(WebSocket) !== 'undefined') {\n",
       "        return WebSocket;\n",
       "    } else if (typeof(MozWebSocket) !== 'undefined') {\n",
       "        return MozWebSocket;\n",
       "    } else {\n",
       "        alert('Your browser does not have WebSocket support.' +\n",
       "              'Please try Chrome, Safari or Firefox ≥ 6. ' +\n",
       "              'Firefox 4 and 5 are also supported but you ' +\n",
       "              'have to enable WebSockets in about:config.');\n",
       "    };\n",
       "}\n",
       "\n",
       "mpl.figure = function(figure_id, websocket, ondownload, parent_element) {\n",
       "    this.id = figure_id;\n",
       "\n",
       "    this.ws = websocket;\n",
       "\n",
       "    this.supports_binary = (this.ws.binaryType != undefined);\n",
       "\n",
       "    if (!this.supports_binary) {\n",
       "        var warnings = document.getElementById(\"mpl-warnings\");\n",
       "        if (warnings) {\n",
       "            warnings.style.display = 'block';\n",
       "            warnings.textContent = (\n",
       "                \"This browser does not support binary websocket messages. \" +\n",
       "                    \"Performance may be slow.\");\n",
       "        }\n",
       "    }\n",
       "\n",
       "    this.imageObj = new Image();\n",
       "\n",
       "    this.context = undefined;\n",
       "    this.message = undefined;\n",
       "    this.canvas = undefined;\n",
       "    this.rubberband_canvas = undefined;\n",
       "    this.rubberband_context = undefined;\n",
       "    this.format_dropdown = undefined;\n",
       "\n",
       "    this.image_mode = 'full';\n",
       "\n",
       "    this.root = $('<div/>');\n",
       "    this._root_extra_style(this.root)\n",
       "    this.root.attr('style', 'display: inline-block');\n",
       "\n",
       "    $(parent_element).append(this.root);\n",
       "\n",
       "    this._init_header(this);\n",
       "    this._init_canvas(this);\n",
       "    this._init_toolbar(this);\n",
       "\n",
       "    var fig = this;\n",
       "\n",
       "    this.waiting = false;\n",
       "\n",
       "    this.ws.onopen =  function () {\n",
       "            fig.send_message(\"supports_binary\", {value: fig.supports_binary});\n",
       "            fig.send_message(\"send_image_mode\", {});\n",
       "            if (mpl.ratio != 1) {\n",
       "                fig.send_message(\"set_dpi_ratio\", {'dpi_ratio': mpl.ratio});\n",
       "            }\n",
       "            fig.send_message(\"refresh\", {});\n",
       "        }\n",
       "\n",
       "    this.imageObj.onload = function() {\n",
       "            if (fig.image_mode == 'full') {\n",
       "                // Full images could contain transparency (where diff images\n",
       "                // almost always do), so we need to clear the canvas so that\n",
       "                // there is no ghosting.\n",
       "                fig.context.clearRect(0, 0, fig.canvas.width, fig.canvas.height);\n",
       "            }\n",
       "            fig.context.drawImage(fig.imageObj, 0, 0);\n",
       "        };\n",
       "\n",
       "    this.imageObj.onunload = function() {\n",
       "        this.ws.close();\n",
       "    }\n",
       "\n",
       "    this.ws.onmessage = this._make_on_message_function(this);\n",
       "\n",
       "    this.ondownload = ondownload;\n",
       "}\n",
       "\n",
       "mpl.figure.prototype._init_header = function() {\n",
       "    var titlebar = $(\n",
       "        '<div class=\"ui-dialog-titlebar ui-widget-header ui-corner-all ' +\n",
       "        'ui-helper-clearfix\"/>');\n",
       "    var titletext = $(\n",
       "        '<div class=\"ui-dialog-title\" style=\"width: 100%; ' +\n",
       "        'text-align: center; padding: 3px;\"/>');\n",
       "    titlebar.append(titletext)\n",
       "    this.root.append(titlebar);\n",
       "    this.header = titletext[0];\n",
       "}\n",
       "\n",
       "\n",
       "\n",
       "mpl.figure.prototype._canvas_extra_style = function(canvas_div) {\n",
       "\n",
       "}\n",
       "\n",
       "\n",
       "mpl.figure.prototype._root_extra_style = function(canvas_div) {\n",
       "\n",
       "}\n",
       "\n",
       "mpl.figure.prototype._init_canvas = function() {\n",
       "    var fig = this;\n",
       "\n",
       "    var canvas_div = $('<div/>');\n",
       "\n",
       "    canvas_div.attr('style', 'position: relative; clear: both; outline: 0');\n",
       "\n",
       "    function canvas_keyboard_event(event) {\n",
       "        return fig.key_event(event, event['data']);\n",
       "    }\n",
       "\n",
       "    canvas_div.keydown('key_press', canvas_keyboard_event);\n",
       "    canvas_div.keyup('key_release', canvas_keyboard_event);\n",
       "    this.canvas_div = canvas_div\n",
       "    this._canvas_extra_style(canvas_div)\n",
       "    this.root.append(canvas_div);\n",
       "\n",
       "    var canvas = $('<canvas/>');\n",
       "    canvas.addClass('mpl-canvas');\n",
       "    canvas.attr('style', \"left: 0; top: 0; z-index: 0; outline: 0\")\n",
       "\n",
       "    this.canvas = canvas[0];\n",
       "    this.context = canvas[0].getContext(\"2d\");\n",
       "\n",
       "    var backingStore = this.context.backingStorePixelRatio ||\n",
       "\tthis.context.webkitBackingStorePixelRatio ||\n",
       "\tthis.context.mozBackingStorePixelRatio ||\n",
       "\tthis.context.msBackingStorePixelRatio ||\n",
       "\tthis.context.oBackingStorePixelRatio ||\n",
       "\tthis.context.backingStorePixelRatio || 1;\n",
       "\n",
       "    mpl.ratio = (window.devicePixelRatio || 1) / backingStore;\n",
       "\n",
       "    var rubberband = $('<canvas/>');\n",
       "    rubberband.attr('style', \"position: absolute; left: 0; top: 0; z-index: 1;\")\n",
       "\n",
       "    var pass_mouse_events = true;\n",
       "\n",
       "    canvas_div.resizable({\n",
       "        start: function(event, ui) {\n",
       "            pass_mouse_events = false;\n",
       "        },\n",
       "        resize: function(event, ui) {\n",
       "            fig.request_resize(ui.size.width, ui.size.height);\n",
       "        },\n",
       "        stop: function(event, ui) {\n",
       "            pass_mouse_events = true;\n",
       "            fig.request_resize(ui.size.width, ui.size.height);\n",
       "        },\n",
       "    });\n",
       "\n",
       "    function mouse_event_fn(event) {\n",
       "        if (pass_mouse_events)\n",
       "            return fig.mouse_event(event, event['data']);\n",
       "    }\n",
       "\n",
       "    rubberband.mousedown('button_press', mouse_event_fn);\n",
       "    rubberband.mouseup('button_release', mouse_event_fn);\n",
       "    // Throttle sequential mouse events to 1 every 20ms.\n",
       "    rubberband.mousemove('motion_notify', mouse_event_fn);\n",
       "\n",
       "    rubberband.mouseenter('figure_enter', mouse_event_fn);\n",
       "    rubberband.mouseleave('figure_leave', mouse_event_fn);\n",
       "\n",
       "    canvas_div.on(\"wheel\", function (event) {\n",
       "        event = event.originalEvent;\n",
       "        event['data'] = 'scroll'\n",
       "        if (event.deltaY < 0) {\n",
       "            event.step = 1;\n",
       "        } else {\n",
       "            event.step = -1;\n",
       "        }\n",
       "        mouse_event_fn(event);\n",
       "    });\n",
       "\n",
       "    canvas_div.append(canvas);\n",
       "    canvas_div.append(rubberband);\n",
       "\n",
       "    this.rubberband = rubberband;\n",
       "    this.rubberband_canvas = rubberband[0];\n",
       "    this.rubberband_context = rubberband[0].getContext(\"2d\");\n",
       "    this.rubberband_context.strokeStyle = \"#000000\";\n",
       "\n",
       "    this._resize_canvas = function(width, height) {\n",
       "        // Keep the size of the canvas, canvas container, and rubber band\n",
       "        // canvas in synch.\n",
       "        canvas_div.css('width', width)\n",
       "        canvas_div.css('height', height)\n",
       "\n",
       "        canvas.attr('width', width * mpl.ratio);\n",
       "        canvas.attr('height', height * mpl.ratio);\n",
       "        canvas.attr('style', 'width: ' + width + 'px; height: ' + height + 'px;');\n",
       "\n",
       "        rubberband.attr('width', width);\n",
       "        rubberband.attr('height', height);\n",
       "    }\n",
       "\n",
       "    // Set the figure to an initial 600x600px, this will subsequently be updated\n",
       "    // upon first draw.\n",
       "    this._resize_canvas(600, 600);\n",
       "\n",
       "    // Disable right mouse context menu.\n",
       "    $(this.rubberband_canvas).bind(\"contextmenu\",function(e){\n",
       "        return false;\n",
       "    });\n",
       "\n",
       "    function set_focus () {\n",
       "        canvas.focus();\n",
       "        canvas_div.focus();\n",
       "    }\n",
       "\n",
       "    window.setTimeout(set_focus, 100);\n",
       "}\n",
       "\n",
       "mpl.figure.prototype._init_toolbar = function() {\n",
       "    var fig = this;\n",
       "\n",
       "    var nav_element = $('<div/>')\n",
       "    nav_element.attr('style', 'width: 100%');\n",
       "    this.root.append(nav_element);\n",
       "\n",
       "    // Define a callback function for later on.\n",
       "    function toolbar_event(event) {\n",
       "        return fig.toolbar_button_onclick(event['data']);\n",
       "    }\n",
       "    function toolbar_mouse_event(event) {\n",
       "        return fig.toolbar_button_onmouseover(event['data']);\n",
       "    }\n",
       "\n",
       "    for(var toolbar_ind in mpl.toolbar_items) {\n",
       "        var name = mpl.toolbar_items[toolbar_ind][0];\n",
       "        var tooltip = mpl.toolbar_items[toolbar_ind][1];\n",
       "        var image = mpl.toolbar_items[toolbar_ind][2];\n",
       "        var method_name = mpl.toolbar_items[toolbar_ind][3];\n",
       "\n",
       "        if (!name) {\n",
       "            // put a spacer in here.\n",
       "            continue;\n",
       "        }\n",
       "        var button = $('<button/>');\n",
       "        button.addClass('ui-button ui-widget ui-state-default ui-corner-all ' +\n",
       "                        'ui-button-icon-only');\n",
       "        button.attr('role', 'button');\n",
       "        button.attr('aria-disabled', 'false');\n",
       "        button.click(method_name, toolbar_event);\n",
       "        button.mouseover(tooltip, toolbar_mouse_event);\n",
       "\n",
       "        var icon_img = $('<span/>');\n",
       "        icon_img.addClass('ui-button-icon-primary ui-icon');\n",
       "        icon_img.addClass(image);\n",
       "        icon_img.addClass('ui-corner-all');\n",
       "\n",
       "        var tooltip_span = $('<span/>');\n",
       "        tooltip_span.addClass('ui-button-text');\n",
       "        tooltip_span.html(tooltip);\n",
       "\n",
       "        button.append(icon_img);\n",
       "        button.append(tooltip_span);\n",
       "\n",
       "        nav_element.append(button);\n",
       "    }\n",
       "\n",
       "    var fmt_picker_span = $('<span/>');\n",
       "\n",
       "    var fmt_picker = $('<select/>');\n",
       "    fmt_picker.addClass('mpl-toolbar-option ui-widget ui-widget-content');\n",
       "    fmt_picker_span.append(fmt_picker);\n",
       "    nav_element.append(fmt_picker_span);\n",
       "    this.format_dropdown = fmt_picker[0];\n",
       "\n",
       "    for (var ind in mpl.extensions) {\n",
       "        var fmt = mpl.extensions[ind];\n",
       "        var option = $(\n",
       "            '<option/>', {selected: fmt === mpl.default_extension}).html(fmt);\n",
       "        fmt_picker.append(option)\n",
       "    }\n",
       "\n",
       "    // Add hover states to the ui-buttons\n",
       "    $( \".ui-button\" ).hover(\n",
       "        function() { $(this).addClass(\"ui-state-hover\");},\n",
       "        function() { $(this).removeClass(\"ui-state-hover\");}\n",
       "    );\n",
       "\n",
       "    var status_bar = $('<span class=\"mpl-message\"/>');\n",
       "    nav_element.append(status_bar);\n",
       "    this.message = status_bar[0];\n",
       "}\n",
       "\n",
       "mpl.figure.prototype.request_resize = function(x_pixels, y_pixels) {\n",
       "    // Request matplotlib to resize the figure. Matplotlib will then trigger a resize in the client,\n",
       "    // which will in turn request a refresh of the image.\n",
       "    this.send_message('resize', {'width': x_pixels, 'height': y_pixels});\n",
       "}\n",
       "\n",
       "mpl.figure.prototype.send_message = function(type, properties) {\n",
       "    properties['type'] = type;\n",
       "    properties['figure_id'] = this.id;\n",
       "    this.ws.send(JSON.stringify(properties));\n",
       "}\n",
       "\n",
       "mpl.figure.prototype.send_draw_message = function() {\n",
       "    if (!this.waiting) {\n",
       "        this.waiting = true;\n",
       "        this.ws.send(JSON.stringify({type: \"draw\", figure_id: this.id}));\n",
       "    }\n",
       "}\n",
       "\n",
       "\n",
       "mpl.figure.prototype.handle_save = function(fig, msg) {\n",
       "    var format_dropdown = fig.format_dropdown;\n",
       "    var format = format_dropdown.options[format_dropdown.selectedIndex].value;\n",
       "    fig.ondownload(fig, format);\n",
       "}\n",
       "\n",
       "\n",
       "mpl.figure.prototype.handle_resize = function(fig, msg) {\n",
       "    var size = msg['size'];\n",
       "    if (size[0] != fig.canvas.width || size[1] != fig.canvas.height) {\n",
       "        fig._resize_canvas(size[0], size[1]);\n",
       "        fig.send_message(\"refresh\", {});\n",
       "    };\n",
       "}\n",
       "\n",
       "mpl.figure.prototype.handle_rubberband = function(fig, msg) {\n",
       "    var x0 = msg['x0'] / mpl.ratio;\n",
       "    var y0 = (fig.canvas.height - msg['y0']) / mpl.ratio;\n",
       "    var x1 = msg['x1'] / mpl.ratio;\n",
       "    var y1 = (fig.canvas.height - msg['y1']) / mpl.ratio;\n",
       "    x0 = Math.floor(x0) + 0.5;\n",
       "    y0 = Math.floor(y0) + 0.5;\n",
       "    x1 = Math.floor(x1) + 0.5;\n",
       "    y1 = Math.floor(y1) + 0.5;\n",
       "    var min_x = Math.min(x0, x1);\n",
       "    var min_y = Math.min(y0, y1);\n",
       "    var width = Math.abs(x1 - x0);\n",
       "    var height = Math.abs(y1 - y0);\n",
       "\n",
       "    fig.rubberband_context.clearRect(\n",
       "        0, 0, fig.canvas.width, fig.canvas.height);\n",
       "\n",
       "    fig.rubberband_context.strokeRect(min_x, min_y, width, height);\n",
       "}\n",
       "\n",
       "mpl.figure.prototype.handle_figure_label = function(fig, msg) {\n",
       "    // Updates the figure title.\n",
       "    fig.header.textContent = msg['label'];\n",
       "}\n",
       "\n",
       "mpl.figure.prototype.handle_cursor = function(fig, msg) {\n",
       "    var cursor = msg['cursor'];\n",
       "    switch(cursor)\n",
       "    {\n",
       "    case 0:\n",
       "        cursor = 'pointer';\n",
       "        break;\n",
       "    case 1:\n",
       "        cursor = 'default';\n",
       "        break;\n",
       "    case 2:\n",
       "        cursor = 'crosshair';\n",
       "        break;\n",
       "    case 3:\n",
       "        cursor = 'move';\n",
       "        break;\n",
       "    }\n",
       "    fig.rubberband_canvas.style.cursor = cursor;\n",
       "}\n",
       "\n",
       "mpl.figure.prototype.handle_message = function(fig, msg) {\n",
       "    fig.message.textContent = msg['message'];\n",
       "}\n",
       "\n",
       "mpl.figure.prototype.handle_draw = function(fig, msg) {\n",
       "    // Request the server to send over a new figure.\n",
       "    fig.send_draw_message();\n",
       "}\n",
       "\n",
       "mpl.figure.prototype.handle_image_mode = function(fig, msg) {\n",
       "    fig.image_mode = msg['mode'];\n",
       "}\n",
       "\n",
       "mpl.figure.prototype.updated_canvas_event = function() {\n",
       "    // Called whenever the canvas gets updated.\n",
       "    this.send_message(\"ack\", {});\n",
       "}\n",
       "\n",
       "// A function to construct a web socket function for onmessage handling.\n",
       "// Called in the figure constructor.\n",
       "mpl.figure.prototype._make_on_message_function = function(fig) {\n",
       "    return function socket_on_message(evt) {\n",
       "        if (evt.data instanceof Blob) {\n",
       "            /* FIXME: We get \"Resource interpreted as Image but\n",
       "             * transferred with MIME type text/plain:\" errors on\n",
       "             * Chrome.  But how to set the MIME type?  It doesn't seem\n",
       "             * to be part of the websocket stream */\n",
       "            evt.data.type = \"image/png\";\n",
       "\n",
       "            /* Free the memory for the previous frames */\n",
       "            if (fig.imageObj.src) {\n",
       "                (window.URL || window.webkitURL).revokeObjectURL(\n",
       "                    fig.imageObj.src);\n",
       "            }\n",
       "\n",
       "            fig.imageObj.src = (window.URL || window.webkitURL).createObjectURL(\n",
       "                evt.data);\n",
       "            fig.updated_canvas_event();\n",
       "            fig.waiting = false;\n",
       "            return;\n",
       "        }\n",
       "        else if (typeof evt.data === 'string' && evt.data.slice(0, 21) == \"data:image/png;base64\") {\n",
       "            fig.imageObj.src = evt.data;\n",
       "            fig.updated_canvas_event();\n",
       "            fig.waiting = false;\n",
       "            return;\n",
       "        }\n",
       "\n",
       "        var msg = JSON.parse(evt.data);\n",
       "        var msg_type = msg['type'];\n",
       "\n",
       "        // Call the  \"handle_{type}\" callback, which takes\n",
       "        // the figure and JSON message as its only arguments.\n",
       "        try {\n",
       "            var callback = fig[\"handle_\" + msg_type];\n",
       "        } catch (e) {\n",
       "            console.log(\"No handler for the '\" + msg_type + \"' message type: \", msg);\n",
       "            return;\n",
       "        }\n",
       "\n",
       "        if (callback) {\n",
       "            try {\n",
       "                // console.log(\"Handling '\" + msg_type + \"' message: \", msg);\n",
       "                callback(fig, msg);\n",
       "            } catch (e) {\n",
       "                console.log(\"Exception inside the 'handler_\" + msg_type + \"' callback:\", e, e.stack, msg);\n",
       "            }\n",
       "        }\n",
       "    };\n",
       "}\n",
       "\n",
       "// from http://stackoverflow.com/questions/1114465/getting-mouse-location-in-canvas\n",
       "mpl.findpos = function(e) {\n",
       "    //this section is from http://www.quirksmode.org/js/events_properties.html\n",
       "    var targ;\n",
       "    if (!e)\n",
       "        e = window.event;\n",
       "    if (e.target)\n",
       "        targ = e.target;\n",
       "    else if (e.srcElement)\n",
       "        targ = e.srcElement;\n",
       "    if (targ.nodeType == 3) // defeat Safari bug\n",
       "        targ = targ.parentNode;\n",
       "\n",
       "    // jQuery normalizes the pageX and pageY\n",
       "    // pageX,Y are the mouse positions relative to the document\n",
       "    // offset() returns the position of the element relative to the document\n",
       "    var x = e.pageX - $(targ).offset().left;\n",
       "    var y = e.pageY - $(targ).offset().top;\n",
       "\n",
       "    return {\"x\": x, \"y\": y};\n",
       "};\n",
       "\n",
       "/*\n",
       " * return a copy of an object with only non-object keys\n",
       " * we need this to avoid circular references\n",
       " * http://stackoverflow.com/a/24161582/3208463\n",
       " */\n",
       "function simpleKeys (original) {\n",
       "  return Object.keys(original).reduce(function (obj, key) {\n",
       "    if (typeof original[key] !== 'object')\n",
       "        obj[key] = original[key]\n",
       "    return obj;\n",
       "  }, {});\n",
       "}\n",
       "\n",
       "mpl.figure.prototype.mouse_event = function(event, name) {\n",
       "    var canvas_pos = mpl.findpos(event)\n",
       "\n",
       "    if (name === 'button_press')\n",
       "    {\n",
       "        this.canvas.focus();\n",
       "        this.canvas_div.focus();\n",
       "    }\n",
       "\n",
       "    var x = canvas_pos.x * mpl.ratio;\n",
       "    var y = canvas_pos.y * mpl.ratio;\n",
       "\n",
       "    this.send_message(name, {x: x, y: y, button: event.button,\n",
       "                             step: event.step,\n",
       "                             guiEvent: simpleKeys(event)});\n",
       "\n",
       "    /* This prevents the web browser from automatically changing to\n",
       "     * the text insertion cursor when the button is pressed.  We want\n",
       "     * to control all of the cursor setting manually through the\n",
       "     * 'cursor' event from matplotlib */\n",
       "    event.preventDefault();\n",
       "    return false;\n",
       "}\n",
       "\n",
       "mpl.figure.prototype._key_event_extra = function(event, name) {\n",
       "    // Handle any extra behaviour associated with a key event\n",
       "}\n",
       "\n",
       "mpl.figure.prototype.key_event = function(event, name) {\n",
       "\n",
       "    // Prevent repeat events\n",
       "    if (name == 'key_press')\n",
       "    {\n",
       "        if (event.which === this._key)\n",
       "            return;\n",
       "        else\n",
       "            this._key = event.which;\n",
       "    }\n",
       "    if (name == 'key_release')\n",
       "        this._key = null;\n",
       "\n",
       "    var value = '';\n",
       "    if (event.ctrlKey && event.which != 17)\n",
       "        value += \"ctrl+\";\n",
       "    if (event.altKey && event.which != 18)\n",
       "        value += \"alt+\";\n",
       "    if (event.shiftKey && event.which != 16)\n",
       "        value += \"shift+\";\n",
       "\n",
       "    value += 'k';\n",
       "    value += event.which.toString();\n",
       "\n",
       "    this._key_event_extra(event, name);\n",
       "\n",
       "    this.send_message(name, {key: value,\n",
       "                             guiEvent: simpleKeys(event)});\n",
       "    return false;\n",
       "}\n",
       "\n",
       "mpl.figure.prototype.toolbar_button_onclick = function(name) {\n",
       "    if (name == 'download') {\n",
       "        this.handle_save(this, null);\n",
       "    } else {\n",
       "        this.send_message(\"toolbar_button\", {name: name});\n",
       "    }\n",
       "};\n",
       "\n",
       "mpl.figure.prototype.toolbar_button_onmouseover = function(tooltip) {\n",
       "    this.message.textContent = tooltip;\n",
       "};\n",
       "mpl.toolbar_items = [[\"Home\", \"Reset original view\", \"fa fa-home icon-home\", \"home\"], [\"Back\", \"Back to  previous view\", \"fa fa-arrow-left icon-arrow-left\", \"back\"], [\"Forward\", \"Forward to next view\", \"fa fa-arrow-right icon-arrow-right\", \"forward\"], [\"\", \"\", \"\", \"\"], [\"Pan\", \"Pan axes with left mouse, zoom with right\", \"fa fa-arrows icon-move\", \"pan\"], [\"Zoom\", \"Zoom to rectangle\", \"fa fa-square-o icon-check-empty\", \"zoom\"], [\"\", \"\", \"\", \"\"], [\"Download\", \"Download plot\", \"fa fa-floppy-o icon-save\", \"download\"]];\n",
       "\n",
       "mpl.extensions = [\"eps\", \"jpeg\", \"pdf\", \"png\", \"ps\", \"raw\", \"svg\", \"tif\"];\n",
       "\n",
       "mpl.default_extension = \"png\";var comm_websocket_adapter = function(comm) {\n",
       "    // Create a \"websocket\"-like object which calls the given IPython comm\n",
       "    // object with the appropriate methods. Currently this is a non binary\n",
       "    // socket, so there is still some room for performance tuning.\n",
       "    var ws = {};\n",
       "\n",
       "    ws.close = function() {\n",
       "        comm.close()\n",
       "    };\n",
       "    ws.send = function(m) {\n",
       "        //console.log('sending', m);\n",
       "        comm.send(m);\n",
       "    };\n",
       "    // Register the callback with on_msg.\n",
       "    comm.on_msg(function(msg) {\n",
       "        //console.log('receiving', msg['content']['data'], msg);\n",
       "        // Pass the mpl event to the overriden (by mpl) onmessage function.\n",
       "        ws.onmessage(msg['content']['data'])\n",
       "    });\n",
       "    return ws;\n",
       "}\n",
       "\n",
       "mpl.mpl_figure_comm = function(comm, msg) {\n",
       "    // This is the function which gets called when the mpl process\n",
       "    // starts-up an IPython Comm through the \"matplotlib\" channel.\n",
       "\n",
       "    var id = msg.content.data.id;\n",
       "    // Get hold of the div created by the display call when the Comm\n",
       "    // socket was opened in Python.\n",
       "    var element = $(\"#\" + id);\n",
       "    var ws_proxy = comm_websocket_adapter(comm)\n",
       "\n",
       "    function ondownload(figure, format) {\n",
       "        window.open(figure.imageObj.src);\n",
       "    }\n",
       "\n",
       "    var fig = new mpl.figure(id, ws_proxy,\n",
       "                           ondownload,\n",
       "                           element.get(0));\n",
       "\n",
       "    // Call onopen now - mpl needs it, as it is assuming we've passed it a real\n",
       "    // web socket which is closed, not our websocket->open comm proxy.\n",
       "    ws_proxy.onopen();\n",
       "\n",
       "    fig.parent_element = element.get(0);\n",
       "    fig.cell_info = mpl.find_output_cell(\"<div id='\" + id + \"'></div>\");\n",
       "    if (!fig.cell_info) {\n",
       "        console.error(\"Failed to find cell for figure\", id, fig);\n",
       "        return;\n",
       "    }\n",
       "\n",
       "    var output_index = fig.cell_info[2]\n",
       "    var cell = fig.cell_info[0];\n",
       "\n",
       "};\n",
       "\n",
       "mpl.figure.prototype.handle_close = function(fig, msg) {\n",
       "    var width = fig.canvas.width/mpl.ratio\n",
       "    fig.root.unbind('remove')\n",
       "\n",
       "    // Update the output cell to use the data from the current canvas.\n",
       "    fig.push_to_output();\n",
       "    var dataURL = fig.canvas.toDataURL();\n",
       "    // Re-enable the keyboard manager in IPython - without this line, in FF,\n",
       "    // the notebook keyboard shortcuts fail.\n",
       "    IPython.keyboard_manager.enable()\n",
       "    $(fig.parent_element).html('<img src=\"' + dataURL + '\" width=\"' + width + '\">');\n",
       "    fig.close_ws(fig, msg);\n",
       "}\n",
       "\n",
       "mpl.figure.prototype.close_ws = function(fig, msg){\n",
       "    fig.send_message('closing', msg);\n",
       "    // fig.ws.close()\n",
       "}\n",
       "\n",
       "mpl.figure.prototype.push_to_output = function(remove_interactive) {\n",
       "    // Turn the data on the canvas into data in the output cell.\n",
       "    var width = this.canvas.width/mpl.ratio\n",
       "    var dataURL = this.canvas.toDataURL();\n",
       "    this.cell_info[1]['text/html'] = '<img src=\"' + dataURL + '\" width=\"' + width + '\">';\n",
       "}\n",
       "\n",
       "mpl.figure.prototype.updated_canvas_event = function() {\n",
       "    // Tell IPython that the notebook contents must change.\n",
       "    IPython.notebook.set_dirty(true);\n",
       "    this.send_message(\"ack\", {});\n",
       "    var fig = this;\n",
       "    // Wait a second, then push the new image to the DOM so\n",
       "    // that it is saved nicely (might be nice to debounce this).\n",
       "    setTimeout(function () { fig.push_to_output() }, 1000);\n",
       "}\n",
       "\n",
       "mpl.figure.prototype._init_toolbar = function() {\n",
       "    var fig = this;\n",
       "\n",
       "    var nav_element = $('<div/>')\n",
       "    nav_element.attr('style', 'width: 100%');\n",
       "    this.root.append(nav_element);\n",
       "\n",
       "    // Define a callback function for later on.\n",
       "    function toolbar_event(event) {\n",
       "        return fig.toolbar_button_onclick(event['data']);\n",
       "    }\n",
       "    function toolbar_mouse_event(event) {\n",
       "        return fig.toolbar_button_onmouseover(event['data']);\n",
       "    }\n",
       "\n",
       "    for(var toolbar_ind in mpl.toolbar_items){\n",
       "        var name = mpl.toolbar_items[toolbar_ind][0];\n",
       "        var tooltip = mpl.toolbar_items[toolbar_ind][1];\n",
       "        var image = mpl.toolbar_items[toolbar_ind][2];\n",
       "        var method_name = mpl.toolbar_items[toolbar_ind][3];\n",
       "\n",
       "        if (!name) { continue; };\n",
       "\n",
       "        var button = $('<button class=\"btn btn-default\" href=\"#\" title=\"' + name + '\"><i class=\"fa ' + image + ' fa-lg\"></i></button>');\n",
       "        button.click(method_name, toolbar_event);\n",
       "        button.mouseover(tooltip, toolbar_mouse_event);\n",
       "        nav_element.append(button);\n",
       "    }\n",
       "\n",
       "    // Add the status bar.\n",
       "    var status_bar = $('<span class=\"mpl-message\" style=\"text-align:right; float: right;\"/>');\n",
       "    nav_element.append(status_bar);\n",
       "    this.message = status_bar[0];\n",
       "\n",
       "    // Add the close button to the window.\n",
       "    var buttongrp = $('<div class=\"btn-group inline pull-right\"></div>');\n",
       "    var button = $('<button class=\"btn btn-mini btn-primary\" href=\"#\" title=\"Stop Interaction\"><i class=\"fa fa-power-off icon-remove icon-large\"></i></button>');\n",
       "    button.click(function (evt) { fig.handle_close(fig, {}); } );\n",
       "    button.mouseover('Stop Interaction', toolbar_mouse_event);\n",
       "    buttongrp.append(button);\n",
       "    var titlebar = this.root.find($('.ui-dialog-titlebar'));\n",
       "    titlebar.prepend(buttongrp);\n",
       "}\n",
       "\n",
       "mpl.figure.prototype._root_extra_style = function(el){\n",
       "    var fig = this\n",
       "    el.on(\"remove\", function(){\n",
       "\tfig.close_ws(fig, {});\n",
       "    });\n",
       "}\n",
       "\n",
       "mpl.figure.prototype._canvas_extra_style = function(el){\n",
       "    // this is important to make the div 'focusable\n",
       "    el.attr('tabindex', 0)\n",
       "    // reach out to IPython and tell the keyboard manager to turn it's self\n",
       "    // off when our div gets focus\n",
       "\n",
       "    // location in version 3\n",
       "    if (IPython.notebook.keyboard_manager) {\n",
       "        IPython.notebook.keyboard_manager.register_events(el);\n",
       "    }\n",
       "    else {\n",
       "        // location in version 2\n",
       "        IPython.keyboard_manager.register_events(el);\n",
       "    }\n",
       "\n",
       "}\n",
       "\n",
       "mpl.figure.prototype._key_event_extra = function(event, name) {\n",
       "    var manager = IPython.notebook.keyboard_manager;\n",
       "    if (!manager)\n",
       "        manager = IPython.keyboard_manager;\n",
       "\n",
       "    // Check for shift+enter\n",
       "    if (event.shiftKey && event.which == 13) {\n",
       "        this.canvas_div.blur();\n",
       "        // select the cell after this one\n",
       "        var index = IPython.notebook.find_cell_index(this.cell_info[0]);\n",
       "        IPython.notebook.select(index + 1);\n",
       "    }\n",
       "}\n",
       "\n",
       "mpl.figure.prototype.handle_save = function(fig, msg) {\n",
       "    fig.ondownload(fig, null);\n",
       "}\n",
       "\n",
       "\n",
       "mpl.find_output_cell = function(html_output) {\n",
       "    // Return the cell and output element which can be found *uniquely* in the notebook.\n",
       "    // Note - this is a bit hacky, but it is done because the \"notebook_saving.Notebook\"\n",
       "    // IPython event is triggered only after the cells have been serialised, which for\n",
       "    // our purposes (turning an active figure into a static one), is too late.\n",
       "    var cells = IPython.notebook.get_cells();\n",
       "    var ncells = cells.length;\n",
       "    for (var i=0; i<ncells; i++) {\n",
       "        var cell = cells[i];\n",
       "        if (cell.cell_type === 'code'){\n",
       "            for (var j=0; j<cell.output_area.outputs.length; j++) {\n",
       "                var data = cell.output_area.outputs[j];\n",
       "                if (data.data) {\n",
       "                    // IPython >= 3 moved mimebundle to data attribute of output\n",
       "                    data = data.data;\n",
       "                }\n",
       "                if (data['text/html'] == html_output) {\n",
       "                    return [cell, data, j];\n",
       "                }\n",
       "            }\n",
       "        }\n",
       "    }\n",
       "}\n",
       "\n",
       "// Register the function which deals with the matplotlib target/channel.\n",
       "// The kernel may be null if the page has been refreshed.\n",
       "if (IPython.notebook.kernel != null) {\n",
       "    IPython.notebook.kernel.comm_manager.register_target('matplotlib', mpl.mpl_figure_comm);\n",
       "}\n"
      ],
      "text/plain": [
       "<IPython.core.display.Javascript object>"
      ]
     },
     "metadata": {},
     "output_type": "display_data"
    },
    {
     "data": {
      "text/html": [
       "<img src=\"data:image/png;base64,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\" width=\"550\">"
      ],
      "text/plain": [
       "<IPython.core.display.HTML object>"
      ]
     },
     "metadata": {},
     "output_type": "display_data"
    },
    {
     "data": {
      "application/javascript": [
       "/* Put everything inside the global mpl namespace */\n",
       "window.mpl = {};\n",
       "\n",
       "\n",
       "mpl.get_websocket_type = function() {\n",
       "    if (typeof(WebSocket) !== 'undefined') {\n",
       "        return WebSocket;\n",
       "    } else if (typeof(MozWebSocket) !== 'undefined') {\n",
       "        return MozWebSocket;\n",
       "    } else {\n",
       "        alert('Your browser does not have WebSocket support.' +\n",
       "              'Please try Chrome, Safari or Firefox ≥ 6. ' +\n",
       "              'Firefox 4 and 5 are also supported but you ' +\n",
       "              'have to enable WebSockets in about:config.');\n",
       "    };\n",
       "}\n",
       "\n",
       "mpl.figure = function(figure_id, websocket, ondownload, parent_element) {\n",
       "    this.id = figure_id;\n",
       "\n",
       "    this.ws = websocket;\n",
       "\n",
       "    this.supports_binary = (this.ws.binaryType != undefined);\n",
       "\n",
       "    if (!this.supports_binary) {\n",
       "        var warnings = document.getElementById(\"mpl-warnings\");\n",
       "        if (warnings) {\n",
       "            warnings.style.display = 'block';\n",
       "            warnings.textContent = (\n",
       "                \"This browser does not support binary websocket messages. \" +\n",
       "                    \"Performance may be slow.\");\n",
       "        }\n",
       "    }\n",
       "\n",
       "    this.imageObj = new Image();\n",
       "\n",
       "    this.context = undefined;\n",
       "    this.message = undefined;\n",
       "    this.canvas = undefined;\n",
       "    this.rubberband_canvas = undefined;\n",
       "    this.rubberband_context = undefined;\n",
       "    this.format_dropdown = undefined;\n",
       "\n",
       "    this.image_mode = 'full';\n",
       "\n",
       "    this.root = $('<div/>');\n",
       "    this._root_extra_style(this.root)\n",
       "    this.root.attr('style', 'display: inline-block');\n",
       "\n",
       "    $(parent_element).append(this.root);\n",
       "\n",
       "    this._init_header(this);\n",
       "    this._init_canvas(this);\n",
       "    this._init_toolbar(this);\n",
       "\n",
       "    var fig = this;\n",
       "\n",
       "    this.waiting = false;\n",
       "\n",
       "    this.ws.onopen =  function () {\n",
       "            fig.send_message(\"supports_binary\", {value: fig.supports_binary});\n",
       "            fig.send_message(\"send_image_mode\", {});\n",
       "            if (mpl.ratio != 1) {\n",
       "                fig.send_message(\"set_dpi_ratio\", {'dpi_ratio': mpl.ratio});\n",
       "            }\n",
       "            fig.send_message(\"refresh\", {});\n",
       "        }\n",
       "\n",
       "    this.imageObj.onload = function() {\n",
       "            if (fig.image_mode == 'full') {\n",
       "                // Full images could contain transparency (where diff images\n",
       "                // almost always do), so we need to clear the canvas so that\n",
       "                // there is no ghosting.\n",
       "                fig.context.clearRect(0, 0, fig.canvas.width, fig.canvas.height);\n",
       "            }\n",
       "            fig.context.drawImage(fig.imageObj, 0, 0);\n",
       "        };\n",
       "\n",
       "    this.imageObj.onunload = function() {\n",
       "        this.ws.close();\n",
       "    }\n",
       "\n",
       "    this.ws.onmessage = this._make_on_message_function(this);\n",
       "\n",
       "    this.ondownload = ondownload;\n",
       "}\n",
       "\n",
       "mpl.figure.prototype._init_header = function() {\n",
       "    var titlebar = $(\n",
       "        '<div class=\"ui-dialog-titlebar ui-widget-header ui-corner-all ' +\n",
       "        'ui-helper-clearfix\"/>');\n",
       "    var titletext = $(\n",
       "        '<div class=\"ui-dialog-title\" style=\"width: 100%; ' +\n",
       "        'text-align: center; padding: 3px;\"/>');\n",
       "    titlebar.append(titletext)\n",
       "    this.root.append(titlebar);\n",
       "    this.header = titletext[0];\n",
       "}\n",
       "\n",
       "\n",
       "\n",
       "mpl.figure.prototype._canvas_extra_style = function(canvas_div) {\n",
       "\n",
       "}\n",
       "\n",
       "\n",
       "mpl.figure.prototype._root_extra_style = function(canvas_div) {\n",
       "\n",
       "}\n",
       "\n",
       "mpl.figure.prototype._init_canvas = function() {\n",
       "    var fig = this;\n",
       "\n",
       "    var canvas_div = $('<div/>');\n",
       "\n",
       "    canvas_div.attr('style', 'position: relative; clear: both; outline: 0');\n",
       "\n",
       "    function canvas_keyboard_event(event) {\n",
       "        return fig.key_event(event, event['data']);\n",
       "    }\n",
       "\n",
       "    canvas_div.keydown('key_press', canvas_keyboard_event);\n",
       "    canvas_div.keyup('key_release', canvas_keyboard_event);\n",
       "    this.canvas_div = canvas_div\n",
       "    this._canvas_extra_style(canvas_div)\n",
       "    this.root.append(canvas_div);\n",
       "\n",
       "    var canvas = $('<canvas/>');\n",
       "    canvas.addClass('mpl-canvas');\n",
       "    canvas.attr('style', \"left: 0; top: 0; z-index: 0; outline: 0\")\n",
       "\n",
       "    this.canvas = canvas[0];\n",
       "    this.context = canvas[0].getContext(\"2d\");\n",
       "\n",
       "    var backingStore = this.context.backingStorePixelRatio ||\n",
       "\tthis.context.webkitBackingStorePixelRatio ||\n",
       "\tthis.context.mozBackingStorePixelRatio ||\n",
       "\tthis.context.msBackingStorePixelRatio ||\n",
       "\tthis.context.oBackingStorePixelRatio ||\n",
       "\tthis.context.backingStorePixelRatio || 1;\n",
       "\n",
       "    mpl.ratio = (window.devicePixelRatio || 1) / backingStore;\n",
       "\n",
       "    var rubberband = $('<canvas/>');\n",
       "    rubberband.attr('style', \"position: absolute; left: 0; top: 0; z-index: 1;\")\n",
       "\n",
       "    var pass_mouse_events = true;\n",
       "\n",
       "    canvas_div.resizable({\n",
       "        start: function(event, ui) {\n",
       "            pass_mouse_events = false;\n",
       "        },\n",
       "        resize: function(event, ui) {\n",
       "            fig.request_resize(ui.size.width, ui.size.height);\n",
       "        },\n",
       "        stop: function(event, ui) {\n",
       "            pass_mouse_events = true;\n",
       "            fig.request_resize(ui.size.width, ui.size.height);\n",
       "        },\n",
       "    });\n",
       "\n",
       "    function mouse_event_fn(event) {\n",
       "        if (pass_mouse_events)\n",
       "            return fig.mouse_event(event, event['data']);\n",
       "    }\n",
       "\n",
       "    rubberband.mousedown('button_press', mouse_event_fn);\n",
       "    rubberband.mouseup('button_release', mouse_event_fn);\n",
       "    // Throttle sequential mouse events to 1 every 20ms.\n",
       "    rubberband.mousemove('motion_notify', mouse_event_fn);\n",
       "\n",
       "    rubberband.mouseenter('figure_enter', mouse_event_fn);\n",
       "    rubberband.mouseleave('figure_leave', mouse_event_fn);\n",
       "\n",
       "    canvas_div.on(\"wheel\", function (event) {\n",
       "        event = event.originalEvent;\n",
       "        event['data'] = 'scroll'\n",
       "        if (event.deltaY < 0) {\n",
       "            event.step = 1;\n",
       "        } else {\n",
       "            event.step = -1;\n",
       "        }\n",
       "        mouse_event_fn(event);\n",
       "    });\n",
       "\n",
       "    canvas_div.append(canvas);\n",
       "    canvas_div.append(rubberband);\n",
       "\n",
       "    this.rubberband = rubberband;\n",
       "    this.rubberband_canvas = rubberband[0];\n",
       "    this.rubberband_context = rubberband[0].getContext(\"2d\");\n",
       "    this.rubberband_context.strokeStyle = \"#000000\";\n",
       "\n",
       "    this._resize_canvas = function(width, height) {\n",
       "        // Keep the size of the canvas, canvas container, and rubber band\n",
       "        // canvas in synch.\n",
       "        canvas_div.css('width', width)\n",
       "        canvas_div.css('height', height)\n",
       "\n",
       "        canvas.attr('width', width * mpl.ratio);\n",
       "        canvas.attr('height', height * mpl.ratio);\n",
       "        canvas.attr('style', 'width: ' + width + 'px; height: ' + height + 'px;');\n",
       "\n",
       "        rubberband.attr('width', width);\n",
       "        rubberband.attr('height', height);\n",
       "    }\n",
       "\n",
       "    // Set the figure to an initial 600x600px, this will subsequently be updated\n",
       "    // upon first draw.\n",
       "    this._resize_canvas(600, 600);\n",
       "\n",
       "    // Disable right mouse context menu.\n",
       "    $(this.rubberband_canvas).bind(\"contextmenu\",function(e){\n",
       "        return false;\n",
       "    });\n",
       "\n",
       "    function set_focus () {\n",
       "        canvas.focus();\n",
       "        canvas_div.focus();\n",
       "    }\n",
       "\n",
       "    window.setTimeout(set_focus, 100);\n",
       "}\n",
       "\n",
       "mpl.figure.prototype._init_toolbar = function() {\n",
       "    var fig = this;\n",
       "\n",
       "    var nav_element = $('<div/>')\n",
       "    nav_element.attr('style', 'width: 100%');\n",
       "    this.root.append(nav_element);\n",
       "\n",
       "    // Define a callback function for later on.\n",
       "    function toolbar_event(event) {\n",
       "        return fig.toolbar_button_onclick(event['data']);\n",
       "    }\n",
       "    function toolbar_mouse_event(event) {\n",
       "        return fig.toolbar_button_onmouseover(event['data']);\n",
       "    }\n",
       "\n",
       "    for(var toolbar_ind in mpl.toolbar_items) {\n",
       "        var name = mpl.toolbar_items[toolbar_ind][0];\n",
       "        var tooltip = mpl.toolbar_items[toolbar_ind][1];\n",
       "        var image = mpl.toolbar_items[toolbar_ind][2];\n",
       "        var method_name = mpl.toolbar_items[toolbar_ind][3];\n",
       "\n",
       "        if (!name) {\n",
       "            // put a spacer in here.\n",
       "            continue;\n",
       "        }\n",
       "        var button = $('<button/>');\n",
       "        button.addClass('ui-button ui-widget ui-state-default ui-corner-all ' +\n",
       "                        'ui-button-icon-only');\n",
       "        button.attr('role', 'button');\n",
       "        button.attr('aria-disabled', 'false');\n",
       "        button.click(method_name, toolbar_event);\n",
       "        button.mouseover(tooltip, toolbar_mouse_event);\n",
       "\n",
       "        var icon_img = $('<span/>');\n",
       "        icon_img.addClass('ui-button-icon-primary ui-icon');\n",
       "        icon_img.addClass(image);\n",
       "        icon_img.addClass('ui-corner-all');\n",
       "\n",
       "        var tooltip_span = $('<span/>');\n",
       "        tooltip_span.addClass('ui-button-text');\n",
       "        tooltip_span.html(tooltip);\n",
       "\n",
       "        button.append(icon_img);\n",
       "        button.append(tooltip_span);\n",
       "\n",
       "        nav_element.append(button);\n",
       "    }\n",
       "\n",
       "    var fmt_picker_span = $('<span/>');\n",
       "\n",
       "    var fmt_picker = $('<select/>');\n",
       "    fmt_picker.addClass('mpl-toolbar-option ui-widget ui-widget-content');\n",
       "    fmt_picker_span.append(fmt_picker);\n",
       "    nav_element.append(fmt_picker_span);\n",
       "    this.format_dropdown = fmt_picker[0];\n",
       "\n",
       "    for (var ind in mpl.extensions) {\n",
       "        var fmt = mpl.extensions[ind];\n",
       "        var option = $(\n",
       "            '<option/>', {selected: fmt === mpl.default_extension}).html(fmt);\n",
       "        fmt_picker.append(option)\n",
       "    }\n",
       "\n",
       "    // Add hover states to the ui-buttons\n",
       "    $( \".ui-button\" ).hover(\n",
       "        function() { $(this).addClass(\"ui-state-hover\");},\n",
       "        function() { $(this).removeClass(\"ui-state-hover\");}\n",
       "    );\n",
       "\n",
       "    var status_bar = $('<span class=\"mpl-message\"/>');\n",
       "    nav_element.append(status_bar);\n",
       "    this.message = status_bar[0];\n",
       "}\n",
       "\n",
       "mpl.figure.prototype.request_resize = function(x_pixels, y_pixels) {\n",
       "    // Request matplotlib to resize the figure. Matplotlib will then trigger a resize in the client,\n",
       "    // which will in turn request a refresh of the image.\n",
       "    this.send_message('resize', {'width': x_pixels, 'height': y_pixels});\n",
       "}\n",
       "\n",
       "mpl.figure.prototype.send_message = function(type, properties) {\n",
       "    properties['type'] = type;\n",
       "    properties['figure_id'] = this.id;\n",
       "    this.ws.send(JSON.stringify(properties));\n",
       "}\n",
       "\n",
       "mpl.figure.prototype.send_draw_message = function() {\n",
       "    if (!this.waiting) {\n",
       "        this.waiting = true;\n",
       "        this.ws.send(JSON.stringify({type: \"draw\", figure_id: this.id}));\n",
       "    }\n",
       "}\n",
       "\n",
       "\n",
       "mpl.figure.prototype.handle_save = function(fig, msg) {\n",
       "    var format_dropdown = fig.format_dropdown;\n",
       "    var format = format_dropdown.options[format_dropdown.selectedIndex].value;\n",
       "    fig.ondownload(fig, format);\n",
       "}\n",
       "\n",
       "\n",
       "mpl.figure.prototype.handle_resize = function(fig, msg) {\n",
       "    var size = msg['size'];\n",
       "    if (size[0] != fig.canvas.width || size[1] != fig.canvas.height) {\n",
       "        fig._resize_canvas(size[0], size[1]);\n",
       "        fig.send_message(\"refresh\", {});\n",
       "    };\n",
       "}\n",
       "\n",
       "mpl.figure.prototype.handle_rubberband = function(fig, msg) {\n",
       "    var x0 = msg['x0'] / mpl.ratio;\n",
       "    var y0 = (fig.canvas.height - msg['y0']) / mpl.ratio;\n",
       "    var x1 = msg['x1'] / mpl.ratio;\n",
       "    var y1 = (fig.canvas.height - msg['y1']) / mpl.ratio;\n",
       "    x0 = Math.floor(x0) + 0.5;\n",
       "    y0 = Math.floor(y0) + 0.5;\n",
       "    x1 = Math.floor(x1) + 0.5;\n",
       "    y1 = Math.floor(y1) + 0.5;\n",
       "    var min_x = Math.min(x0, x1);\n",
       "    var min_y = Math.min(y0, y1);\n",
       "    var width = Math.abs(x1 - x0);\n",
       "    var height = Math.abs(y1 - y0);\n",
       "\n",
       "    fig.rubberband_context.clearRect(\n",
       "        0, 0, fig.canvas.width, fig.canvas.height);\n",
       "\n",
       "    fig.rubberband_context.strokeRect(min_x, min_y, width, height);\n",
       "}\n",
       "\n",
       "mpl.figure.prototype.handle_figure_label = function(fig, msg) {\n",
       "    // Updates the figure title.\n",
       "    fig.header.textContent = msg['label'];\n",
       "}\n",
       "\n",
       "mpl.figure.prototype.handle_cursor = function(fig, msg) {\n",
       "    var cursor = msg['cursor'];\n",
       "    switch(cursor)\n",
       "    {\n",
       "    case 0:\n",
       "        cursor = 'pointer';\n",
       "        break;\n",
       "    case 1:\n",
       "        cursor = 'default';\n",
       "        break;\n",
       "    case 2:\n",
       "        cursor = 'crosshair';\n",
       "        break;\n",
       "    case 3:\n",
       "        cursor = 'move';\n",
       "        break;\n",
       "    }\n",
       "    fig.rubberband_canvas.style.cursor = cursor;\n",
       "}\n",
       "\n",
       "mpl.figure.prototype.handle_message = function(fig, msg) {\n",
       "    fig.message.textContent = msg['message'];\n",
       "}\n",
       "\n",
       "mpl.figure.prototype.handle_draw = function(fig, msg) {\n",
       "    // Request the server to send over a new figure.\n",
       "    fig.send_draw_message();\n",
       "}\n",
       "\n",
       "mpl.figure.prototype.handle_image_mode = function(fig, msg) {\n",
       "    fig.image_mode = msg['mode'];\n",
       "}\n",
       "\n",
       "mpl.figure.prototype.updated_canvas_event = function() {\n",
       "    // Called whenever the canvas gets updated.\n",
       "    this.send_message(\"ack\", {});\n",
       "}\n",
       "\n",
       "// A function to construct a web socket function for onmessage handling.\n",
       "// Called in the figure constructor.\n",
       "mpl.figure.prototype._make_on_message_function = function(fig) {\n",
       "    return function socket_on_message(evt) {\n",
       "        if (evt.data instanceof Blob) {\n",
       "            /* FIXME: We get \"Resource interpreted as Image but\n",
       "             * transferred with MIME type text/plain:\" errors on\n",
       "             * Chrome.  But how to set the MIME type?  It doesn't seem\n",
       "             * to be part of the websocket stream */\n",
       "            evt.data.type = \"image/png\";\n",
       "\n",
       "            /* Free the memory for the previous frames */\n",
       "            if (fig.imageObj.src) {\n",
       "                (window.URL || window.webkitURL).revokeObjectURL(\n",
       "                    fig.imageObj.src);\n",
       "            }\n",
       "\n",
       "            fig.imageObj.src = (window.URL || window.webkitURL).createObjectURL(\n",
       "                evt.data);\n",
       "            fig.updated_canvas_event();\n",
       "            fig.waiting = false;\n",
       "            return;\n",
       "        }\n",
       "        else if (typeof evt.data === 'string' && evt.data.slice(0, 21) == \"data:image/png;base64\") {\n",
       "            fig.imageObj.src = evt.data;\n",
       "            fig.updated_canvas_event();\n",
       "            fig.waiting = false;\n",
       "            return;\n",
       "        }\n",
       "\n",
       "        var msg = JSON.parse(evt.data);\n",
       "        var msg_type = msg['type'];\n",
       "\n",
       "        // Call the  \"handle_{type}\" callback, which takes\n",
       "        // the figure and JSON message as its only arguments.\n",
       "        try {\n",
       "            var callback = fig[\"handle_\" + msg_type];\n",
       "        } catch (e) {\n",
       "            console.log(\"No handler for the '\" + msg_type + \"' message type: \", msg);\n",
       "            return;\n",
       "        }\n",
       "\n",
       "        if (callback) {\n",
       "            try {\n",
       "                // console.log(\"Handling '\" + msg_type + \"' message: \", msg);\n",
       "                callback(fig, msg);\n",
       "            } catch (e) {\n",
       "                console.log(\"Exception inside the 'handler_\" + msg_type + \"' callback:\", e, e.stack, msg);\n",
       "            }\n",
       "        }\n",
       "    };\n",
       "}\n",
       "\n",
       "// from http://stackoverflow.com/questions/1114465/getting-mouse-location-in-canvas\n",
       "mpl.findpos = function(e) {\n",
       "    //this section is from http://www.quirksmode.org/js/events_properties.html\n",
       "    var targ;\n",
       "    if (!e)\n",
       "        e = window.event;\n",
       "    if (e.target)\n",
       "        targ = e.target;\n",
       "    else if (e.srcElement)\n",
       "        targ = e.srcElement;\n",
       "    if (targ.nodeType == 3) // defeat Safari bug\n",
       "        targ = targ.parentNode;\n",
       "\n",
       "    // jQuery normalizes the pageX and pageY\n",
       "    // pageX,Y are the mouse positions relative to the document\n",
       "    // offset() returns the position of the element relative to the document\n",
       "    var x = e.pageX - $(targ).offset().left;\n",
       "    var y = e.pageY - $(targ).offset().top;\n",
       "\n",
       "    return {\"x\": x, \"y\": y};\n",
       "};\n",
       "\n",
       "/*\n",
       " * return a copy of an object with only non-object keys\n",
       " * we need this to avoid circular references\n",
       " * http://stackoverflow.com/a/24161582/3208463\n",
       " */\n",
       "function simpleKeys (original) {\n",
       "  return Object.keys(original).reduce(function (obj, key) {\n",
       "    if (typeof original[key] !== 'object')\n",
       "        obj[key] = original[key]\n",
       "    return obj;\n",
       "  }, {});\n",
       "}\n",
       "\n",
       "mpl.figure.prototype.mouse_event = function(event, name) {\n",
       "    var canvas_pos = mpl.findpos(event)\n",
       "\n",
       "    if (name === 'button_press')\n",
       "    {\n",
       "        this.canvas.focus();\n",
       "        this.canvas_div.focus();\n",
       "    }\n",
       "\n",
       "    var x = canvas_pos.x * mpl.ratio;\n",
       "    var y = canvas_pos.y * mpl.ratio;\n",
       "\n",
       "    this.send_message(name, {x: x, y: y, button: event.button,\n",
       "                             step: event.step,\n",
       "                             guiEvent: simpleKeys(event)});\n",
       "\n",
       "    /* This prevents the web browser from automatically changing to\n",
       "     * the text insertion cursor when the button is pressed.  We want\n",
       "     * to control all of the cursor setting manually through the\n",
       "     * 'cursor' event from matplotlib */\n",
       "    event.preventDefault();\n",
       "    return false;\n",
       "}\n",
       "\n",
       "mpl.figure.prototype._key_event_extra = function(event, name) {\n",
       "    // Handle any extra behaviour associated with a key event\n",
       "}\n",
       "\n",
       "mpl.figure.prototype.key_event = function(event, name) {\n",
       "\n",
       "    // Prevent repeat events\n",
       "    if (name == 'key_press')\n",
       "    {\n",
       "        if (event.which === this._key)\n",
       "            return;\n",
       "        else\n",
       "            this._key = event.which;\n",
       "    }\n",
       "    if (name == 'key_release')\n",
       "        this._key = null;\n",
       "\n",
       "    var value = '';\n",
       "    if (event.ctrlKey && event.which != 17)\n",
       "        value += \"ctrl+\";\n",
       "    if (event.altKey && event.which != 18)\n",
       "        value += \"alt+\";\n",
       "    if (event.shiftKey && event.which != 16)\n",
       "        value += \"shift+\";\n",
       "\n",
       "    value += 'k';\n",
       "    value += event.which.toString();\n",
       "\n",
       "    this._key_event_extra(event, name);\n",
       "\n",
       "    this.send_message(name, {key: value,\n",
       "                             guiEvent: simpleKeys(event)});\n",
       "    return false;\n",
       "}\n",
       "\n",
       "mpl.figure.prototype.toolbar_button_onclick = function(name) {\n",
       "    if (name == 'download') {\n",
       "        this.handle_save(this, null);\n",
       "    } else {\n",
       "        this.send_message(\"toolbar_button\", {name: name});\n",
       "    }\n",
       "};\n",
       "\n",
       "mpl.figure.prototype.toolbar_button_onmouseover = function(tooltip) {\n",
       "    this.message.textContent = tooltip;\n",
       "};\n",
       "mpl.toolbar_items = [[\"Home\", \"Reset original view\", \"fa fa-home icon-home\", \"home\"], [\"Back\", \"Back to  previous view\", \"fa fa-arrow-left icon-arrow-left\", \"back\"], [\"Forward\", \"Forward to next view\", \"fa fa-arrow-right icon-arrow-right\", \"forward\"], [\"\", \"\", \"\", \"\"], [\"Pan\", \"Pan axes with left mouse, zoom with right\", \"fa fa-arrows icon-move\", \"pan\"], [\"Zoom\", \"Zoom to rectangle\", \"fa fa-square-o icon-check-empty\", \"zoom\"], [\"\", \"\", \"\", \"\"], [\"Download\", \"Download plot\", \"fa fa-floppy-o icon-save\", \"download\"]];\n",
       "\n",
       "mpl.extensions = [\"eps\", \"jpeg\", \"pdf\", \"png\", \"ps\", \"raw\", \"svg\", \"tif\"];\n",
       "\n",
       "mpl.default_extension = \"png\";var comm_websocket_adapter = function(comm) {\n",
       "    // Create a \"websocket\"-like object which calls the given IPython comm\n",
       "    // object with the appropriate methods. Currently this is a non binary\n",
       "    // socket, so there is still some room for performance tuning.\n",
       "    var ws = {};\n",
       "\n",
       "    ws.close = function() {\n",
       "        comm.close()\n",
       "    };\n",
       "    ws.send = function(m) {\n",
       "        //console.log('sending', m);\n",
       "        comm.send(m);\n",
       "    };\n",
       "    // Register the callback with on_msg.\n",
       "    comm.on_msg(function(msg) {\n",
       "        //console.log('receiving', msg['content']['data'], msg);\n",
       "        // Pass the mpl event to the overriden (by mpl) onmessage function.\n",
       "        ws.onmessage(msg['content']['data'])\n",
       "    });\n",
       "    return ws;\n",
       "}\n",
       "\n",
       "mpl.mpl_figure_comm = function(comm, msg) {\n",
       "    // This is the function which gets called when the mpl process\n",
       "    // starts-up an IPython Comm through the \"matplotlib\" channel.\n",
       "\n",
       "    var id = msg.content.data.id;\n",
       "    // Get hold of the div created by the display call when the Comm\n",
       "    // socket was opened in Python.\n",
       "    var element = $(\"#\" + id);\n",
       "    var ws_proxy = comm_websocket_adapter(comm)\n",
       "\n",
       "    function ondownload(figure, format) {\n",
       "        window.open(figure.imageObj.src);\n",
       "    }\n",
       "\n",
       "    var fig = new mpl.figure(id, ws_proxy,\n",
       "                           ondownload,\n",
       "                           element.get(0));\n",
       "\n",
       "    // Call onopen now - mpl needs it, as it is assuming we've passed it a real\n",
       "    // web socket which is closed, not our websocket->open comm proxy.\n",
       "    ws_proxy.onopen();\n",
       "\n",
       "    fig.parent_element = element.get(0);\n",
       "    fig.cell_info = mpl.find_output_cell(\"<div id='\" + id + \"'></div>\");\n",
       "    if (!fig.cell_info) {\n",
       "        console.error(\"Failed to find cell for figure\", id, fig);\n",
       "        return;\n",
       "    }\n",
       "\n",
       "    var output_index = fig.cell_info[2]\n",
       "    var cell = fig.cell_info[0];\n",
       "\n",
       "};\n",
       "\n",
       "mpl.figure.prototype.handle_close = function(fig, msg) {\n",
       "    var width = fig.canvas.width/mpl.ratio\n",
       "    fig.root.unbind('remove')\n",
       "\n",
       "    // Update the output cell to use the data from the current canvas.\n",
       "    fig.push_to_output();\n",
       "    var dataURL = fig.canvas.toDataURL();\n",
       "    // Re-enable the keyboard manager in IPython - without this line, in FF,\n",
       "    // the notebook keyboard shortcuts fail.\n",
       "    IPython.keyboard_manager.enable()\n",
       "    $(fig.parent_element).html('<img src=\"' + dataURL + '\" width=\"' + width + '\">');\n",
       "    fig.close_ws(fig, msg);\n",
       "}\n",
       "\n",
       "mpl.figure.prototype.close_ws = function(fig, msg){\n",
       "    fig.send_message('closing', msg);\n",
       "    // fig.ws.close()\n",
       "}\n",
       "\n",
       "mpl.figure.prototype.push_to_output = function(remove_interactive) {\n",
       "    // Turn the data on the canvas into data in the output cell.\n",
       "    var width = this.canvas.width/mpl.ratio\n",
       "    var dataURL = this.canvas.toDataURL();\n",
       "    this.cell_info[1]['text/html'] = '<img src=\"' + dataURL + '\" width=\"' + width + '\">';\n",
       "}\n",
       "\n",
       "mpl.figure.prototype.updated_canvas_event = function() {\n",
       "    // Tell IPython that the notebook contents must change.\n",
       "    IPython.notebook.set_dirty(true);\n",
       "    this.send_message(\"ack\", {});\n",
       "    var fig = this;\n",
       "    // Wait a second, then push the new image to the DOM so\n",
       "    // that it is saved nicely (might be nice to debounce this).\n",
       "    setTimeout(function () { fig.push_to_output() }, 1000);\n",
       "}\n",
       "\n",
       "mpl.figure.prototype._init_toolbar = function() {\n",
       "    var fig = this;\n",
       "\n",
       "    var nav_element = $('<div/>')\n",
       "    nav_element.attr('style', 'width: 100%');\n",
       "    this.root.append(nav_element);\n",
       "\n",
       "    // Define a callback function for later on.\n",
       "    function toolbar_event(event) {\n",
       "        return fig.toolbar_button_onclick(event['data']);\n",
       "    }\n",
       "    function toolbar_mouse_event(event) {\n",
       "        return fig.toolbar_button_onmouseover(event['data']);\n",
       "    }\n",
       "\n",
       "    for(var toolbar_ind in mpl.toolbar_items){\n",
       "        var name = mpl.toolbar_items[toolbar_ind][0];\n",
       "        var tooltip = mpl.toolbar_items[toolbar_ind][1];\n",
       "        var image = mpl.toolbar_items[toolbar_ind][2];\n",
       "        var method_name = mpl.toolbar_items[toolbar_ind][3];\n",
       "\n",
       "        if (!name) { continue; };\n",
       "\n",
       "        var button = $('<button class=\"btn btn-default\" href=\"#\" title=\"' + name + '\"><i class=\"fa ' + image + ' fa-lg\"></i></button>');\n",
       "        button.click(method_name, toolbar_event);\n",
       "        button.mouseover(tooltip, toolbar_mouse_event);\n",
       "        nav_element.append(button);\n",
       "    }\n",
       "\n",
       "    // Add the status bar.\n",
       "    var status_bar = $('<span class=\"mpl-message\" style=\"text-align:right; float: right;\"/>');\n",
       "    nav_element.append(status_bar);\n",
       "    this.message = status_bar[0];\n",
       "\n",
       "    // Add the close button to the window.\n",
       "    var buttongrp = $('<div class=\"btn-group inline pull-right\"></div>');\n",
       "    var button = $('<button class=\"btn btn-mini btn-primary\" href=\"#\" title=\"Stop Interaction\"><i class=\"fa fa-power-off icon-remove icon-large\"></i></button>');\n",
       "    button.click(function (evt) { fig.handle_close(fig, {}); } );\n",
       "    button.mouseover('Stop Interaction', toolbar_mouse_event);\n",
       "    buttongrp.append(button);\n",
       "    var titlebar = this.root.find($('.ui-dialog-titlebar'));\n",
       "    titlebar.prepend(buttongrp);\n",
       "}\n",
       "\n",
       "mpl.figure.prototype._root_extra_style = function(el){\n",
       "    var fig = this\n",
       "    el.on(\"remove\", function(){\n",
       "\tfig.close_ws(fig, {});\n",
       "    });\n",
       "}\n",
       "\n",
       "mpl.figure.prototype._canvas_extra_style = function(el){\n",
       "    // this is important to make the div 'focusable\n",
       "    el.attr('tabindex', 0)\n",
       "    // reach out to IPython and tell the keyboard manager to turn it's self\n",
       "    // off when our div gets focus\n",
       "\n",
       "    // location in version 3\n",
       "    if (IPython.notebook.keyboard_manager) {\n",
       "        IPython.notebook.keyboard_manager.register_events(el);\n",
       "    }\n",
       "    else {\n",
       "        // location in version 2\n",
       "        IPython.keyboard_manager.register_events(el);\n",
       "    }\n",
       "\n",
       "}\n",
       "\n",
       "mpl.figure.prototype._key_event_extra = function(event, name) {\n",
       "    var manager = IPython.notebook.keyboard_manager;\n",
       "    if (!manager)\n",
       "        manager = IPython.keyboard_manager;\n",
       "\n",
       "    // Check for shift+enter\n",
       "    if (event.shiftKey && event.which == 13) {\n",
       "        this.canvas_div.blur();\n",
       "        // select the cell after this one\n",
       "        var index = IPython.notebook.find_cell_index(this.cell_info[0]);\n",
       "        IPython.notebook.select(index + 1);\n",
       "    }\n",
       "}\n",
       "\n",
       "mpl.figure.prototype.handle_save = function(fig, msg) {\n",
       "    fig.ondownload(fig, null);\n",
       "}\n",
       "\n",
       "\n",
       "mpl.find_output_cell = function(html_output) {\n",
       "    // Return the cell and output element which can be found *uniquely* in the notebook.\n",
       "    // Note - this is a bit hacky, but it is done because the \"notebook_saving.Notebook\"\n",
       "    // IPython event is triggered only after the cells have been serialised, which for\n",
       "    // our purposes (turning an active figure into a static one), is too late.\n",
       "    var cells = IPython.notebook.get_cells();\n",
       "    var ncells = cells.length;\n",
       "    for (var i=0; i<ncells; i++) {\n",
       "        var cell = cells[i];\n",
       "        if (cell.cell_type === 'code'){\n",
       "            for (var j=0; j<cell.output_area.outputs.length; j++) {\n",
       "                var data = cell.output_area.outputs[j];\n",
       "                if (data.data) {\n",
       "                    // IPython >= 3 moved mimebundle to data attribute of output\n",
       "                    data = data.data;\n",
       "                }\n",
       "                if (data['text/html'] == html_output) {\n",
       "                    return [cell, data, j];\n",
       "                }\n",
       "            }\n",
       "        }\n",
       "    }\n",
       "}\n",
       "\n",
       "// Register the function which deals with the matplotlib target/channel.\n",
       "// The kernel may be null if the page has been refreshed.\n",
       "if (IPython.notebook.kernel != null) {\n",
       "    IPython.notebook.kernel.comm_manager.register_target('matplotlib', mpl.mpl_figure_comm);\n",
       "}\n"
      ],
      "text/plain": [
       "<IPython.core.display.Javascript object>"
      ]
     },
     "metadata": {},
     "output_type": "display_data"
    },
    {
     "data": {
      "text/html": [
       "<img src=\"data:image/png;base64,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\" width=\"550\">"
      ],
      "text/plain": [
       "<IPython.core.display.HTML object>"
      ]
     },
     "metadata": {},
     "output_type": "display_data"
    }
   ],
   "source": [
    "from sklearn.metrics import accuracy_score\n",
    "\n",
    "dataset = load_digits()\n",
    "X, y = dataset.data, dataset.target\n",
    "X_train_mc, X_test_mc, y_train_mc, y_test_mc = train_test_split(X, y, random_state=0)\n",
    "\n",
    "\n",
    "svm = SVC(kernel = 'linear').fit(X_train_mc, y_train_mc)\n",
    "svm_predicted_mc = svm.predict(X_test_mc)\n",
    "confusion_mc = confusion_matrix(y_test_mc, svm_predicted_mc)#create a confusion matrix for the multiclass svm \n",
    "df_cm = pd.DataFrame(confusion_mc, \n",
    "                     index = [i for i in range(0,10)], columns = [i for i in range(0,10)])\n",
    "\n",
    "%matplotlib notebook\n",
    "plt.figure(figsize=(5.5,4))\n",
    "sns.heatmap(df_cm, annot=True,cbar = None)\n",
    "plt.title('SVM Linear Kernel \\nAccuracy:{0:.3f}'.format(accuracy_score(y_test_mc, \n",
    "                                                                       svm_predicted_mc)))\n",
    "plt.ylabel('True label')\n",
    "plt.xlabel('Predicted label')\n",
    "\n",
    "\n",
    "svm = SVC(kernel = 'rbf').fit(X_train_mc, y_train_mc)\n",
    "svm_predicted_mc = svm.predict(X_test_mc)\n",
    "confusion_mc = confusion_matrix(y_test_mc, svm_predicted_mc)\n",
    "df_cm = pd.DataFrame(confusion_mc, index = [i for i in range(0,10)],\n",
    "                  columns = [i for i in range(0,10)])\n",
    "\n",
    "plt.figure(figsize = (5.5,4))\n",
    "sns.heatmap(df_cm, annot=True, cbar = None)\n",
    "plt.title('SVM RBF Kernel \\nAccuracy:{0:.3f}'.format(accuracy_score(y_test_mc, \n",
    "                                                                    svm_predicted_mc)))\n",
    "plt.ylabel('True label')\n",
    "plt.xlabel('Predicted label');"
   ]
  },
  {
   "cell_type": "code",
   "execution_count": 36,
   "metadata": {
    "collapsed": false
   },
   "outputs": [
    {
     "data": {
      "text/plain": [
       "0.48666666666666669"
      ]
     },
     "execution_count": 36,
     "metadata": {},
     "output_type": "execute_result"
    }
   ],
   "source": [
    "precision_score(y_test_mc,svm_predicted_mc, average = 'micro')"
   ]
  },
  {
   "cell_type": "code",
   "execution_count": 38,
   "metadata": {
    "collapsed": false
   },
   "outputs": [
    {
     "name": "stdout",
     "output_type": "stream",
     "text": [
      "Cross-validation (AUC) [ 0.9641871   0.9976571   0.99372205  0.99699002  0.98675611]\n",
      "Cross-validation (Recall) [ 0.81081081  0.89189189  0.83333333  0.83333333  0.83333333]\n"
     ]
    }
   ],
   "source": [
    "from sklearn.model_selection import cross_val_score\n",
    "from sklearn.svm import SVC\n",
    "\n",
    "dataset = load_digits()\n",
    "\n",
    "X, y = dataset.data, dataset.target == 1\n",
    "clf = SVC(kernel = 'linear', C = 1)\n",
    "\n",
    "print('Cross-validation (AUC)',cross_val_score(clf,X,y,cv = 5, scoring = 'roc_auc'))\n",
    "print('Cross-validation (Recall)',cross_val_score(clf,X,y,cv = 5, scoring = 'recall'))\n"
   ]
  },
  {
   "cell_type": "code",
   "execution_count": 42,
   "metadata": {
    "collapsed": false
   },
   "outputs": [
    {
     "name": "stdout",
     "output_type": "stream",
     "text": [
      "Grid best parameter (max. accuracy):  {'gamma': 0.001}\n",
      "Grid best score (accuracy) 0.972531551596\n",
      "Test set AUC:  0.992857550997\n",
      "Grid best parameter (max. AUC):  {'gamma': 0.001}\n",
      "Grid best score (AUC):  0.993673024871\n"
     ]
    }
   ],
   "source": [
    "from sklearn.svm import SVC\n",
    "from sklearn.model_selection import GridSearchCV\n",
    "from sklearn.metrics import roc_auc_score\n",
    "\n",
    "X_train, X_test, y_train, y_test = train_test_split(X, y, random_state=0)\n",
    "\n",
    "clf = SVC(kernel = 'linear', C = 1)\n",
    "grid_values = {'gamma': [0.001, 0.01, 0.05, 0.1, 1, 10, 100]}\n",
    "\n",
    "#default metric to optimize over grid parameters: accuracy\n",
    "grid_clf_accuracy = GridSearchCV(clf,param_grid = grid_values)\n",
    "grid_clf_accuracy.fit(X_train,y_train)\n",
    "y_decision_fn_scores_accuracy = grid_clf_accuracy.decision_function(X_test)\n",
    "\n",
    "print('Grid best parameter (max. accuracy): ', grid_clf_accuracy.best_params_)\n",
    "print('Grid best score (accuracy)', grid_clf_accuracy.best_score_)\n",
    "\n",
    "# alternative metric to optimize over grid parameters: AUC\n",
    "grid_clf_auc = GridSearchCV(clf, param_grid = grid_values, scoring = 'roc_auc')\n",
    "grid_clf_auc.fit(X_train, y_train)\n",
    "y_decision_fn_scores_auc = grid_clf_auc.decision_function(X_test) \n",
    "\n",
    "print('Test set AUC: ', roc_auc_score(y_test, y_decision_fn_scores_auc))\n",
    "print('Grid best parameter (max. AUC): ', grid_clf_auc.best_params_)\n",
    "print('Grid best score (AUC): ', grid_clf_auc.best_score_)\n"
   ]
  },
  {
   "cell_type": "code",
   "execution_count": 11,
   "metadata": {
    "collapsed": false
   },
   "outputs": [
    {
     "name": "stdout",
     "output_type": "stream",
     "text": [
      "[ 0.96132597  0.98895028  1.          0.99444444  1.          1.\n",
      "  0.99441341  0.98882682  0.98882682  0.97765363]\n",
      "0.989444135793\n",
      "0.0114657273881\n",
      "[ 0.99512671  0.99902534  1.          0.99897119  1.          1.          1.\n",
      "  0.99930987  0.99758454  0.9989648 ]\n",
      "0.998898245345\n",
      "0.00144917640478\n"
     ]
    }
   ],
   "source": [
    "from sklearn.model_selection import cross_val_score\n",
    "from sklearn.svm import SVC\n",
    "from sklearn.datasets import load_digits\n",
    "import numpy as np\n",
    "\n",
    "\n",
    "data = load_digits()\n",
    "\n",
    "X,y = data.data ,data.target == 1\n",
    "\n",
    "clf = SVC(kernel = 'poly', C = 1)\n",
    "\n",
    "accuracy = cross_val_score(clf,X,y, cv = 10)\n",
    "mean_accuracy = np.mean(accuracy)\n",
    "std_accuracy = np.std(accuracy)\n",
    "\n",
    "print(accuracy)\n",
    "print(mean_accuracy)\n",
    "print(std_accuracy)\n",
    "\n",
    "AUc_shandies = cross_val_score(clf,X,y, cv = 10, scoring = 'roc_auc')\n",
    "mean_auc = np.mean(AUc_shandies)\n",
    "std_auc = np.std(AUc_shandies)\n",
    "\n",
    "print(AUc_shandies)\n",
    "print(mean_auc)\n",
    "print(std_auc)\n",
    "\n",
    "# print('Cross-validation (accuracy)', cross_val_score(clf,X,y, cv = 10))\n",
    "# print('Cross-validation (AUC)', cross_val_score(clf,X,y, cv = 10, scoring = 'roc_auc'))\n",
    "# print('Cross-validation (recall)', cross_val_score(clf,X,y, cv = 10, scoring = 'recall'))"
   ]
  },
  {
   "cell_type": "code",
   "execution_count": 12,
   "metadata": {
    "collapsed": false
   },
   "outputs": [
    {
     "name": "stdout",
     "output_type": "stream",
     "text": [
      "Test set AUC:  0.999942860408\n",
      "Grid best parameter (max. AUC):  {'C': 2, 'gamma': 0.001}\n",
      "Grid best score (AUC):  0.999964037832\n"
     ]
    }
   ],
   "source": [
    "from sklearn.svm import SVC\n",
    "from sklearn.model_selection import GridSearchCV, train_test_split\n",
    "from sklearn.metrics import roc_auc_score\n",
    "\n",
    "dataset = load_digits()\n",
    "X,y = dataset.data , dataset.target == 1\n",
    "\n",
    "X_train, X_test, y_train, y_test = train_test_split(X,y, random_state = 0)\n",
    "\n",
    "clf = SVC(kernel = 'rbf')\n",
    "grid_values = {'gamma': [0.001, 0.01, 0.05, 0.1, 1, 10, 100], 'C': [1,2,3,4,5,6,7]}\n",
    "\n",
    "grid_clf_auc = GridSearchCV(clf, param_grid = grid_values, scoring = 'roc_auc')\n",
    "grid_clf_auc.fit(X_train, y_train)\n",
    "y_decision_fn_scores_auc = grid_clf_auc.decision_function(X_test) \n",
    "\n",
    "print('Test set AUC: ', roc_auc_score(y_test, y_decision_fn_scores_auc))\n",
    "print('Grid best parameter (max. AUC): ', grid_clf_auc.best_params_)\n",
    "print('Grid best score (AUC): ', grid_clf_auc.best_score_)\n"
   ]
  },
  {
   "cell_type": "code",
   "execution_count": 13,
   "metadata": {
    "collapsed": false
   },
   "outputs": [
    {
     "name": "stdout",
     "output_type": "stream",
     "text": [
      "Test set AUC:  0.999828581224\n",
      "Grid best parameter (max. AUC):  {'gamma': 0.001}\n",
      "Grid best score (AUC):  0.99987412783\n"
     ]
    }
   ],
   "source": [
    "from sklearn.svm import SVC\n",
    "from sklearn.model_selection import GridSearchCV, train_test_split\n",
    "from sklearn.metrics import roc_auc_score\n",
    "\n",
    "dataset = load_digits()\n",
    "X,y = dataset.data , dataset.target == 1\n",
    "\n",
    "X_train, X_test, y_train, y_test = train_test_split(X,y, random_state = 0)\n",
    "\n",
    "clf = SVC(kernel = 'rbf')\n",
    "grid_values = {'gamma': [0.001, 0.01, 0.05, 0.1, 1, 10, 100]}\n",
    "\n",
    "grid_clf_auc = GridSearchCV(clf, param_grid = grid_values, scoring = 'roc_auc')\n",
    "grid_clf_auc.fit(X_train, y_train)\n",
    "y_decision_fn_scores_auc = grid_clf_auc.decision_function(X_test) \n",
    "\n",
    "print('Test set AUC: ', roc_auc_score(y_test, y_decision_fn_scores_auc))\n",
    "print('Grid best parameter (max. AUC): ', grid_clf_auc.best_params_)\n",
    "print('Grid best score (AUC): ', grid_clf_auc.best_score_)"
   ]
  },
  {
   "cell_type": "code",
   "execution_count": 14,
   "metadata": {
    "collapsed": false
   },
   "outputs": [
    {
     "name": "stdout",
     "output_type": "stream",
     "text": [
      "['accuracy', 'adjusted_rand_score', 'average_precision', 'f1', 'f1_macro', 'f1_micro', 'f1_samples', 'f1_weighted', 'log_loss', 'mean_absolute_error', 'mean_squared_error', 'median_absolute_error', 'neg_log_loss', 'neg_mean_absolute_error', 'neg_mean_squared_error', 'neg_median_absolute_error', 'precision', 'precision_macro', 'precision_micro', 'precision_samples', 'precision_weighted', 'r2', 'recall', 'recall_macro', 'recall_micro', 'recall_samples', 'recall_weighted', 'roc_auc']\n"
     ]
    }
   ],
   "source": [
    "from sklearn.metrics.scorer import SCORERS\n",
    "\n",
    "print(sorted(list(SCORERS.keys())))"
   ]
  }
 ],
 "metadata": {
  "kernelspec": {
   "display_name": "Python 3",
   "language": "python",
   "name": "python3"
  },
  "language_info": {
   "codemirror_mode": {
    "name": "ipython",
    "version": 3
   },
   "file_extension": ".py",
   "mimetype": "text/x-python",
   "name": "python",
   "nbconvert_exporter": "python",
   "pygments_lexer": "ipython3",
   "version": "3.6.2"
  }
 },
 "nbformat": 4,
 "nbformat_minor": 1
}
